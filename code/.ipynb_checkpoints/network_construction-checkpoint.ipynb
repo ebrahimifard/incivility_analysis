{
 "cells": [
  {
   "cell_type": "code",
   "execution_count": 1,
   "id": "c1af602d-d60e-4643-b11c-bbba46c61c9f",
   "metadata": {},
   "outputs": [],
   "source": [
    "import networkx as nx\n",
    "import numpy as np\n",
    "from pprint import pprint\n",
    "from tqdm import tqdm\n",
    "import random\n",
    "import copy\n",
    "import matplotlib.pyplot as plt\n",
    "import pandas as pd\n",
    "import itertools\n",
    "import pickle as pk\n",
    "import os\n",
    "import json\n",
    "import seaborn as sns\n",
    "import operator as op"
   ]
  },
  {
   "cell_type": "code",
   "execution_count": 2,
   "id": "a8fde2fa-7e9d-40c1-bfc1-d5d397cc5ddc",
   "metadata": {},
   "outputs": [],
   "source": [
    "sns.set_theme()\n",
    "sns.set(font_scale = 2)"
   ]
  },
  {
   "cell_type": "markdown",
   "id": "4ec7f35e-9476-4467-8f80-ecfef13af65f",
   "metadata": {},
   "source": [
    "# Loading and preprocessing the data"
   ]
  },
  {
   "cell_type": "code",
   "execution_count": 3,
   "id": "3060cc86-48f0-4fbc-98d5-f5b0376dfd1a",
   "metadata": {},
   "outputs": [],
   "source": [
    "data_path = \"IMMIGRATION_data\"\n",
    "retrieved_data_path = \"IMMIGRATION_retrieved_tweets\"\n",
    "output_path = \"output\"\n",
    "annotation = \"annotations\""
   ]
  },
  {
   "cell_type": "code",
   "execution_count": 4,
   "id": "1ccdd8f4-317e-4b03-bc0d-f21b1454266b",
   "metadata": {
    "tags": []
   },
   "outputs": [],
   "source": [
    "# loading the conversations and aggregating the conversations\n",
    "raw_conversations = []\n",
    "for file in os.listdir(\"./../data/\"+data_path+\"/\"):\n",
    "    raw_conversations += (np.load(\"./../data/\"+data_path+\"/\"+file,allow_pickle=True).tolist())"
   ]
  },
  {
   "cell_type": "code",
   "execution_count": 5,
   "id": "b0f6695c-2d58-4c66-a870-899462dde591",
   "metadata": {},
   "outputs": [],
   "source": [
    "#Loading retrieved tweets \n",
    "retrieved_tweets = []\n",
    "retrieved_tweets_path = \"./../data/\"+retrieved_data_path+\"/\"\n",
    "retrieved_tweets = [json.load(open(retrieved_tweets_path+file)) for file in os.listdir(retrieved_tweets_path) if os.path.isfile(retrieved_tweets_path + file)]"
   ]
  },
  {
   "cell_type": "code",
   "execution_count": 6,
   "id": "176ede89-c0a5-449c-bfe7-6c4557b4f2a1",
   "metadata": {},
   "outputs": [],
   "source": [
    "#Elimiating the NA entries\n",
    "conversations = [i for i in raw_conversations if i != \"NA\"]"
   ]
  },
  {
   "cell_type": "markdown",
   "id": "f1ad185a-8257-40d4-8605-0923cc598442",
   "metadata": {
    "tags": []
   },
   "source": [
    "# Making conversations out of the tweets"
   ]
  },
  {
   "cell_type": "code",
   "execution_count": 7,
   "id": "6269b569-c64c-43e7-9738-4c4c900b2c9b",
   "metadata": {},
   "outputs": [],
   "source": [
    "tweets_array = []\n",
    "network_array = []\n",
    "disconnected_tweets = []\n",
    "disconnected_networks = []\n",
    "disconnected_networks_nodes = {}"
   ]
  },
  {
   "cell_type": "code",
   "execution_count": 8,
   "id": "ee0ef43a-52c2-4b32-bfc5-12f5280fd1cd",
   "metadata": {},
   "outputs": [
    {
     "name": "stderr",
     "output_type": "stream",
     "text": [
      "100%|█████████████████████████████████████████████████████████████████| 1673/1673 [00:01<00:00, 1473.91it/s]\n"
     ]
    }
   ],
   "source": [
    "for conversation in tqdm(conversations):\n",
    "    \n",
    "    flag1, flag2 = False, False\n",
    "    network = nx.DiGraph()\n",
    "    conversation_id = None\n",
    "    \n",
    "    if \"data\" in conversation.keys():\n",
    "        for tweet in conversation['data']:\n",
    "            conversation_id = tweet[\"conversation_id\"]\n",
    "            source = tweet['id']\n",
    "            if 'referenced_tweets' in tweet.keys():\n",
    "                for reference in tweet['referenced_tweets']:\n",
    "                    if reference['type'] == 'replied_to':\n",
    "                        destination = reference['id']\n",
    "                        network.add_edge(source, destination)\n",
    "                        flag1=True\n",
    "    \n",
    "    if \"includes\" in conversation.keys():\n",
    "        if \"tweets\" in conversation['includes'].keys():\n",
    "            for tweet in conversation['includes']['tweets']:\n",
    "                source = tweet['id']\n",
    "                if 'referenced_tweets' in tweet.keys():\n",
    "                    for reference in tweet['referenced_tweets']:\n",
    "                        if reference['type'] == 'replied_to':\n",
    "                            destination = reference['id']\n",
    "                            network.add_edge(source, destination) \n",
    "                            flag2=True\n",
    "    \n",
    "    if (len(network.nodes) > 0) and (nx.is_connected(network.to_undirected())):\n",
    "        if len(list(nx.simple_cycles(network)))>0:\n",
    "            print(\"Directed cycle found\")\n",
    "        try:\n",
    "            cycle_found = len(nx.find_cycle(network, orientation=\"ignore\"))>0\n",
    "            if cycle_found:\n",
    "                print(\"Undirected cycle found\")\n",
    "        except:\n",
    "            pass\n",
    "    \n",
    "\n",
    "    if (len(network.nodes) > 0) and (not nx.is_connected(network.to_undirected())):\n",
    "        nodes = []\n",
    "        disconnected_tweets.append(conversation)\n",
    "        disconnected_networks.append(network)\n",
    "        subgraphs=list(network.subgraph(c) for c in nx.connected_components(network.to_undirected()))\n",
    "        for component in subgraphs:\n",
    "            nodes.append(len(list(component.nodes)))\n",
    "            if conversation_id not in list(component.nodes):\n",
    "                for node in list(component.nodes):\n",
    "                    if network.out_degree[node] == 0:\n",
    "                        network.add_edge(node, conversation_id)\n",
    "                        break\n",
    "        disconnected_networks_nodes[len(conversation['data'])] =  disconnected_networks_nodes.get(len(conversation['data']), []) + [nodes]\n",
    "\n",
    "                        \n",
    "    if len(network.nodes) > 0 and conversation_id not in list(network.nodes):\n",
    "        for node in list(network.nodes):\n",
    "            if network.out_degree[node] == 0:\n",
    "                network.add_edge(node, conversation_id)\n",
    "                \n",
    "                \n",
    "    \n",
    "    for node in network.nodes:\n",
    "        if network.out_degree(node) > 1:\n",
    "            print(\"Warning! There is a node with out_degree > 1\")\n",
    "    \n",
    "    \n",
    "    if flag1 or flag2:\n",
    "        tweets_array.append(conversation)\n",
    "        network_array.append(network)"
   ]
  },
  {
   "cell_type": "code",
   "execution_count": 9,
   "id": "aea0c8b0-3625-48da-b864-b9ca526fcbcc",
   "metadata": {},
   "outputs": [
    {
     "name": "stdout",
     "output_type": "stream",
     "text": [
      "The number of conversations: 757\n",
      "The number of conversations with disconnected components: 444\n"
     ]
    }
   ],
   "source": [
    "print(\"The number of conversations:\", len(network_array))\n",
    "print(\"The number of conversations with disconnected components:\", len(disconnected_networks))"
   ]
  },
  {
   "cell_type": "code",
   "execution_count": 13,
   "id": "71f33c9c-09dc-427e-bca7-b4418fed3ffc",
   "metadata": {},
   "outputs": [],
   "source": [
    "network_pairs = itertools.combinations(network_array,2)\n",
    "\n",
    "similars = {}\n",
    "equals = []\n",
    "count = 0\n",
    "big_graph = nx.DiGraph()\n",
    "for pair in network_pairs:\n",
    "    count += 1\n",
    "    x = set(pair[0].nodes)\n",
    "    y = set(pair[1].nodes)\n",
    "    intersect = x.intersection(y)\n",
    "    if x.issubset(y) and y.issubset(x):\n",
    "        equals.append(pair) \n",
    "    elif len(intersect) != 0:\n",
    "        similars[pair] = intersect   \n",
    "\n",
    "for pair in similars:\n",
    "    big_graph.add_edges_from(pair[0].edges)\n",
    "    big_graph.add_edges_from(pair[1].edges)"
   ]
  },
  {
   "cell_type": "code",
   "execution_count": 14,
   "id": "8bed611b-fdab-4772-aac7-f68681d1ba27",
   "metadata": {},
   "outputs": [
    {
     "name": "stdout",
     "output_type": "stream",
     "text": [
      "3 0\n"
     ]
    }
   ],
   "source": [
    "print(len(similars), len(equals))"
   ]
  },
  {
   "cell_type": "code",
   "execution_count": 15,
   "id": "4ce7d8ed-518f-4142-bda0-22437b3f3c75",
   "metadata": {},
   "outputs": [],
   "source": [
    "# After analysising the difference between the networks in the network_array and the components in the hyper graph, we concluded that there are 4 tweets that appear in more than one conversations\n",
    "# Their tweet_ids are '1255223987153653760', '1255224509247954944', '1255234731467313154', '1255236472946515974'\n",
    "# For better analysis check the two above cells as well as the bug fixing zone \n",
    "# The implication of this bried analysis is removing the conversations that have those 4 tweets"
   ]
  },
  {
   "cell_type": "code",
   "execution_count": 16,
   "id": "70f71508-09a9-4e0e-8fac-81f48924cb7b",
   "metadata": {},
   "outputs": [],
   "source": [
    "# We remove the networks from networks_array and recreat the hyper network\n",
    "to_be_removed_network = set()\n",
    "for pair in similars:\n",
    "    to_be_removed_network.add(pair[0])\n",
    "    to_be_removed_network.add(pair[1])\n",
    "for pair in equals:\n",
    "    to_be_removed_network.add(pair[0])\n",
    "    to_be_removed_network.add(pair[1])\n",
    "\n",
    "for i in to_be_removed_network:\n",
    "    network_array.remove(i)"
   ]
  },
  {
   "cell_type": "code",
   "execution_count": 17,
   "id": "ecd573ff-7ecd-43d6-bdf5-c33414ee48b2",
   "metadata": {},
   "outputs": [],
   "source": [
    "hyper_network = nx.DiGraph()\n",
    "for graph in network_array:\n",
    "    hyper_network.add_edges_from(graph.edges)"
   ]
  },
  {
   "cell_type": "code",
   "execution_count": 18,
   "id": "e841c721-0da4-4a43-9120-fcea87c0c800",
   "metadata": {},
   "outputs": [
    {
     "name": "stdout",
     "output_type": "stream",
     "text": [
      "751 751\n"
     ]
    }
   ],
   "source": [
    "print(len(network_array), nx.number_connected_components(hyper_network.to_undirected()))"
   ]
  },
  {
   "cell_type": "code",
   "execution_count": 19,
   "id": "2e0268d5-2f15-4618-aae4-9d69bb7ee025",
   "metadata": {},
   "outputs": [],
   "source": [
    "nx.write_gexf(hyper_network, path=\"./../\"+output_path+\"/networks_gexf/\"+\"_conversations_raw.gexf\")"
   ]
  },
  {
   "cell_type": "code",
   "execution_count": 20,
   "id": "cc03092b-43ef-4ce9-8682-1ebe1d947e11",
   "metadata": {},
   "outputs": [],
   "source": [
    "nodes = set()\n",
    "for net in network_array:\n",
    "    for node in list(net.nodes):\n",
    "        nodes.add(node)"
   ]
  },
  {
   "cell_type": "markdown",
   "id": "c7f7c3cc-c3b5-4c65-9e99-3217f08cee9b",
   "metadata": {},
   "source": [
    "# Text and author extraction from the tweets"
   ]
  },
  {
   "cell_type": "code",
   "execution_count": 21,
   "id": "63fa846b-26fc-4d89-a479-8ff02a09aa35",
   "metadata": {},
   "outputs": [
    {
     "name": "stderr",
     "output_type": "stream",
     "text": [
      "100%|████████████████████████████████████████████████████████████████| 1673/1673 [00:00<00:00, 86832.04it/s]\n"
     ]
    }
   ],
   "source": [
    "tweet_text = {tweet_id:None for tweet_id in nodes}\n",
    "tweet_author = {tweet_id:None for tweet_id in nodes}\n",
    "\n",
    "for conversation in tqdm(conversations):\n",
    "    if \"data\" in conversation.keys(): \n",
    "        for tweet in conversation['data']:\n",
    "            tweet_text[tweet[\"id\"]] = tweet[\"text\"]\n",
    "            tweet_author[tweet[\"id\"]] = tweet['author_id']\n",
    "\n",
    "    if \"includes\" in conversation.keys():\n",
    "        if 'tweet' in conversation['includes']:\n",
    "            for tweet in conversation['includes']['tweets']:\n",
    "                tweet_text[tweet[\"id\"]] = tweet[\"text\"]\n",
    "                tweet_author[tweet[\"id\"]] = tweet['author_id']"
   ]
  },
  {
   "cell_type": "code",
   "execution_count": 22,
   "id": "7354699b-1f1b-4b6e-a7de-4262d73cfdc4",
   "metadata": {},
   "outputs": [
    {
     "data": {
      "text/plain": [
       "5978"
      ]
     },
     "execution_count": 22,
     "metadata": {},
     "output_type": "execute_result"
    }
   ],
   "source": [
    "sum([1 for i,j in tweet_text.items() if j is None])"
   ]
  },
  {
   "cell_type": "code",
   "execution_count": 23,
   "id": "1691e61b-aba8-4914-adc0-f964e1bb1988",
   "metadata": {},
   "outputs": [],
   "source": [
    "#Adding retrieved tweets to the tweet_text for the annotation\n",
    "for tweet in retrieved_tweets:\n",
    "    if tweet[\"id_str\"] in nodes:\n",
    "        tweet_text[tweet[\"id_str\"]] = tweet[\"full_text\"]\n",
    "        tweet_author[tweet[\"id_str\"]] = tweet[\"user\"][\"id_str\"]"
   ]
  },
  {
   "cell_type": "code",
   "execution_count": 24,
   "id": "6b6f5705-5ce1-46ab-a9a9-b47b12901805",
   "metadata": {},
   "outputs": [],
   "source": [
    "#I will change the id of tweet_authors with None as user value to a negative number becasue if all the users have None as a username, they will be treated as a smae node in the network\n",
    "number = 0\n",
    "count = -1\n",
    "for tweet_id , author_id in tweet_author.items():\n",
    "    if author_id is None:\n",
    "        number += 1\n",
    "        tweet_author[tweet_id] = count\n",
    "        count -= 1"
   ]
  },
  {
   "cell_type": "code",
   "execution_count": 25,
   "id": "440f2271-2768-4add-9305-3a1c5a1d1142",
   "metadata": {},
   "outputs": [],
   "source": [
    "df = pd.DataFrame.from_dict(tweet_text, orient=\"index\", columns=[\"text\"])\n",
    "df.to_csv(\"./../\"+output_path+\"/csv/\"+\"_tweet_text.csv\")"
   ]
  },
  {
   "cell_type": "code",
   "execution_count": 26,
   "id": "14a64382-66d4-4fa3-a87d-41f1b0a7b67e",
   "metadata": {},
   "outputs": [],
   "source": [
    "no_text_tweets = {i for i,j in tweet_text.items() if j is None}"
   ]
  },
  {
   "cell_type": "code",
   "execution_count": 27,
   "id": "d6e420a5-0678-4422-94b0-f371a42185db",
   "metadata": {},
   "outputs": [
    {
     "name": "stdout",
     "output_type": "stream",
     "text": [
      "3107 3107\n"
     ]
    }
   ],
   "source": [
    "print(len(no_text_tweets), number)"
   ]
  },
  {
   "cell_type": "code",
   "execution_count": 28,
   "id": "25ed1f19-fb34-44b9-916e-32e5ee4a4d4f",
   "metadata": {},
   "outputs": [],
   "source": [
    "# # Finding the tweets without text or author that should be retrieved from Twitter API\n",
    "\n",
    "# to_be_retrieved_tweets = set()\n",
    "\n",
    "# for tweet_id, text in tqdm(tweet_text.items()):\n",
    "#     if text == None:\n",
    "#         to_be_retrieved_tweets.add(tweet_id)\n",
    "# print(len(to_be_retrieved_tweets))\n",
    "\n",
    "# for tweet_id, author_id in tqdm(tweet_author.items()):\n",
    "#     if type(author_id)!=str and author_id<0 :\n",
    "#         to_be_retrieved_tweets.add(tweet_id)\n",
    "# print(len(to_be_retrieved_tweets))\n",
    "\n",
    "\n",
    "# pk.dump(to_be_retrieved_tweets, open(\"./pickles/\"+subject+\"_tweet_ids_for retreival.list\", \"wb\"))"
   ]
  },
  {
   "cell_type": "markdown",
   "id": "151899de-6e3c-4aca-bdcd-5126db0f0977",
   "metadata": {},
   "source": [
    "# Making a tweet-label dictionary"
   ]
  },
  {
   "cell_type": "code",
   "execution_count": 29,
   "id": "fcf157f5-0864-4097-9e92-ce289e5a3cd0",
   "metadata": {},
   "outputs": [],
   "source": [
    "#Loading the annotations\n",
    "annotated_tweets = pd.read_csv(\"./../\"+annotation+\"/conversation_with_incivility_intolerance_8columns.csv\")"
   ]
  },
  {
   "cell_type": "code",
   "execution_count": 30,
   "id": "cd99a1db-0d11-4151-b02e-65ef2e285e03",
   "metadata": {},
   "outputs": [
    {
     "name": "stderr",
     "output_type": "stream",
     "text": [
      "C:\\Users\\P70076~1\\AppData\\Local\\Temp/ipykernel_20760/1462340576.py:3: SettingWithCopyWarning: \n",
      "A value is trying to be set on a copy of a slice from a DataFrame.\n",
      "Try using .loc[row_indexer,col_indexer] = value instead\n",
      "\n",
      "See the caveats in the documentation: https://pandas.pydata.org/pandas-docs/stable/user_guide/indexing.html#returning-a-view-versus-a-copy\n",
      "  annotated_df['tweet_id'] = annotated_df['tweet_id'].astype('str')\n"
     ]
    }
   ],
   "source": [
    "selected_columns = [i for i in annotated_tweets.columns if i not in ['Unnamed: 0', 'text']]\n",
    "annotated_df = annotated_tweets[selected_columns]\n",
    "annotated_df['tweet_id'] = annotated_df['tweet_id'].astype('str')\n",
    "annotation_df = annotated_df.loc[~annotated_df['tweet_id'].isin(no_text_tweets)]\n",
    "for col in [\"relevance\", \"viewpoint\"]:\n",
    "    annotation_df.loc[:][col] = annotation_df.loc[:][col].str.strip()"
   ]
  },
  {
   "cell_type": "code",
   "execution_count": 31,
   "id": "6ee87732-0dec-4b7a-bd21-23006c00f826",
   "metadata": {},
   "outputs": [
    {
     "name": "stdout",
     "output_type": "stream",
     "text": [
      "25131 22024 3107\n"
     ]
    }
   ],
   "source": [
    "print(len(annotated_df), len(annotation_df), len(annotated_df)-len(annotation_df))"
   ]
  },
  {
   "cell_type": "code",
   "execution_count": 32,
   "id": "b75e1529-115f-4ce1-8d09-3f86dddc0aec",
   "metadata": {},
   "outputs": [],
   "source": [
    "# 25131 (len(annotation_df)) - 21994 (len(annotation_df)) = 3137 (which is equal to the number of tweets without the text)"
   ]
  },
  {
   "cell_type": "code",
   "execution_count": 33,
   "id": "041b6cce-71c8-46c4-9153-8d857fa74177",
   "metadata": {},
   "outputs": [
    {
     "name": "stdout",
     "output_type": "stream",
     "text": [
      "['no', 'yes', 'not english'] [nan, 'diagnostic', 'none', 'counter']\n"
     ]
    }
   ],
   "source": [
    "print(list(annotation_df['relevance'].unique()), list(annotation_df['viewpoint'].unique()))"
   ]
  },
  {
   "cell_type": "code",
   "execution_count": 66,
   "id": "d4c35dd8-971b-4381-b5cc-b4f91f51e96e",
   "metadata": {},
   "outputs": [],
   "source": [
    "not_english_records = annotation_df.loc[annotation_df[\"relevance\"]=='not english']"
   ]
  },
  {
   "cell_type": "code",
   "execution_count": 78,
   "id": "2b4381fb-1771-4f50-ac5d-1ce2afd476dc",
   "metadata": {},
   "outputs": [],
   "source": [
    "annotation_df_no_englsih = annotation_df.drop(axis='index', index=not_english_records.index)"
   ]
  },
  {
   "cell_type": "code",
   "execution_count": 77,
   "id": "e1c0e17a-ad44-4436-bbf3-5971726d4e71",
   "metadata": {},
   "outputs": [
    {
     "data": {
      "text/plain": [
       "19593"
      ]
     },
     "execution_count": 77,
     "metadata": {},
     "output_type": "execute_result"
    }
   ],
   "source": [
    "len(annotation_df) - len(not_english_records)"
   ]
  },
  {
   "cell_type": "code",
   "execution_count": null,
   "id": "1c27c639-b146-4f5b-b6ff-bbcfc5f1d035",
   "metadata": {},
   "outputs": [],
   "source": []
  },
  {
   "cell_type": "code",
   "execution_count": null,
   "id": "50afa5f7-2807-46f9-b1f0-1c34053e07a4",
   "metadata": {},
   "outputs": [],
   "source": [
    "annotation_dict = pd.DataFrame.to_dict(annotation_df_no_englsih)\n",
    "annotation_dict[\"label\"] = {i:None for i in annotation_dict[\"tweet_id\"].keys()}"
   ]
  },
  {
   "cell_type": "code",
   "execution_count": null,
   "id": "23c16ae7-d575-4006-90fe-e1fb2b15f896",
   "metadata": {},
   "outputs": [],
   "source": [
    "for index, relevance in annotation_dict[\"relevance\"].items():\n",
    "    if relevance == \"no\":\n",
    "        annotation_dict[\"label\"][index] = \"L1\"\n",
    "    elif relevance == \"yes\":\n",
    "        if annotation_dict[\"viewpoint\"][index] == \"none\":\n",
    "            annotation_dict[\"label\"][index] = \"L2\"\n",
    "        elif annotation_dict[\"viewpoint\"][index] == \"diagnostic\":\n",
    "            annotation_dict[\"label\"][index] = \"L3\"\n",
    "        elif annotation_dict[\"viewpoint\"][index] == \"counter\":\n",
    "            annotation_dict[\"label\"][index] = \"L4\""
   ]
  },
  {
   "cell_type": "code",
   "execution_count": null,
   "id": "77aee35e-33e9-4c9b-8014-f0fe9f2bb48c",
   "metadata": {},
   "outputs": [],
   "source": [
    "annotated_tweets_df = pd.DataFrame.from_dict(annotation_dict)\n",
    "cols = [i for i in annotated_tweets_df if i not in ['relevance', 'viewpoint']]\n",
    "annotated_tweets_df = annotated_tweets_df[cols]\n",
    "annotated_tweets_df.index = annotated_tweets_df[\"tweet_id\"]\n",
    "# labels_dict = pd.DataFrame.to_dict(annotated_tweets_df)[\"label\"]"
   ]
  },
  {
   "cell_type": "code",
   "execution_count": null,
   "id": "662de544-8eac-4c70-940f-2deacdd5738b",
   "metadata": {},
   "outputs": [],
   "source": []
  },
  {
   "cell_type": "code",
   "execution_count": null,
   "id": "cdc1cbe2-c96b-46aa-80fd-0bf55edcd16e",
   "metadata": {},
   "outputs": [],
   "source": []
  },
  {
   "cell_type": "code",
   "execution_count": null,
   "id": "c8e8bcb8-4461-4fbf-a696-64eb3d80da99",
   "metadata": {},
   "outputs": [],
   "source": []
  },
  {
   "cell_type": "code",
   "execution_count": 79,
   "id": "d480869d-50f4-4e96-acd2-81c87579a4f7",
   "metadata": {
    "tags": []
   },
   "outputs": [],
   "source": [
    "# annotation_dict = pd.DataFrame.to_dict(annotation_df)\n",
    "# annotation_dict[\"label\"] = {i:None for i in annotation_dict[\"tweet_id\"].keys()}"
   ]
  },
  {
   "cell_type": "code",
   "execution_count": 80,
   "id": "56662b43-6dba-46e5-a1d8-fc42072887b1",
   "metadata": {},
   "outputs": [],
   "source": [
    "# for index, relevance in annotation_dict[\"relevance\"].items():\n",
    "#     if relevance == \"not english\":\n",
    "#         annotation_dict[\"label\"][index] = \"L0\"\n",
    "#     elif relevance == \"no\":\n",
    "#         annotation_dict[\"label\"][index] = \"L1\"\n",
    "#     elif relevance == \"yes\":\n",
    "#         if annotation_dict[\"viewpoint\"][index] == \"none\":\n",
    "#             annotation_dict[\"label\"][index] = \"L2\"\n",
    "#         elif annotation_dict[\"viewpoint\"][index] == \"diagnostic\":\n",
    "#             annotation_dict[\"label\"][index] = \"L3\"\n",
    "#         elif annotation_dict[\"viewpoint\"][index] == \"counter\":\n",
    "#             annotation_dict[\"label\"][index] = \"L4\""
   ]
  },
  {
   "cell_type": "code",
   "execution_count": 81,
   "id": "fc396e29-2f40-470a-9674-ea2e95d3a348",
   "metadata": {},
   "outputs": [],
   "source": [
    "# annotated_tweets_df = pd.DataFrame.from_dict(annotation_dict)\n",
    "# cols = [i for i in annotated_tweets_df if i not in ['relevance', 'viewpoint']]\n",
    "# annotated_tweets_df = annotated_tweets_df[cols]\n",
    "# annotated_tweets_df.index = annotated_tweets_df[\"tweet_id\"]\n",
    "# labels_dict = pd.DataFrame.to_dict(annotated_tweets_df)[\"label\"]"
   ]
  },
  {
   "cell_type": "code",
   "execution_count": 82,
   "id": "7e511538-c9dc-420a-b62b-1a52f875b3b8",
   "metadata": {},
   "outputs": [],
   "source": [
    "# no_englis_labels = {i for i,j in labels_dict.items() if j == \"L0\"}"
   ]
  },
  {
   "cell_type": "code",
   "execution_count": 83,
   "id": "4c8f5dc6-d0a2-424b-ad13-b5ce6f44bc8e",
   "metadata": {},
   "outputs": [],
   "source": [
    "# # # Aggregating the labels\n",
    "\n",
    "# aggregated_labels = {}\n",
    "    \n",
    "# for tweet_id, label in labels_dict.items():\n",
    "#     if label != \"L0\":\n",
    "#         aggregated_labels[tweet_id] = label"
   ]
  },
  {
   "cell_type": "code",
   "execution_count": 84,
   "id": "8d56da7a-6afe-4a60-bf54-bbe3f1d50f28",
   "metadata": {},
   "outputs": [],
   "source": [
    "# stat = {q:0 for q in set(aggregated_labels.values())}\n",
    "# for v,w in aggregated_labels.items():\n",
    "#     stat[w] += 1\n",
    "# print(stat)"
   ]
  },
  {
   "cell_type": "code",
   "execution_count": null,
   "id": "37b78b97-fc35-40df-9986-7f2828e264d7",
   "metadata": {},
   "outputs": [],
   "source": []
  },
  {
   "cell_type": "code",
   "execution_count": null,
   "id": "ec4d90ec-1008-4b99-a09c-2f3861eb628b",
   "metadata": {},
   "outputs": [],
   "source": []
  },
  {
   "cell_type": "code",
   "execution_count": null,
   "id": "826e7e4e-1f17-4963-b570-24f98f7ed7ab",
   "metadata": {},
   "outputs": [],
   "source": []
  },
  {
   "cell_type": "code",
   "execution_count": null,
   "id": "07b6d8fa-63b9-4484-b911-c8cb3529090f",
   "metadata": {},
   "outputs": [],
   "source": []
  },
  {
   "cell_type": "code",
   "execution_count": null,
   "id": "e4356414-45ad-411b-89ce-0617d68e5c5b",
   "metadata": {},
   "outputs": [],
   "source": []
  },
  {
   "cell_type": "code",
   "execution_count": 40,
   "id": "0f326fac-36cd-4990-9d44-1695bf0a8fbc",
   "metadata": {},
   "outputs": [],
   "source": [
    "# # Collecting irrelevant tweets to pass to the third model for geeting the label\n",
    "# irrelevant_tweets_in_relevant_conversations = {}\n",
    "\n",
    "# for tweet_id, tweet_label in aggregated_labels.items():\n",
    "#     if tweet_label == \"L1\":\n",
    "#         irrelevant_tweets_in_relevant_conversations[tweet_id] = tweet_text[tweet_id]   \n",
    "            \n",
    "# # pk.dump(irrelevant_tweets_in_relevant_conversations, open(\"./pickles/\"+subject+\"_irrelevant_tweets_in_relevant_conversations.pk\", \"wb\"))"
   ]
  },
  {
   "cell_type": "code",
   "execution_count": 41,
   "id": "32148f0c-ed14-401a-964c-389662fb888d",
   "metadata": {},
   "outputs": [],
   "source": [
    "#The following two cells are for labelling irrelevant tweets"
   ]
  },
  {
   "cell_type": "code",
   "execution_count": 42,
   "id": "aa66bb4f-fa4f-4369-a0bd-bde683b6bdf2",
   "metadata": {},
   "outputs": [],
   "source": [
    "# #Loading annotations for irrelevant tweets\n",
    "# irrelevant_labels = np.load(\"./../data/\"+subject+\"_tweet_labels_for_irrelevants_in_relevant_conversations.npy\",allow_pickle=True).tolist()\n",
    "\n",
    "# # print(sum([1 for i,j in irrelevant_labels.items() if j != \"none\"]))\n",
    "\n",
    "# # unique_irrelevant_labels = set()\n",
    "# # for i,j in irrelevant_labels.items():\n",
    "# #     unique_irrelevant_labels.add(j)\n",
    "    \n",
    "\n",
    "# # Adding annotated irrelevant tweets to the label dictionary\n",
    "# irrelevant_labels_dict = {}\n",
    "# for t_id, lbl in irrelevant_labels.items():\n",
    "#     if lbl == \"diagnostic\":\n",
    "#         aggregated_labels[t_id] = \"L3\" \n",
    "#     elif lbl == \"counter\":\n",
    "#         aggregated_labels[t_id] = \"L4\" "
   ]
  },
  {
   "cell_type": "code",
   "execution_count": 43,
   "id": "6e27d5d7-99c3-404f-89d9-94ac72f791fb",
   "metadata": {},
   "outputs": [],
   "source": [
    "# stat = {q:0 for q in set(aggregated_labels.values())}\n",
    "# for v,w in aggregated_labels.items():\n",
    "#     stat[w] += 1\n",
    "# print(stat)"
   ]
  },
  {
   "cell_type": "markdown",
   "id": "39156a8a-80aa-4ad4-8687-4c8b4a35ca05",
   "metadata": {
    "tags": []
   },
   "source": [
    "# Removing the tweets (without text and non-english ones) from the conversations"
   ]
  },
  {
   "cell_type": "code",
   "execution_count": null,
   "id": "bc7c78f0-44b2-41c1-8f86-2f4ae5ab3338",
   "metadata": {},
   "outputs": [],
   "source": [
    "labels_dict = pd.DataFrame.to_dict(annotated_tweets_df)[\"label\"]\n",
    "no_englis_labels = {i for i,j in labels_dict.items() if j == \"L0\"}"
   ]
  },
  {
   "cell_type": "code",
   "execution_count": 44,
   "id": "6eb6928c-e3a2-480c-b7ff-4341348a4101",
   "metadata": {},
   "outputs": [],
   "source": [
    "to_be_removed_tweets = no_text_tweets.union(no_englis_labels)"
   ]
  },
  {
   "cell_type": "code",
   "execution_count": 45,
   "id": "82c5d764-349e-43c5-b678-942fa863cc76",
   "metadata": {},
   "outputs": [
    {
     "data": {
      "text/plain": [
       "5538"
      ]
     },
     "execution_count": 45,
     "metadata": {},
     "output_type": "execute_result"
    }
   ],
   "source": [
    "len(to_be_removed_tweets)"
   ]
  },
  {
   "cell_type": "code",
   "execution_count": 46,
   "id": "ca51a904-be61-4d89-bb30-43742ad6f3e4",
   "metadata": {},
   "outputs": [
    {
     "name": "stderr",
     "output_type": "stream",
     "text": [
      "100%|████████████████████████████████████████████████████████████████████| 751/751 [00:01<00:00, 427.34it/s]\n"
     ]
    }
   ],
   "source": [
    "modified_network_array = []\n",
    "zeros, ones = [], []\n",
    "\n",
    "\n",
    "for network in tqdm(network_array): \n",
    "    flag = True\n",
    "    under_operation_network = copy.deepcopy(network)\n",
    "    nodes_list = network.nodes\n",
    "    \n",
    "    for node in nodes_list:\n",
    "        if node in to_be_removed_tweets:\n",
    "            if under_operation_network.out_degree(node) == 0:\n",
    "                if under_operation_network.in_degree(node) <= 1:\n",
    "                    under_operation_network.remove_node(node)\n",
    "                elif under_operation_network.in_degree(node) > 1:\n",
    "                    in_edges = list(under_operation_network.in_edges(node))\n",
    "                    new_root = in_edges[0][0]\n",
    "                    for elm in in_edges:\n",
    "                        if new_root not in elm: \n",
    "                            under_operation_network.add_edge(elm[0], new_root)\n",
    "                    under_operation_network.remove_node(node)\n",
    "                            \n",
    "            elif under_operation_network.out_degree(node) == 1:\n",
    "                if under_operation_network.in_degree(node) == 0:\n",
    "                    under_operation_network.remove_node(node)\n",
    "                elif under_operation_network.in_degree(node) >= 1:\n",
    "                    in_edges = list(under_operation_network.in_edges(node))\n",
    "                    for elm in in_edges:\n",
    "                        under_operation_network.add_edge(elm[0], list(under_operation_network.out_edges(node))[0][1])\n",
    "                    under_operation_network.remove_node(node)\n",
    "                    \n",
    "    net_size = len(under_operation_network.nodes) \n",
    "    if net_size == 0:\n",
    "        zeros.append(under_operation_network)\n",
    "        flag = False\n",
    "    elif net_size == 1:\n",
    "        ones.append(under_operation_network)\n",
    "        flag = False\n",
    "        \n",
    "\n",
    "        \n",
    "    if (len(under_operation_network.nodes) > 0) and (nx.is_connected(under_operation_network.to_undirected())):\n",
    "        if len(list(nx.simple_cycles(under_operation_network)))>0:\n",
    "            print(\"Directed cycle found\")\n",
    "        try:\n",
    "            cycle_found = len(nx.find_cycle(under_operation_network, orientation=\"ignore\"))>0\n",
    "            if cycle_found:\n",
    "                print(\"Undirected cycle found\")\n",
    "        except:\n",
    "            pass\n",
    "    \n",
    "    if (len(under_operation_network.nodes) > 0) and (not nx.is_connected(under_operation_network.to_undirected())):\n",
    "        print(\"the network is disconnected\")                        \n",
    "                \n",
    "    for node in under_operation_network.nodes:\n",
    "        if under_operation_network.out_degree(node) > 1:\n",
    "            print(\"Warning! node with out-degree>1 is found\")\n",
    "    \n",
    "    # if (len(under_operation_network.nodes) < 3): #Getting rid of networks with the size of tw\n",
    "    #     flag = False\n",
    "        \n",
    "    \n",
    "    if flag:\n",
    "        modified_network_array.append(under_operation_network)"
   ]
  },
  {
   "cell_type": "code",
   "execution_count": 47,
   "id": "c4b6fa55-6f10-405e-a01d-68ebcfc7fe02",
   "metadata": {},
   "outputs": [],
   "source": [
    "modified_hyper_network = nx.DiGraph()\n",
    "for graph in modified_network_array:\n",
    "    modified_hyper_network.add_edges_from(graph.edges)"
   ]
  },
  {
   "cell_type": "code",
   "execution_count": 48,
   "id": "328d606f-f526-429b-aba8-de3bcb96c4ad",
   "metadata": {},
   "outputs": [
    {
     "name": "stdout",
     "output_type": "stream",
     "text": [
      "751 751 658 658\n"
     ]
    }
   ],
   "source": [
    "print(len(network_array), nx.number_connected_components(hyper_network.to_undirected()),  len(modified_network_array), nx.number_connected_components(modified_hyper_network.to_undirected()))"
   ]
  },
  {
   "cell_type": "code",
   "execution_count": 49,
   "id": "b68f2d07-fa07-4c55-a9ba-de22284e2fa0",
   "metadata": {},
   "outputs": [],
   "source": [
    "nx.write_gexf(modified_hyper_network, path=\"./../\"+output_path+\"/networks_gexf/\"+\"_conversations_modified.gexf\")"
   ]
  },
  {
   "cell_type": "markdown",
   "id": "c7c4c8d8-0655-4304-904c-b156f8004b35",
   "metadata": {},
   "source": [
    "# Adding some properties to the modified network nodes"
   ]
  },
  {
   "cell_type": "code",
   "execution_count": 50,
   "id": "8f3c2532-1f37-4c96-a439-5c2ee0defe08",
   "metadata": {},
   "outputs": [
    {
     "name": "stderr",
     "output_type": "stream",
     "text": [
      "100%|█████████████████████████████████████████████████████████████████████| 658/658 [00:19<00:00, 33.74it/s]\n"
     ]
    }
   ],
   "source": [
    "# for network in tqdm(modified_network_array):\n",
    "#     for node in network.nodes:\n",
    "#         network.nodes[node][\"text\"] = tweet_text[node]\n",
    "#         network.nodes[node][\"annotation\"] = aggregated_labels[node]\n",
    "#         network.nodes[node]['profanity'] = annotated_tweets_df.loc[node]['profanity']\n",
    "#         network.nodes[node]['insults'] = annotated_tweets_df.loc[node]['insults']\n",
    "#         network.nodes[node]['char. assn.'] = annotated_tweets_df.loc[node]['char. assn.']\n",
    "#         network.nodes[node]['outrage'] = annotated_tweets_df.loc[node]['outrage']\n",
    "#         network.nodes[node]['L2_intolerance'] = annotated_tweets_df.loc[node]['L2_intolerance']\n",
    "#         network.nodes[node]['discrimination'] = annotated_tweets_df.loc[node]['discrimination']\n",
    "#         network.nodes[node]['intolerance'] = annotated_tweets_df.loc[node]['intolerance']\n",
    "#         network.nodes[node]['incivility'] = annotated_tweets_df.loc[node]['incivility']\n",
    "#         network.nodes[node]['label'] = annotated_tweets_df.loc[node]['label']"
   ]
  },
  {
   "cell_type": "code",
   "execution_count": 51,
   "id": "ee90c77d-e792-42b9-a6b0-2f8e7e3ef6ee",
   "metadata": {},
   "outputs": [],
   "source": [
    "# 1\n",
    "# # modified_hyper_network_with_attributes = nx.DiGraph()\n",
    "# # for graph in modified_network_array:\n",
    "# #     modified_hyper_network_with_attributes.add_nodes_from(graph.nodes)\n",
    "# #     modified_hyper_network_with_attributes.add_edges_from(graph.edges)"
   ]
  },
  {
   "cell_type": "code",
   "execution_count": 52,
   "id": "0e00643e-051a-4513-a156-4f6a25d9bebe",
   "metadata": {},
   "outputs": [],
   "source": [
    "# 2\n",
    "# # print(len(modified_network_array), nx.number_connected_components(modified_hyper_network_with_attributes.to_undirected()))"
   ]
  },
  {
   "cell_type": "code",
   "execution_count": 53,
   "id": "a3341491-c48c-477b-aced-0d4907841fce",
   "metadata": {},
   "outputs": [],
   "source": [
    "# subgraphs=list(modified_hyper_network.subgraph(c) for c in nx.connected_components(modified_hyper_network.to_undirected()))\n",
    "# for component in subgraphs:\n",
    "#     for node in list(component.nodes):\n",
    "#         component.nodes[node][\"text\"] = tweet_text[node]\n",
    "#         component.nodes[node][\"annotation\"] = aggregated_labels[node]"
   ]
  },
  {
   "cell_type": "code",
   "execution_count": 54,
   "id": "855ddb9b-7a4e-46cc-b26f-ab4bc47f93b0",
   "metadata": {},
   "outputs": [],
   "source": [
    "# nx.write_gexf(modified_hyper_network, path=\"./../\"+output_path+\"/networks_gexf/\"+\"_conversations_modified_with_attributes.gexf\")"
   ]
  },
  {
   "cell_type": "code",
   "execution_count": 55,
   "id": "a7009a47-4f0a-4250-ae87-98c53c7a9312",
   "metadata": {},
   "outputs": [
    {
     "name": "stdout",
     "output_type": "stream",
     "text": [
      "751 751 658 658\n"
     ]
    }
   ],
   "source": [
    "print(len(network_array), nx.number_connected_components(hyper_network.to_undirected()),  len(modified_network_array), nx.number_connected_components(modified_hyper_network.to_undirected()))"
   ]
  },
  {
   "cell_type": "markdown",
   "id": "5e1a4189-9dc6-484b-8df9-4030f9a250ea",
   "metadata": {},
   "source": [
    "# Removing enitirely irrelevant conversations networks"
   ]
  },
  {
   "cell_type": "code",
   "execution_count": 56,
   "id": "5d0a1eca-cd14-46a1-9fc4-abd34ff535a1",
   "metadata": {},
   "outputs": [],
   "source": [
    "relevant_network_array = []\n",
    "for network in modified_network_array:\n",
    "    flag = False\n",
    "    for node in network.nodes:\n",
    "        if network.nodes[node][\"annotation\"] != \"L1\":\n",
    "            flag = True\n",
    "            break\n",
    "    if flag:\n",
    "        relevant_network_array.append(network)"
   ]
  },
  {
   "cell_type": "code",
   "execution_count": 57,
   "id": "cd39bd00-dcc6-4821-be8c-508b585c5e7c",
   "metadata": {
    "tags": []
   },
   "outputs": [],
   "source": [
    "# # Generating dictionaries of conversation_id -> labels for Representation factor\n",
    "# count_post = 0\n",
    "# count_pre = 0\n",
    "\n",
    "# conversation_labels_post_aggregation = {}\n",
    "# conversation_labels_pre_aggregation = {}\n",
    "\n",
    "# for net in relevant_network_array:\n",
    "#     lbl_post = []\n",
    "#     lbl_pre = []\n",
    "#     for n in net.nodes:\n",
    "#         lbl_post.append(aggregated_labels[n])\n",
    "#         lbl_pre.append(labels_dict[n])\n",
    "        \n",
    "#     conversation_labels_post_aggregation[count_post] = lbl_post\n",
    "#     count_post += 1\n",
    "#     conversation_labels_pre_aggregation[count_pre] = lbl_pre\n",
    "#     count_pre += 1\n",
    "\n",
    "# pk.dump(conversation_labels_post_aggregation, open(\"./pickles/\"+subject+\"_conversation_labels_post_aggregation.pk\", \"wb\"))\n",
    "# pk.dump(conversation_labels_pre_aggregation, open(\"./pickles/\"+subject+\"_conversation_labels_pre_aggregation.pk\", \"wb\"))"
   ]
  },
  {
   "cell_type": "code",
   "execution_count": 58,
   "id": "6d2c185e-82b6-4bbe-895a-6684aeb6bfe5",
   "metadata": {},
   "outputs": [
    {
     "name": "stdout",
     "output_type": "stream",
     "text": [
      "658 457\n"
     ]
    }
   ],
   "source": [
    "print(len(modified_network_array), len(relevant_network_array))"
   ]
  },
  {
   "cell_type": "code",
   "execution_count": 59,
   "id": "95dc314f-ab78-498b-8b28-9fd2299bd0f9",
   "metadata": {},
   "outputs": [],
   "source": [
    "relevant_modified_hyper_network_with_attributes = nx.DiGraph()\n",
    "for graph in relevant_network_array:\n",
    "    relevant_modified_hyper_network_with_attributes.add_nodes_from(graph.nodes)\n",
    "    relevant_modified_hyper_network_with_attributes.add_edges_from(graph.edges)"
   ]
  },
  {
   "cell_type": "code",
   "execution_count": 60,
   "id": "2f552ddf-17cd-406b-97ff-1d5a6fcafeb7",
   "metadata": {},
   "outputs": [
    {
     "name": "stderr",
     "output_type": "stream",
     "text": [
      "100%|█████████████████████████████████████████████████████████████████████| 457/457 [00:17<00:00, 26.64it/s]\n"
     ]
    }
   ],
   "source": [
    "subgraphs=list(relevant_modified_hyper_network_with_attributes.subgraph(c) for c in nx.connected_components(relevant_modified_hyper_network_with_attributes.to_undirected()))\n",
    "for component in tqdm(subgraphs):\n",
    "    for node in list(component.nodes):\n",
    "        # component.nodes[node][\"text\"] = tweet_text[node]\n",
    "        # component.nodes[node][\"annotation\"] = aggregated_labels[node]\n",
    "        # component.nodes[node][\"text\"] = tweet_text[node]\n",
    "        component.nodes[node][\"annotation\"] = aggregated_labels[node]\n",
    "        component.nodes[node]['profanity'] = annotated_tweets_df.loc[node]['profanity']\n",
    "        component.nodes[node]['insults'] = annotated_tweets_df.loc[node]['insults']\n",
    "        component.nodes[node]['char. assn.'] = annotated_tweets_df.loc[node]['char. assn.']\n",
    "        component.nodes[node]['outrage'] = annotated_tweets_df.loc[node]['outrage']\n",
    "        component.nodes[node]['L2_intolerance'] = annotated_tweets_df.loc[node]['L2_intolerance']\n",
    "        component.nodes[node]['discrimination'] = annotated_tweets_df.loc[node]['discrimination']\n",
    "        component.nodes[node]['intolerance'] = annotated_tweets_df.loc[node]['intolerance']\n",
    "        component.nodes[node]['incivility'] = annotated_tweets_df.loc[node]['incivility']\n",
    "        component.nodes[node]['label'] = annotated_tweets_df.loc[node]['label']"
   ]
  },
  {
   "cell_type": "code",
   "execution_count": 61,
   "id": "4f2bf12b-3cee-4ccd-af70-308dd4362eee",
   "metadata": {},
   "outputs": [
    {
     "data": {
      "text/plain": [
       "457"
      ]
     },
     "execution_count": 61,
     "metadata": {},
     "output_type": "execute_result"
    }
   ],
   "source": [
    "nx.number_connected_components(relevant_modified_hyper_network_with_attributes.to_undirected())"
   ]
  },
  {
   "cell_type": "code",
   "execution_count": 62,
   "id": "5b3bef60-4b2b-45a2-991a-6e3f7ce22b91",
   "metadata": {},
   "outputs": [],
   "source": [
    "nx.write_gexf(relevant_modified_hyper_network_with_attributes, path=\"./../\"+output_path+\"/networks_gexf/\"+\"_conversations_relevant_modified_with_attributes.gexf\")"
   ]
  },
  {
   "cell_type": "code",
   "execution_count": 63,
   "id": "e96fbedd-cb77-46e8-8965-f6e977d594a0",
   "metadata": {},
   "outputs": [],
   "source": [
    "# # Collecting irrelevant tweets to pass to the third model for geeting the label\n",
    "# irrelevant_tweets_in_relevant_conversations = {}\n",
    "\n",
    "# for net in relevant_network_array:\n",
    "#     for node in net.nodes:\n",
    "#         if net.nodes[node][\"annotation\"] == \"L1\":\n",
    "#             irrelevant_tweets_in_relevant_conversations[node] = net.nodes[node][\"text\"]\n",
    "            \n",
    "# pk.dump(irrelevant_tweets_in_relevant_conversations, open(\"./pickles/\"+subject+\"_irrelevant_tweets_in_relevant_conversations.pk\", \"wb\"))"
   ]
  },
  {
   "cell_type": "code",
   "execution_count": null,
   "id": "5ca5c0be-dfb9-4538-a032-354fb3ae6bd3",
   "metadata": {},
   "outputs": [],
   "source": []
  },
  {
   "cell_type": "code",
   "execution_count": null,
   "id": "0afd93fd-6955-43f9-a04d-01674ec39578",
   "metadata": {},
   "outputs": [],
   "source": []
  },
  {
   "cell_type": "code",
   "execution_count": null,
   "id": "357ca871-38bc-4ebf-be0f-b1636eb4c3f8",
   "metadata": {},
   "outputs": [],
   "source": []
  },
  {
   "cell_type": "code",
   "execution_count": null,
   "id": "a6ad3aca-2c5b-412a-a2a6-21355d787c56",
   "metadata": {},
   "outputs": [],
   "source": []
  },
  {
   "cell_type": "code",
   "execution_count": null,
   "id": "14bf1751-1d05-4ed1-9d54-52136bda5fc3",
   "metadata": {},
   "outputs": [],
   "source": []
  },
  {
   "cell_type": "code",
   "execution_count": null,
   "id": "bbdb0e4a-47ad-45ed-8154-60de7822ad33",
   "metadata": {},
   "outputs": [],
   "source": []
  },
  {
   "cell_type": "code",
   "execution_count": null,
   "id": "c3ca01d2-8e98-4956-972c-c3dae18951fe",
   "metadata": {},
   "outputs": [],
   "source": []
  },
  {
   "cell_type": "code",
   "execution_count": null,
   "id": "715a7149-165e-457f-b5de-1b918288b754",
   "metadata": {},
   "outputs": [],
   "source": []
  },
  {
   "cell_type": "code",
   "execution_count": null,
   "id": "6ce9a46f-4059-4f7b-9f8e-d087977629c9",
   "metadata": {},
   "outputs": [],
   "source": []
  },
  {
   "cell_type": "code",
   "execution_count": null,
   "id": "3a8e93fc-2704-4555-bb7d-7ce909fda4e8",
   "metadata": {},
   "outputs": [],
   "source": []
  },
  {
   "cell_type": "code",
   "execution_count": null,
   "id": "72bffa2b-0c24-48ab-a9fb-76e6dd5fafac",
   "metadata": {},
   "outputs": [],
   "source": []
  },
  {
   "cell_type": "code",
   "execution_count": null,
   "id": "787002aa-bca3-4ef2-a23d-2025ef9b7308",
   "metadata": {},
   "outputs": [],
   "source": []
  },
  {
   "cell_type": "code",
   "execution_count": null,
   "id": "5d946202-e5fb-4306-8a0e-ad487937424e",
   "metadata": {},
   "outputs": [],
   "source": []
  },
  {
   "cell_type": "code",
   "execution_count": null,
   "id": "203164f8-702f-4a6b-88bf-104c832cd99d",
   "metadata": {},
   "outputs": [],
   "source": []
  },
  {
   "cell_type": "code",
   "execution_count": null,
   "id": "155a7081-0768-4909-8f0e-459daa14388f",
   "metadata": {},
   "outputs": [],
   "source": []
  },
  {
   "cell_type": "code",
   "execution_count": null,
   "id": "04c4e494-6250-4146-9e68-65241037978c",
   "metadata": {},
   "outputs": [],
   "source": []
  },
  {
   "cell_type": "code",
   "execution_count": null,
   "id": "45a830f8-89a6-4536-bb80-75d9e92279e1",
   "metadata": {},
   "outputs": [],
   "source": []
  },
  {
   "cell_type": "code",
   "execution_count": null,
   "id": "0f9c7097-d7e1-4db6-9a59-1dcea1f79e79",
   "metadata": {},
   "outputs": [],
   "source": []
  },
  {
   "cell_type": "code",
   "execution_count": null,
   "id": "6d94f20c-332c-40c1-80e8-8f427f5e7aad",
   "metadata": {},
   "outputs": [],
   "source": []
  },
  {
   "cell_type": "code",
   "execution_count": null,
   "id": "20d22723-f4f4-492f-8d77-888193087f71",
   "metadata": {},
   "outputs": [],
   "source": []
  },
  {
   "cell_type": "code",
   "execution_count": null,
   "id": "da655aab-1abb-467c-92b9-45894c64c1b4",
   "metadata": {},
   "outputs": [],
   "source": []
  },
  {
   "cell_type": "code",
   "execution_count": null,
   "id": "35a62d76-9b58-41f0-8ff8-92bbd7c46e86",
   "metadata": {},
   "outputs": [],
   "source": []
  },
  {
   "cell_type": "code",
   "execution_count": null,
   "id": "553ade67-3355-4077-9c7c-953740ab1f98",
   "metadata": {},
   "outputs": [],
   "source": []
  },
  {
   "cell_type": "code",
   "execution_count": null,
   "id": "416c7f53-e78a-4943-af4c-7550d3ccbb42",
   "metadata": {},
   "outputs": [],
   "source": []
  },
  {
   "cell_type": "markdown",
   "id": "ee126a3e-0938-41ff-975c-412b257dded9",
   "metadata": {
    "tags": []
   },
   "source": [
    "# Making a viewpoint graph"
   ]
  },
  {
   "cell_type": "code",
   "execution_count": 66,
   "id": "5154f8f9-4292-41d2-a31e-4e2970849354",
   "metadata": {},
   "outputs": [],
   "source": [
    "# Without the self-loop\n",
    "conversation_viewpoint = {}\n",
    "viewpoint_networks = []\n",
    "multi_graph_key_holder = {}\n",
    "viewpoint_network_to_graph_id = {}\n",
    "graph_id_to_viewpoint_network = {}\n",
    "node_collection = {}\n",
    "\n",
    "conversation_network_to_graph_id = {}\n",
    "graph_id_to_conversation_network = {}\n",
    "binary_user_conversations = 0\n",
    "\n",
    "index = 0\n",
    "\n",
    "for graph_id, G in enumerate(relevant_network_array):\n",
    "    U = nx.MultiDiGraph()\n",
    "    N = nx.Graph()\n",
    "    multi_graph_key_holder[graph_id] = {}\n",
    "    for n,d in dict(G.out_degree).items():\n",
    "        if d == 0:\n",
    "            root = n\n",
    "            break\n",
    "    \n",
    "    N.add_node(tweet_author[root])\n",
    "    \n",
    "    iterations = [root]\n",
    "    for node in iterations:\n",
    "        \n",
    "        N.add_node(tweet_author[node])\n",
    "        \n",
    "        source = tweet_author[node]\n",
    "        neighbours = [i for i in nx.Graph.neighbors(G.reverse(),node)]\n",
    "        iterations += neighbours\n",
    "\n",
    "        seen = [tweet_author[i] for i in nx.Graph.neighbors(G,node)]\n",
    "        \n",
    "        for neighbour in neighbours:\n",
    "            \n",
    "            N.add_node(tweet_author[neighbour])\n",
    "            \n",
    "            destination = tweet_author[neighbour]\n",
    "            \n",
    "            if source == destination:\n",
    "                pass\n",
    "            elif destination in seen:\n",
    "                if (destination, source, aggregated_labels[neighbour]) in multi_graph_key_holder[graph_id].keys():\n",
    "                    U.edges[(destination, source, multi_graph_key_holder[graph_id][(destination, source, aggregated_labels[neighbour])])][\"weight\"] += 1    \n",
    "                else:\n",
    "                    multi_graph_key_holder[graph_id][(destination, source, aggregated_labels[neighbour])] = index\n",
    "                    U.add_edge(destination, source, key=index, kind=aggregated_labels[neighbour], weight=1)\n",
    "                    index += 1\n",
    "\n",
    "            else:\n",
    "                if (source, destination, aggregated_labels[node]) in multi_graph_key_holder[graph_id].keys():\n",
    "                    U.edges[(source, destination, multi_graph_key_holder[graph_id][(source, destination, aggregated_labels[node])])][\"weight\"] += 1\n",
    "                else:\n",
    "                    multi_graph_key_holder[graph_id][(source, destination, aggregated_labels[node])] = index\n",
    "                    U.add_edge(source, destination, key=index, kind=aggregated_labels[node], weight=1)\n",
    "                    index += 1\n",
    "                \n",
    "                if (destination, source, aggregated_labels[neighbour]) in multi_graph_key_holder[graph_id].keys():\n",
    "                    U.edges[(destination, source, multi_graph_key_holder[graph_id][(destination, source, aggregated_labels[neighbour])])][\"weight\"] += 1\n",
    "                else:\n",
    "                    multi_graph_key_holder[graph_id][(destination, source, aggregated_labels[neighbour])] = index\n",
    "                    U.add_edge(destination, source, key=index, kind=aggregated_labels[neighbour], weight=1)\n",
    "                    index += 1\n",
    "                    \n",
    "    # We don't add conversations threads (conversations created by just one user)\n",
    "    if len(U.nodes) > 1:\n",
    "        viewpoint_networks.append(U)\n",
    "        viewpoint_network_to_graph_id[U] = graph_id\n",
    "        graph_id_to_viewpoint_network[graph_id] = U\n",
    "        conversation_viewpoint[G] = U\n",
    "\n",
    "        conversation_network_to_graph_id[G] = graph_id\n",
    "        graph_id_to_conversation_network[graph_id] = G\n",
    "    node_collection[graph_id] = N\n",
    "        \n",
    "    if len(U.nodes) == 1:\n",
    "        print(U.nodes)\n",
    "        print(U.edges)\n",
    "        \n",
    "    if len(U.nodes) == 2:\n",
    "        binary_user_conversations += 1"
   ]
  },
  {
   "cell_type": "code",
   "execution_count": 67,
   "id": "3d3bdc57-ff69-440c-9140-31d33d06567a",
   "metadata": {},
   "outputs": [],
   "source": [
    "# # With self-loop\n",
    "\n",
    "# ### Here we have an assumption that there is no possibility of isolated set of nodes because in the previous step (conversation building) we construct conneceted graphs with minimum of two messages\n",
    "\n",
    "# conversation_viewpoint = {}\n",
    "# viewpoint_networks = []\n",
    "# multi_graph_key_holder = {}\n",
    "# viewpoint_network_to_graph_id = {}\n",
    "# graph_id_to_viewpoint_network = {}\n",
    "# node_collection = {}\n",
    "\n",
    "# conversation_network_to_graph_id = {}\n",
    "# graph_id_to_conversation_network = {}\n",
    "# binary_user_conversations = 0\n",
    "\n",
    "# index = 0\n",
    "\n",
    "# for graph_id, G in enumerate(relevant_network_array):\n",
    "#     U = nx.MultiDiGraph()\n",
    "#     N = nx.Graph()\n",
    "#     multi_graph_key_holder[graph_id] = {}\n",
    "    \n",
    "#     for n,d in dict(G.out_degree).items():\n",
    "#         if d == 0:\n",
    "#             root = n\n",
    "#             break\n",
    "    \n",
    "#     N.add_node(tweet_author[root])\n",
    "    \n",
    "#     iterations = [root]\n",
    "#     for node in iterations:\n",
    "        \n",
    "#         N.add_node(tweet_author[node])\n",
    "        \n",
    "#         source = tweet_author[node]\n",
    "#         neighbours = [i for i in nx.Graph.neighbors(G.reverse(),node)]\n",
    "#         iterations += neighbours\n",
    "\n",
    "#         seen = [tweet_author[i] for i in nx.Graph.neighbors(G,node)]\n",
    "        \n",
    "#         if (source, source, aggregated_labels[node]) in multi_graph_key_holder[graph_id].keys():\n",
    "#             U.edges[(source, source, multi_graph_key_holder[graph_id][(source, source, aggregated_labels[node])])][\"weight\"] += 1\n",
    "#         else:\n",
    "#             multi_graph_key_holder[graph_id][(source, source, aggregated_labels[node])] = index\n",
    "#             U.add_edge(source, source, key=index, kind=aggregated_labels[node], weight=1)\n",
    "#             index += 1\n",
    "        \n",
    "#         for neighbour in neighbours:\n",
    "            \n",
    "#             N.add_node(tweet_author[neighbour])\n",
    "            \n",
    "#             destination = tweet_author[neighbour]\n",
    "            \n",
    "#             if source == destination:\n",
    "#                 pass\n",
    "#             elif destination in seen:\n",
    "#                 if (destination, source, aggregated_labels[neighbour]) in multi_graph_key_holder[graph_id].keys():\n",
    "#                     U.edges[(destination, source, multi_graph_key_holder[graph_id][(destination, source, aggregated_labels[neighbour])])][\"weight\"] += 1    \n",
    "#                 else:\n",
    "#                     multi_graph_key_holder[graph_id][(destination, source, aggregated_labels[neighbour])] = index\n",
    "#                     U.add_edge(destination, source, key=index, kind=aggregated_labels[neighbour], weight=1)\n",
    "#                     index += 1\n",
    "\n",
    "#             else:\n",
    "#                 if (source, destination, aggregated_labels[node]) in multi_graph_key_holder[graph_id].keys():\n",
    "#                     U.edges[(source, destination, multi_graph_key_holder[graph_id][(source, destination, aggregated_labels[node])])][\"weight\"] += 1\n",
    "#                 else:\n",
    "#                     multi_graph_key_holder[graph_id][(source, destination, aggregated_labels[node])] = index\n",
    "#                     U.add_edge(source, destination, key=index, kind=aggregated_labels[node], weight=1)\n",
    "#                     index += 1\n",
    "                \n",
    "#                 if (destination, source, aggregated_labels[neighbour]) in multi_graph_key_holder[graph_id].keys():\n",
    "#                     U.edges[(destination, source, multi_graph_key_holder[graph_id][(destination, source, aggregated_labels[neighbour])])][\"weight\"] += 1\n",
    "#                 else:\n",
    "#                     multi_graph_key_holder[graph_id][(destination, source, aggregated_labels[neighbour])] = index\n",
    "#                     U.add_edge(destination, source, key=index, kind=aggregated_labels[neighbour], weight=1)\n",
    "#                     index += 1\n",
    "                    \n",
    "#     # We don't add conversations threads (conversations created by just one user)\n",
    "#     if len(U.nodes) > 1:\n",
    "#         viewpoint_networks.append(U)\n",
    "#         viewpoint_network_to_graph_id[U] = graph_id\n",
    "#         graph_id_to_viewpoint_network[graph_id] = U\n",
    "#         conversation_viewpoint[G] = U\n",
    "\n",
    "#         conversation_network_to_graph_id[G] = graph_id\n",
    "#         graph_id_to_conversation_network[graph_id] = G\n",
    "#     node_collection[graph_id] = N\n",
    "        \n",
    "#     # if len(U.nodes) == 1:\n",
    "#     #     print(U.nodes)\n",
    "#     #     print(U.edges)\n",
    "        \n",
    "#     if len(U.nodes) == 2:\n",
    "#         binary_user_conversations += 1"
   ]
  },
  {
   "cell_type": "code",
   "execution_count": 68,
   "id": "7d3c6030-c73c-4084-80d2-a1258079cdc1",
   "metadata": {},
   "outputs": [
    {
     "data": {
      "text/plain": [
       "879"
      ]
     },
     "execution_count": 68,
     "metadata": {},
     "output_type": "execute_result"
    }
   ],
   "source": [
    "binary_user_conversations"
   ]
  },
  {
   "cell_type": "code",
   "execution_count": 69,
   "id": "171e15b4-705d-4d1d-8142-e6f8ddf0fa12",
   "metadata": {},
   "outputs": [],
   "source": [
    "users_list = set()\n",
    "for nt in viewpoint_networks:\n",
    "    for u in nt.nodes:\n",
    "        users_list.add(u)"
   ]
  },
  {
   "cell_type": "code",
   "execution_count": 70,
   "id": "8817764d-3a4a-4c8c-8fb1-bae7ebab301f",
   "metadata": {},
   "outputs": [
    {
     "data": {
      "text/plain": [
       "10402"
      ]
     },
     "execution_count": 70,
     "metadata": {},
     "output_type": "execute_result"
    }
   ],
   "source": [
    "len(users_list)"
   ]
  },
  {
   "cell_type": "code",
   "execution_count": 71,
   "id": "e52d9a4f-33a5-4e50-bb69-06c170e80956",
   "metadata": {},
   "outputs": [
    {
     "data": {
      "text/plain": [
       "1740"
      ]
     },
     "execution_count": 71,
     "metadata": {},
     "output_type": "execute_result"
    }
   ],
   "source": [
    "len(graph_id_to_conversation_network)"
   ]
  },
  {
   "cell_type": "code",
   "execution_count": 72,
   "id": "bd4e1609-9ae4-4fa3-9a27-7e1d0249de76",
   "metadata": {},
   "outputs": [],
   "source": [
    "c = 0\n",
    "for g_id, graph in node_collection.items():\n",
    "    if len(graph.nodes) == 1:\n",
    "        c+=1"
   ]
  },
  {
   "cell_type": "code",
   "execution_count": 73,
   "id": "49b22cb6-5f64-4286-ae24-cb87ff9c2180",
   "metadata": {},
   "outputs": [
    {
     "name": "stdout",
     "output_type": "stream",
     "text": [
      "2050 310\n"
     ]
    }
   ],
   "source": [
    "print(len(relevant_network_array), c)"
   ]
  },
  {
   "cell_type": "code",
   "execution_count": 74,
   "id": "da45ac44-e7a9-4924-ad86-05065a93d45f",
   "metadata": {},
   "outputs": [],
   "source": [
    "# 1890 (the number of conversations) - 283 (number of threads) = 1607"
   ]
  },
  {
   "cell_type": "markdown",
   "id": "5a7a9dbd-254b-4e63-abee-7dcf4aa94fdb",
   "metadata": {},
   "source": [
    "# Creating the viewpoint matrix"
   ]
  },
  {
   "cell_type": "code",
   "execution_count": 75,
   "id": "b1a4f40a-d4bc-4def-9be4-4fc320e7e667",
   "metadata": {},
   "outputs": [],
   "source": [
    "exposed_viewpoints_dict = {}\n",
    "exposed_viewpoints_df = {}\n",
    "for graph in viewpoint_networks:\n",
    "    edges = multi_graph_key_holder[viewpoint_network_to_graph_id[graph]].keys()\n",
    "    \n",
    "    exposed_viewpoints_dict[viewpoint_network_to_graph_id[graph]] = {}\n",
    "    \n",
    "    for node in graph.nodes:\n",
    "        influencers = [i for i in nx.Graph.neighbors(graph.reverse(),node)]\n",
    "        influential_edges = []\n",
    "        \n",
    "        for influencer in influencers:\n",
    "            for edge in edges:\n",
    "                if (influencer == edge[0]) and (node == edge[1]):\n",
    "                    influential_edges.append(edge)\n",
    "        \n",
    "        exposed_viewpoints_dict[viewpoint_network_to_graph_id[graph]][node]={label:0 for label in [\"L1\", \"L2\", \"L3\", \"L4\"]}\n",
    "        \n",
    "        for inward in influential_edges:\n",
    "            exposed_viewpoints_dict[viewpoint_network_to_graph_id[graph]][node][inward[2]] = exposed_viewpoints_dict[viewpoint_network_to_graph_id[graph]][node].get(inward[2], 0) + graph.edges[(inward[0], inward[1], multi_graph_key_holder[viewpoint_network_to_graph_id[graph]][inward] )][\"weight\"]\n",
    "    exposed_viewpoints_df[viewpoint_network_to_graph_id[graph]] = pd.DataFrame.from_dict(exposed_viewpoints_dict[viewpoint_network_to_graph_id[graph]])"
   ]
  },
  {
   "cell_type": "code",
   "execution_count": 76,
   "id": "38b84069-d242-48ce-b248-d82823d25ec2",
   "metadata": {},
   "outputs": [],
   "source": [
    "#Setting L1 and L2 to zero\n",
    "exposed_viewpoints_df_L1L2_ZERO = copy.deepcopy(exposed_viewpoints_df)\n",
    "for dframe_id, dframe in exposed_viewpoints_df_L1L2_ZERO.items():\n",
    "    exposed_viewpoints_df_L1L2_ZERO[dframe_id].loc[\"L1\"] = 0\n",
    "    exposed_viewpoints_df_L1L2_ZERO[dframe_id].loc[\"L2\"] = 0"
   ]
  },
  {
   "cell_type": "code",
   "execution_count": 77,
   "id": "77a012f5-6d88-4bec-97d9-0f9eab83a0aa",
   "metadata": {},
   "outputs": [],
   "source": [
    "#Dropping L1 and L2 (in request of Sarah)\n",
    "exposed_viewpoints_df_L1L2_drop = copy.deepcopy(exposed_viewpoints_df)\n",
    "for dframe_id, dframe in exposed_viewpoints_df_L1L2_drop.items():\n",
    "    exposed_viewpoints_df_L1L2_drop[dframe_id] = dframe.drop(index=[\"L1\", \"L2\"])"
   ]
  },
  {
   "cell_type": "markdown",
   "id": "17e9950c-7ce9-4cf4-b5dd-f9ea0ce98b38",
   "metadata": {},
   "source": [
    "# Creating the conversation details"
   ]
  },
  {
   "cell_type": "code",
   "execution_count": 78,
   "id": "df609590-95fb-46e3-9461-d804913a6d9b",
   "metadata": {},
   "outputs": [],
   "source": [
    "conversation_details = {}\n",
    "for conv, conv_id in conversation_network_to_graph_id.items():\n",
    "    conversation_details[conv_id] = {}\n",
    "    conversation_details[conv_id][\"labels\"] = {}\n",
    "    conversation_details[conv_id][\"labels_fraction\"] = {i:0 for i in set(aggregated_labels.values())}\n",
    "    conversation_details[conv_id][\"size\"] = len(conv.nodes)\n",
    "    conversation_details[conv_id][\"depth\"] = None\n",
    "    conversation_details[conv_id][\"authors\"] = []\n",
    "    conversation_details[conv_id][\"authors_count\"] = None\n",
    "    conversation_details[conv_id][\"distinct_authors_count\"] = None\n",
    "    conversation_details[conv_id][\"WI\"] = None\n",
    "    conversation_details[conv_id][\"conversation_graph\"] = conv\n",
    "    conversation_details[conv_id][\"viewpoint_graph\"] = graph_id_to_viewpoint_network[conv_id]\n",
    "    conversation_details[conv_id][\"viewpoint_matrix\"] = exposed_viewpoints_df[conv_id]\n",
    "    conversation_details[conv_id][\"root_node\"] = None\n",
    "    conversation_details[conv_id][\"root_node_label\"] = None\n",
    "    \n",
    "    \n",
    "    for n,d in dict(conv.out_degree).items():\n",
    "        if d == 0:\n",
    "            conversation_details[conv_id][\"root_node\"] = n\n",
    "            conversation_details[conv_id][\"root_node_label\"] = aggregated_labels[n]\n",
    "            break\n",
    "    \n",
    "    for node in conv.nodes:\n",
    "        label = aggregated_labels[node]\n",
    "        conversation_details[conv_id][\"labels\"][label] = conversation_details[conv_id][\"labels\"].get(label, 0) + 1\n",
    "        conversation_details[conv_id][\"authors\"].append(tweet_author[node])\n",
    "    conversation_details[conv_id][\"authors_count\"] = len(conversation_details[conv_id][\"authors\"])\n",
    "    conversation_details[conv_id][\"distinct_authors_count\"] = len(set(conversation_details[conv_id][\"authors\"]))\n",
    "    \n",
    "    for lbl in conversation_details[conv_id][\"labels\"]:\n",
    "        conversation_details[conv_id][\"labels_fraction\"][lbl] = conversation_details[conv_id][\"labels\"][lbl] / conversation_details[conv_id][\"size\"]   \n",
    "        \n",
    "    max_path = 0\n",
    "    leaves = []\n",
    "    paths = []\n",
    "    for node in conv.nodes:\n",
    "        if conv.out_degree(node) == 0:\n",
    "            root = node\n",
    "        elif conv.in_degree(node) == 0:\n",
    "            leaves.append(node)\n",
    "    for leaf in leaves:\n",
    "        paths.append(len([i for i in nx.shortest_simple_paths(conv, leaf, root)][0])-1)\n",
    "        max_path = np.max(paths)\n",
    "    conversation_details[conv_id][\"depth\"] = max_path\n",
    "    \n",
    "    node_size = len(conv.nodes())\n",
    "    conversation_details[conv_id][\"WI\"] = nx.algorithms.wiener.wiener_index(conv.to_undirected(())) / ((node_size*(node_size-1))/2)"
   ]
  },
  {
   "cell_type": "code",
   "execution_count": 79,
   "id": "c5a0eec0-a6a0-48af-a4eb-b57fbee454c0",
   "metadata": {},
   "outputs": [],
   "source": [
    "pk.dump(conversation_details, open(\"./pickles/\"+subject+\"_conversation_details.pk\", \"wb\"))"
   ]
  },
  {
   "cell_type": "code",
   "execution_count": 80,
   "id": "a375632e-54fe-454a-9934-f0237faac9a4",
   "metadata": {},
   "outputs": [],
   "source": [
    "conversation_details_df_subset = pd.DataFrame.from_dict(conversation_details, orient='index')[['size', 'depth','distinct_authors_count', 'authors_count', 'WI']]"
   ]
  },
  {
   "cell_type": "code",
   "execution_count": 81,
   "id": "45ea4aa3-e651-49db-ab9b-d5ce5274c14a",
   "metadata": {},
   "outputs": [],
   "source": [
    "pk.dump(conversation_details_df_subset, open(\"./pickles/\"+subject+\"_conversation_details_df_subset.pk\", \"wb\"))"
   ]
  },
  {
   "cell_type": "markdown",
   "id": "54c32a4a-9335-407f-b709-03b79bea62cd",
   "metadata": {
    "tags": []
   },
   "source": [
    "# Measuring the similarity between pairs of user-viewpoint vectors"
   ]
  },
  {
   "cell_type": "code",
   "execution_count": 82,
   "id": "e57b6ea5-663f-4a30-aebd-5a5eab847c15",
   "metadata": {},
   "outputs": [],
   "source": [
    "cosine_similarity_dict = {}\n",
    "cosine_similarity_df = {}\n",
    "\n",
    "for graph_id, viewpoint_matrix in exposed_viewpoints_df.items():\n",
    "    cosine_similarity_dict[graph_id] = {}\n",
    "    \n",
    "    cols = viewpoint_matrix.columns\n",
    "    df = pd.DataFrame({p:[0 for q in range(len(cols))] for p in cols}, index=[cols])\n",
    "\n",
    "    pairs = list(itertools.combinations(cols, 2))\n",
    "    for pair in pairs:\n",
    "        vector1 = viewpoint_matrix[pair[0]]\n",
    "        vector2 = viewpoint_matrix[pair[1]]\n",
    "        cosine_similarity_dict[graph_id][pair] = np.dot(vector1, vector2)/np.round((np.linalg.norm(vector1)*np.linalg.norm(vector2)),10)\n",
    "        df.at[pair[1], pair[0]] = cosine_similarity_dict[graph_id][pair]\n",
    "        # df.loc[pair[0]][pair[1]] = cosine_similarity_dict[graph_id][pair]\n",
    "    cosine_similarity_df[graph_id] = df"
   ]
  },
  {
   "cell_type": "code",
   "execution_count": 83,
   "id": "4dffd044-1508-46af-b7bf-cfc78722c44b",
   "metadata": {},
   "outputs": [],
   "source": [
    "user_level_fragmentation = {}\n",
    "for graph_id, user_pairs in cosine_similarity_dict.items():\n",
    "    user_level_fragmentation[graph_id] = {}\n",
    "    for pair, score in user_pairs.items():\n",
    "        user_level_fragmentation[graph_id][pair[0]] = user_level_fragmentation[graph_id].get(pair[0], []) + [score]\n",
    "        user_level_fragmentation[graph_id][pair[1]] = user_level_fragmentation[graph_id].get(pair[1], []) + [score]\n",
    "    for user_id, user_scores in user_level_fragmentation[graph_id].items():\n",
    "        user_level_fragmentation[graph_id][user_id] = 1 - np.mean(user_scores)"
   ]
  },
  {
   "cell_type": "code",
   "execution_count": 84,
   "id": "22dac071-7456-4c55-82cd-9d76fd77ff26",
   "metadata": {},
   "outputs": [],
   "source": [
    "user_level_fragmentation_scores = []\n",
    "for g_id, pairs in user_level_fragmentation.items():\n",
    "    user_level_fragmentation_scores += list(pairs.values())"
   ]
  },
  {
   "cell_type": "code",
   "execution_count": 85,
   "id": "6d13b27a-a974-4311-b910-84c60dfae4dc",
   "metadata": {},
   "outputs": [],
   "source": [
    "# fig, ax = plt.subplots(figsize=(8,6))\n",
    "# sns.histplot(user_level_fragmentation_scores,kde=True, bins=20, stat=\"probability\", binrange=[0,1], cumulative=True)\n",
    "# # ax.get_legend().remove()\n",
    "# ax.set_xlabel(\"Fragmentation score\")\n",
    "# ax.set_ylabel(\"CDF\")\n",
    "# plt.savefig(\"./figures/\"+subject+\"_fragmentation_user_level_CDF.png\")"
   ]
  },
  {
   "cell_type": "code",
   "execution_count": 86,
   "id": "c55ed616-fe64-4f9e-a90a-ec89bc4c4e02",
   "metadata": {},
   "outputs": [
    {
     "data": {
      "image/png": "[encoded data removed]",
      "text/plain": [
       "<Figure size 576x432 with 1 Axes>"
      ]
     },
     "metadata": {},
     "output_type": "display_data"
    }
   ],
   "source": [
    "fig, ax = plt.subplots(figsize=(8,6))\n",
    "sns.histplot(user_level_fragmentation_scores, kde=True,bins=20, stat=\"probability\", binrange=[0,1])\n",
    "# ax.get_legend().remove()\n",
    "if subject==\"IMMIGRATION\":\n",
    "    ax.set_title(\"Immigration\")\n",
    "elif subject==\"DTS\":\n",
    "    ax.set_title(\"DST\")\n",
    "    \n",
    "ax.set_ylim(0,0.7)\n",
    "ax.set_xlabel(\"Fragmentation score\")\n",
    "plt.savefig(\"./figures/\"+subject+\"_fragmentation_user_level_(without_self_loop).pdf\", bbox_inches='tight')"
   ]
  },
  {
   "cell_type": "code",
   "execution_count": 87,
   "id": "d166c997-35be-4b57-bbef-08a0c3b63443",
   "metadata": {},
   "outputs": [
    {
     "name": "stderr",
     "output_type": "stream",
     "text": [
      "C:\\Users\\P70076~1\\AppData\\Local\\Temp/ipykernel_22304/2276961752.py:14: RuntimeWarning: invalid value encountered in true_divide\n",
      "  cosine_similarity_dict_L1L2_drop[graph_id][pair] = np.dot(vector1, vector2)/np.round((np.linalg.norm(vector1)*np.linalg.norm(vector2)),10)\n"
     ]
    }
   ],
   "source": [
    "cosine_similarity_dict_L1L2_drop = {}\n",
    "cosine_similarity_df_L1L2_drop = {}\n",
    "\n",
    "for graph_id, viewpoint_matrix in exposed_viewpoints_df_L1L2_drop.items():\n",
    "    cosine_similarity_dict_L1L2_drop[graph_id] = {}\n",
    "    \n",
    "    cols_L1L2_drop = viewpoint_matrix.columns\n",
    "    df_L1L2_drop = pd.DataFrame({p:[0 for q in range(len(cols_L1L2_drop))] for p in cols_L1L2_drop}, index=[cols_L1L2_drop])\n",
    "\n",
    "    pairs_L1L2_drop = list(itertools.combinations(cols_L1L2_drop, 2))\n",
    "    for pair in pairs_L1L2_drop:\n",
    "        vector1 = viewpoint_matrix[pair[0]]\n",
    "        vector2 = viewpoint_matrix[pair[1]]\n",
    "        cosine_similarity_dict_L1L2_drop[graph_id][pair] = np.dot(vector1, vector2)/np.round((np.linalg.norm(vector1)*np.linalg.norm(vector2)),10)\n",
    "        df_L1L2_drop.at[pair[1], pair[0]] = cosine_similarity_dict_L1L2_drop[graph_id][pair]\n",
    "        # df.loc[pair[0]][pair[1]] = cosine_similarity_dict[graph_id][pair]\n",
    "    cosine_similarity_df_L1L2_drop[graph_id] = df_L1L2_drop"
   ]
  },
  {
   "cell_type": "code",
   "execution_count": 88,
   "id": "05fa8926-5f41-42e6-b7c3-2c96c3fed6ff",
   "metadata": {},
   "outputs": [],
   "source": [
    "user_level_fragmentation_L1L2_drop = {}\n",
    "for graph_id, user_pairs in cosine_similarity_dict_L1L2_drop.items():\n",
    "    user_level_fragmentation_L1L2_drop[graph_id] = {}\n",
    "    for pair, score in user_pairs.items():\n",
    "        user_level_fragmentation_L1L2_drop[graph_id][pair[0]] = user_level_fragmentation_L1L2_drop[graph_id].get(pair[0], []) + [score]\n",
    "        user_level_fragmentation_L1L2_drop[graph_id][pair[1]] = user_level_fragmentation_L1L2_drop[graph_id].get(pair[1], []) + [score]\n",
    "    for user_id, user_scores in user_level_fragmentation_L1L2_drop[graph_id].items():\n",
    "        user_level_fragmentation_L1L2_drop[graph_id][user_id] = 1 - np.mean(user_scores)"
   ]
  },
  {
   "cell_type": "code",
   "execution_count": 89,
   "id": "46e3662d-0e02-4340-9488-0dc495ca3fd7",
   "metadata": {},
   "outputs": [],
   "source": [
    "user_level_fragmentation_scores_L1L2_drop = []\n",
    "for g_id, pairs in user_level_fragmentation_L1L2_drop.items():\n",
    "    user_level_fragmentation_scores_L1L2_drop += list(pairs.values())"
   ]
  },
  {
   "cell_type": "code",
   "execution_count": 90,
   "id": "7fdb84d5-821c-48e1-a3ae-c6274c33bc18",
   "metadata": {},
   "outputs": [
    {
     "data": {
      "image/png": "[encoded data removed]",
      "text/plain": [
       "<Figure size 576x432 with 1 Axes>"
      ]
     },
     "metadata": {},
     "output_type": "display_data"
    }
   ],
   "source": [
    "fig, ax = plt.subplots(figsize=(8,6))\n",
    "sns.histplot(user_level_fragmentation_scores_L1L2_drop, kde=True,bins=20, stat=\"probability\", binrange=[0,1])\n",
    "# ax.get_legend().remove()\n",
    "if subject==\"IMMIGRATION\":\n",
    "    ax.set_title(\"Immigration\")\n",
    "elif subject==\"DTS\":\n",
    "    ax.set_title(\"DST\")\n",
    "    \n",
    "ax.set_ylim(0,0.9)\n",
    "ax.set_xlabel(\"Fragmentation score\")\n",
    "plt.savefig(\"./figures/\"+subject+\"_fragmentation_user_level_L1L2_drop_(without_self_loop).pdf\", bbox_inches='tight')"
   ]
  },
  {
   "cell_type": "markdown",
   "id": "9e3027d1-ac94-4640-93b3-b6f096849868",
   "metadata": {},
   "source": [
    "# Component distribution"
   ]
  },
  {
   "cell_type": "code",
   "execution_count": 91,
   "id": "72b8bbc6-53ea-4d41-b9e5-cc7b7fab94fb",
   "metadata": {},
   "outputs": [],
   "source": [
    "#Conversation size histogram\n",
    "conversation_size_histogram_list = []\n",
    "conversation_size_histogram_dict = {}\n",
    "\n",
    "for conv_id, conv in conversation_details.items():\n",
    "    conversation_size_histogram_list.append(conv[\"size\"])\n",
    "    conversation_size_histogram_dict[conv[\"size\"]] = conversation_size_histogram_dict.get(conv[\"size\"], 0) + 1"
   ]
  },
  {
   "cell_type": "code",
   "execution_count": 92,
   "id": "b128f0f6-0bac-4064-83b0-1320e4762743",
   "metadata": {},
   "outputs": [],
   "source": [
    "#Preparation for CDF and CCDF\n",
    "total = 0\n",
    "for i,j in conversation_size_histogram_dict.items():\n",
    "    total += j\n",
    "\n",
    "conv_size_list = sorted(conversation_size_histogram_dict.keys())\n",
    "conversation_size_ccdf_dict_fraction = {}\n",
    "conversation_size_cdf_dict_fraction = {}\n",
    "\n",
    "for p in conv_size_list:\n",
    "    numerator = 0\n",
    "    for q in conv_size_list:\n",
    "        if q<=p:\n",
    "            numerator += conversation_size_histogram_dict[q]\n",
    "    conversation_size_cdf_dict_fraction[p] = numerator/total\n",
    "    conversation_size_ccdf_dict_fraction[p] = 1 - (numerator/total)     "
   ]
  },
  {
   "cell_type": "code",
   "execution_count": 93,
   "id": "1990f64e-b365-4a14-881c-375619d2718d",
   "metadata": {},
   "outputs": [
    {
     "data": {
      "image/png": "[encoded data removed]",
      "text/plain": [
       "<Figure size 576x432 with 1 Axes>"
      ]
     },
     "metadata": {},
     "output_type": "display_data"
    }
   ],
   "source": [
    "fig, ax = plt.subplots(figsize=(8,6))\n",
    "sns.lineplot(data=conversation_size_cdf_dict_fraction)\n",
    "ax.set_ylabel(\"CDF\")\n",
    "ax.set_xlabel(\"Conversation size\")\n",
    "plt.savefig(\"./figures/\"+subject+\"_conversation_size_histogram.eps\")"
   ]
  },
  {
   "cell_type": "code",
   "execution_count": 94,
   "id": "7d7ebb95-66fb-465d-88c2-bde97d270955",
   "metadata": {},
   "outputs": [],
   "source": [
    "# fig, ax = plt.subplots(figsize=(8,6))\n",
    "# sns.histplot(conversation_size_ccdf_dict_fraction, stat=\"probability\", binrange=[0,85], binwidth=1, cumulative=True)\n",
    "# # ax.get_legend().remove()\n",
    "# # ax.set_ylim(0,0.3)\n",
    "# ax.set_ylabel(\"CDF\")\n",
    "# ax.set_xlabel(\"Conversation size\")\n",
    "# plt.savefig(\"./figures/\"+subject+\"_conversation_size_histogram.png\")"
   ]
  },
  {
   "cell_type": "code",
   "execution_count": 95,
   "id": "65ebe306-02e8-4446-9bb5-868d74059060",
   "metadata": {},
   "outputs": [],
   "source": [
    "#Conversation length histogram\n",
    "conversation_length_histogram_list = []\n",
    "conversation_length_histogram_dict = {}\n",
    "\n",
    "for conv_id, conv in conversation_details.items():\n",
    "    max_path = 0\n",
    "    leaves = []\n",
    "    paths = []\n",
    "    for node in conv[\"conversation_graph\"].nodes:\n",
    "        if conv[\"conversation_graph\"].out_degree(node) == 0:\n",
    "            root = node\n",
    "        elif conv[\"conversation_graph\"].in_degree(node) == 0:\n",
    "            leaves.append(node)\n",
    "    for leaf in leaves:\n",
    "        paths.append(len([i for i in nx.shortest_simple_paths(conv[\"conversation_graph\"], leaf, root)][0])-1)\n",
    "        max_path = np.max(paths)\n",
    "        # print(max_path)\n",
    "    \n",
    "    conversation_length_histogram_list.append(max_path)\n",
    "    conversation_length_histogram_dict[max_path] = conversation_length_histogram_dict.get(max_path, 0) + 1"
   ]
  },
  {
   "cell_type": "code",
   "execution_count": 96,
   "id": "a56ae377-55f4-4a47-a2e7-c2d36fa7a30a",
   "metadata": {},
   "outputs": [
    {
     "name": "stderr",
     "output_type": "stream",
     "text": [
      "The PostScript backend does not support transparency; partially transparent artists will be rendered opaque.\n",
      "The PostScript backend does not support transparency; partially transparent artists will be rendered opaque.\n",
      "The PostScript backend does not support transparency; partially transparent artists will be rendered opaque.\n",
      "The PostScript backend does not support transparency; partially transparent artists will be rendered opaque.\n",
      "The PostScript backend does not support transparency; partially transparent artists will be rendered opaque.\n",
      "The PostScript backend does not support transparency; partially transparent artists will be rendered opaque.\n",
      "The PostScript backend does not support transparency; partially transparent artists will be rendered opaque.\n",
      "The PostScript backend does not support transparency; partially transparent artists will be rendered opaque.\n",
      "The PostScript backend does not support transparency; partially transparent artists will be rendered opaque.\n",
      "The PostScript backend does not support transparency; partially transparent artists will be rendered opaque.\n",
      "The PostScript backend does not support transparency; partially transparent artists will be rendered opaque.\n",
      "The PostScript backend does not support transparency; partially transparent artists will be rendered opaque.\n",
      "The PostScript backend does not support transparency; partially transparent artists will be rendered opaque.\n",
      "The PostScript backend does not support transparency; partially transparent artists will be rendered opaque.\n",
      "The PostScript backend does not support transparency; partially transparent artists will be rendered opaque.\n",
      "The PostScript backend does not support transparency; partially transparent artists will be rendered opaque.\n",
      "The PostScript backend does not support transparency; partially transparent artists will be rendered opaque.\n",
      "The PostScript backend does not support transparency; partially transparent artists will be rendered opaque.\n",
      "The PostScript backend does not support transparency; partially transparent artists will be rendered opaque.\n",
      "The PostScript backend does not support transparency; partially transparent artists will be rendered opaque.\n",
      "The PostScript backend does not support transparency; partially transparent artists will be rendered opaque.\n",
      "The PostScript backend does not support transparency; partially transparent artists will be rendered opaque.\n",
      "The PostScript backend does not support transparency; partially transparent artists will be rendered opaque.\n",
      "The PostScript backend does not support transparency; partially transparent artists will be rendered opaque.\n",
      "The PostScript backend does not support transparency; partially transparent artists will be rendered opaque.\n",
      "The PostScript backend does not support transparency; partially transparent artists will be rendered opaque.\n",
      "The PostScript backend does not support transparency; partially transparent artists will be rendered opaque.\n",
      "The PostScript backend does not support transparency; partially transparent artists will be rendered opaque.\n",
      "The PostScript backend does not support transparency; partially transparent artists will be rendered opaque.\n",
      "The PostScript backend does not support transparency; partially transparent artists will be rendered opaque.\n",
      "The PostScript backend does not support transparency; partially transparent artists will be rendered opaque.\n",
      "The PostScript backend does not support transparency; partially transparent artists will be rendered opaque.\n",
      "The PostScript backend does not support transparency; partially transparent artists will be rendered opaque.\n",
      "The PostScript backend does not support transparency; partially transparent artists will be rendered opaque.\n",
      "The PostScript backend does not support transparency; partially transparent artists will be rendered opaque.\n",
      "The PostScript backend does not support transparency; partially transparent artists will be rendered opaque.\n",
      "The PostScript backend does not support transparency; partially transparent artists will be rendered opaque.\n",
      "The PostScript backend does not support transparency; partially transparent artists will be rendered opaque.\n",
      "The PostScript backend does not support transparency; partially transparent artists will be rendered opaque.\n",
      "The PostScript backend does not support transparency; partially transparent artists will be rendered opaque.\n",
      "The PostScript backend does not support transparency; partially transparent artists will be rendered opaque.\n",
      "The PostScript backend does not support transparency; partially transparent artists will be rendered opaque.\n",
      "The PostScript backend does not support transparency; partially transparent artists will be rendered opaque.\n",
      "The PostScript backend does not support transparency; partially transparent artists will be rendered opaque.\n",
      "The PostScript backend does not support transparency; partially transparent artists will be rendered opaque.\n"
     ]
    },
    {
     "data": {
      "image/png": "[encoded data removed]",
      "text/plain": [
       "<Figure size 576x432 with 1 Axes>"
      ]
     },
     "metadata": {},
     "output_type": "display_data"
    }
   ],
   "source": [
    "fig, ax = plt.subplots(figsize=(8,6))\n",
    "sns.histplot(conversation_length_histogram_list, stat=\"probability\", binrange=[0,45], binwidth=1, cumulative=True)\n",
    "# ax.get_legend().remove()\n",
    "# ax.set_ylim(0,0.5)\n",
    "ax.set_ylabel(\"CDF\")\n",
    "ax.set_xlabel(\"Conversation length\")\n",
    "plt.savefig(\"./figures/\"+subject+\"_conversation_length_histogram.eps\")"
   ]
  },
  {
   "cell_type": "code",
   "execution_count": 97,
   "id": "c8b20f9a-da57-4107-a2a8-1b38ec1887ac",
   "metadata": {},
   "outputs": [],
   "source": [
    "# Labelling conversation graphs with the corresponding fragmentation score\n",
    "tweet_to_network_id = {}\n",
    "for network in conversation_network_to_graph_id.keys():\n",
    "    for node in network.nodes:\n",
    "        tweet_to_network_id[node] = conversation_network_to_graph_id[network]\n",
    "\n",
    "\n",
    "relevant_modified_hyper_network_with_attributes_frag_score = nx.DiGraph()\n",
    "for graph in conversation_network_to_graph_id.keys():\n",
    "    relevant_modified_hyper_network_with_attributes_frag_score.add_nodes_from(graph.nodes)\n",
    "    relevant_modified_hyper_network_with_attributes_frag_score.add_edges_from(graph.edges)\n",
    "    \n",
    "subgraphs=list(relevant_modified_hyper_network_with_attributes_frag_score.subgraph(c) for c in nx.connected_components(relevant_modified_hyper_network_with_attributes_frag_score.to_undirected()))\n",
    "for component in subgraphs:\n",
    "    for node in list(component.nodes):\n",
    "        component.nodes[node][\"text\"] = tweet_text[node]\n",
    "        component.nodes[node][\"annotation\"] = aggregated_labels[node]\n",
    "        component.nodes[node][\"fragmentation\"] = user_level_fragmentation[tweet_to_network_id[node]][tweet_author[node]]\n",
    "        component.nodes[node][\"author\"] = tweet_author[node]"
   ]
  },
  {
   "cell_type": "code",
   "execution_count": 98,
   "id": "ab9820c5-f67e-448b-be4d-689a4b57c05e",
   "metadata": {},
   "outputs": [],
   "source": [
    "nx.write_gexf(relevant_modified_hyper_network_with_attributes_frag_score, path=\"./networks_gexf/\"+subject+\"_conversations_relevant_modified_with_attributes_frag_score.gexf\")"
   ]
  },
  {
   "cell_type": "code",
   "execution_count": 99,
   "id": "60baab0a-bd0b-4ca7-a359-8c60bc9c5326",
   "metadata": {},
   "outputs": [
    {
     "data": {
      "text/plain": [
       "1740"
      ]
     },
     "execution_count": 99,
     "metadata": {},
     "output_type": "execute_result"
    }
   ],
   "source": [
    "nx.number_connected_components(relevant_modified_hyper_network_with_attributes_frag_score.to_undirected())"
   ]
  },
  {
   "cell_type": "code",
   "execution_count": 100,
   "id": "61c652b0-43ff-404e-9aa6-14e5199d50fc",
   "metadata": {},
   "outputs": [
    {
     "data": {
      "text/plain": [
       "15133"
      ]
     },
     "execution_count": 100,
     "metadata": {},
     "output_type": "execute_result"
    }
   ],
   "source": [
    "len(relevant_modified_hyper_network_with_attributes_frag_score.nodes)"
   ]
  },
  {
   "cell_type": "code",
   "execution_count": 101,
   "id": "183aeb9e-14b2-4978-a191-2dcf227da148",
   "metadata": {},
   "outputs": [
    {
     "data": {
      "text/plain": [
       "13393"
      ]
     },
     "execution_count": 101,
     "metadata": {},
     "output_type": "execute_result"
    }
   ],
   "source": [
    "len(relevant_modified_hyper_network_with_attributes_frag_score.edges)"
   ]
  },
  {
   "cell_type": "code",
   "execution_count": 102,
   "id": "ccd6f224-6cef-466b-9fbb-4968387027f5",
   "metadata": {},
   "outputs": [
    {
     "data": {
      "text/plain": [
       "1740"
      ]
     },
     "execution_count": 102,
     "metadata": {},
     "output_type": "execute_result"
    }
   ],
   "source": [
    "15133 - 13393"
   ]
  },
  {
   "cell_type": "code",
   "execution_count": 103,
   "id": "19a31590-a8e9-46e3-9e4f-65bf9c8f0d52",
   "metadata": {},
   "outputs": [],
   "source": [
    "# Generating dictionaries of conversation_id -> labels for Representation factor\n",
    "count_post = 0\n",
    "count_pre = 0\n",
    "\n",
    "conversation_labels_post_aggregation = {}\n",
    "conversation_labels_pre_aggregation = {}\n",
    "\n",
    "subgraphs=list(relevant_modified_hyper_network_with_attributes_frag_score.subgraph(c) for c in nx.connected_components(relevant_modified_hyper_network_with_attributes_frag_score.to_undirected()))\n",
    "\n",
    "for net in subgraphs:\n",
    "    lbl_post = []\n",
    "    lbl_pre = []\n",
    "    for n in net.nodes:\n",
    "        lbl_post.append(aggregated_labels[n])\n",
    "        lbl_pre.append(labels_dict[n])\n",
    "        \n",
    "    conversation_labels_post_aggregation[count_post] = lbl_post\n",
    "    count_post += 1\n",
    "    conversation_labels_pre_aggregation[count_pre] = lbl_pre\n",
    "    count_pre += 1\n",
    "\n",
    "pk.dump(conversation_labels_post_aggregation, open(\"./pickles/\"+subject+\"_conversation_labels_post_aggregation.pk\", \"wb\"))\n",
    "pk.dump(conversation_labels_pre_aggregation, open(\"./pickles/\"+subject+\"_conversation_labels_pre_aggregation.pk\", \"wb\"))"
   ]
  },
  {
   "cell_type": "code",
   "execution_count": null,
   "id": "2c57aaa7-ecd3-4dc9-9ab3-8f111615303c",
   "metadata": {},
   "outputs": [],
   "source": []
  },
  {
   "cell_type": "code",
   "execution_count": null,
   "id": "6b32dea3-f593-4d49-b503-341c792e215d",
   "metadata": {},
   "outputs": [],
   "source": []
  },
  {
   "cell_type": "code",
   "execution_count": null,
   "id": "026ee173-ee7a-4058-b9f0-7bc33dea8f96",
   "metadata": {},
   "outputs": [],
   "source": []
  },
  {
   "cell_type": "code",
   "execution_count": 104,
   "id": "bc9d089b-8a33-43ca-8c71-9cd2d88f89dd",
   "metadata": {},
   "outputs": [],
   "source": [
    "# user_level_fragmentation_conv_size = {}\n",
    "\n",
    "# for conv_id, user_fragmentations in user_level_fragmentation.items():\n",
    "#     user_frags = list(user_fragmentations.values())\n",
    "#     user_level_fragmentation_conv_size[len(user_fragmentations.keys())] = user_level_fragmentation_conv_size.get(len(user_fragmentations.keys()), []) + user_frags"
   ]
  },
  {
   "cell_type": "code",
   "execution_count": 105,
   "id": "d1228c60-475d-4b15-bd88-688eb7725f60",
   "metadata": {},
   "outputs": [],
   "source": [
    "# two_users_conversations = []\n",
    "# for conv_id, pairs in cosine_similarity_dict.items():\n",
    "#     if len(pairs.keys()) == 1:\n",
    "#         two_users_conversations.append(conv_id)"
   ]
  },
  {
   "cell_type": "code",
   "execution_count": 106,
   "id": "96845509-c776-4d72-8aa1-0779bc3a36e3",
   "metadata": {},
   "outputs": [],
   "source": [
    "# # sort keys and values together\n",
    "# sorted_keys, sorted_vals = zip(*sorted(user_level_fragmentation_conv_size.items(), key=op.itemgetter(0)))\n",
    "\n",
    "# fig, ax = plt.subplots(figsize=(26,8))\n",
    "# # sns.axlabel(xlabel=\"Groups\", ylabel=\"Y-Axis\", fontsize=16)\n",
    "# sns.violinplot(data=sorted_vals)\n",
    "# ax.set_xlabel(\"Number of unique users\")\n",
    "# # category labels\n",
    "# plt.xticks(plt.xticks()[0], sorted_keys)"
   ]
  },
  {
   "cell_type": "code",
   "execution_count": null,
   "id": "7340996b-e662-48df-9ed3-732a95d32f7e",
   "metadata": {},
   "outputs": [],
   "source": []
  },
  {
   "cell_type": "code",
   "execution_count": null,
   "id": "cdc2737e-bf97-4254-ba89-13c8c65cd1c8",
   "metadata": {},
   "outputs": [],
   "source": []
  },
  {
   "cell_type": "code",
   "execution_count": 107,
   "id": "fb708e85-a300-4d95-8444-589af2fd3ee9",
   "metadata": {},
   "outputs": [
    {
     "data": {
      "text/plain": [
       "2"
      ]
     },
     "execution_count": 107,
     "metadata": {},
     "output_type": "execute_result"
    }
   ],
   "source": [
    "1+1"
   ]
  },
  {
   "cell_type": "code",
   "execution_count": 108,
   "id": "f3d179b8-b4a7-4d8b-b593-95d06f95ea7a",
   "metadata": {},
   "outputs": [
    {
     "data": {
      "text/plain": [
       "1"
      ]
     },
     "execution_count": 108,
     "metadata": {},
     "output_type": "execute_result"
    }
   ],
   "source": [
    "1"
   ]
  },
  {
   "cell_type": "code",
   "execution_count": null,
   "id": "4b494730-b538-4ef5-95ac-30ffd31029ae",
   "metadata": {},
   "outputs": [],
   "source": []
  },
  {
   "cell_type": "code",
   "execution_count": null,
   "id": "594fc11b-50a0-4bf6-b418-15c399535d0e",
   "metadata": {},
   "outputs": [],
   "source": []
  },
  {
   "cell_type": "code",
   "execution_count": null,
   "id": "aeb139a0-9971-4b8f-933f-276941fa083c",
   "metadata": {},
   "outputs": [],
   "source": []
  },
  {
   "cell_type": "code",
   "execution_count": null,
   "id": "42be5af2-4f3c-45b3-9527-ec3b8fa19deb",
   "metadata": {},
   "outputs": [],
   "source": []
  },
  {
   "cell_type": "code",
   "execution_count": null,
   "id": "6d665678-778d-4c44-aa16-f0ac5a867d69",
   "metadata": {},
   "outputs": [],
   "source": []
  },
  {
   "cell_type": "code",
   "execution_count": null,
   "id": "71f8d5e1-9709-4e07-832f-b1d7092ddc7f",
   "metadata": {},
   "outputs": [],
   "source": []
  },
  {
   "cell_type": "code",
   "execution_count": null,
   "id": "42c83e05-a97d-47dc-8937-2d8552732afc",
   "metadata": {},
   "outputs": [],
   "source": []
  },
  {
   "cell_type": "code",
   "execution_count": null,
   "id": "4f0dcc3e-c702-4565-996d-6be85ffbf4ac",
   "metadata": {},
   "outputs": [],
   "source": []
  },
  {
   "cell_type": "code",
   "execution_count": null,
   "id": "e74b03ef-4060-447c-a833-aff6998cc46d",
   "metadata": {},
   "outputs": [],
   "source": []
  },
  {
   "cell_type": "code",
   "execution_count": null,
   "id": "9f99adf9-016d-4594-983f-675b9e4ba7d2",
   "metadata": {},
   "outputs": [],
   "source": []
  },
  {
   "cell_type": "code",
   "execution_count": null,
   "id": "81ecf6fa-d565-412e-ae1b-60e65c2cd3a7",
   "metadata": {},
   "outputs": [],
   "source": []
  },
  {
   "cell_type": "code",
   "execution_count": null,
   "id": "1d112495-313d-41dc-b8c8-486b6b5bf6f6",
   "metadata": {},
   "outputs": [],
   "source": []
  },
  {
   "cell_type": "code",
   "execution_count": null,
   "id": "bbd20ed7-28cf-4908-aa54-7fc9c9662226",
   "metadata": {},
   "outputs": [],
   "source": []
  },
  {
   "cell_type": "code",
   "execution_count": null,
   "id": "79e94580-036d-4560-8d8e-65ce0cce64ae",
   "metadata": {},
   "outputs": [],
   "source": []
  },
  {
   "cell_type": "code",
   "execution_count": null,
   "id": "bc08e1e9-e80f-4a82-b269-25485c2e2d47",
   "metadata": {},
   "outputs": [],
   "source": [
    "fragmentation = {}\n",
    "for graph_id, viewpoint_similarity_dict in cosine_similarity_dict.items():\n",
    "    viewpoint_simialrites = list(viewpoint_similarity_dict.values())\n",
    "    # fragmentation[graph_id] = np.std(viewpoint_simialrites) # We decided to change the aggregation function\n",
    "    fragmentation[graph_id] = 1 - np.mean(viewpoint_simialrites)"
   ]
  },
  {
   "cell_type": "code",
   "execution_count": null,
   "id": "fd887f0e-bfa8-423c-87dc-4d5772a98c6f",
   "metadata": {},
   "outputs": [],
   "source": [
    "# #Normalising the fragmentation scores\n",
    "# normalisation_factor = max(fragmentation.values())\n",
    "# for conversation_id, fragmentation_score in fragmentation.items():\n",
    "#     fragmentation[conversation_id] = fragmentation_score / normalisation_factor"
   ]
  },
  {
   "cell_type": "code",
   "execution_count": null,
   "id": "9dec8d67-2857-415e-9f0b-68278175905e",
   "metadata": {},
   "outputs": [],
   "source": [
    "fig, ax = plt.subplots(figsize=(8,6))\n",
    "sns.histplot(fragmentation.values(), stat=\"probability\")\n",
    "ax.get_legend().remove()\n",
    "ax.set_xlabel(\"Fragmentation score\")\n",
    "plt.savefig(\"./figures/\"+subject+\"_fragmentation.png\")"
   ]
  },
  {
   "cell_type": "code",
   "execution_count": null,
   "id": "2a208dd3-1c6a-4693-a00c-59e600042b44",
   "metadata": {},
   "outputs": [],
   "source": [
    "# Labelling conversation graphs with the corresponding fragmentation score\n",
    "tweet_to_network_id = {}\n",
    "for network in conversation_network_to_graph_id.keys():\n",
    "    for node in network.nodes:\n",
    "        tweet_to_network_id[node] = conversation_network_to_graph_id[network]\n",
    "\n",
    "\n",
    "relevant_modified_hyper_network_with_attributes_frag_score = nx.DiGraph()\n",
    "for graph in conversation_network_to_graph_id.keys():\n",
    "    relevant_modified_hyper_network_with_attributes_frag_score.add_nodes_from(graph.nodes)\n",
    "    relevant_modified_hyper_network_with_attributes_frag_score.add_edges_from(graph.edges)\n",
    "    \n",
    "subgraphs=list(relevant_modified_hyper_network_with_attributes_frag_score.subgraph(c) for c in nx.connected_components(relevant_modified_hyper_network_with_attributes_frag_score.to_undirected()))\n",
    "for component in subgraphs:\n",
    "    for node in list(component.nodes):\n",
    "        component.nodes[node][\"text\"] = tweet_text[node]\n",
    "        component.nodes[node][\"annotation\"] = aggregated_labels[node]\n",
    "        component.nodes[node][\"fragmentation\"] = fragmentation[tweet_to_network_id[node]]\n",
    "        component.nodes[node][\"author\"] = tweet_author[node]"
   ]
  },
  {
   "cell_type": "code",
   "execution_count": null,
   "id": "91d44930-eb03-44aa-8bb1-5c53dd0c01bf",
   "metadata": {},
   "outputs": [],
   "source": [
    "nx.write_gexf(relevant_modified_hyper_network_with_attributes_frag_score, path=\"./networks_gexf/\"+subject+\"_conversations_relevant_modified_with_attributes_frag_score.gexf\")"
   ]
  },
  {
   "cell_type": "code",
   "execution_count": null,
   "id": "8a92d448-095e-4c78-924c-c05443505fd3",
   "metadata": {},
   "outputs": [],
   "source": [
    "nx.number_connected_components(relevant_modified_hyper_network_with_attributes_frag_score.to_undirected())"
   ]
  },
  {
   "cell_type": "code",
   "execution_count": null,
   "id": "7e6dbb95-b0f1-495f-9f49-56421cbaac37",
   "metadata": {},
   "outputs": [],
   "source": [
    "len(relevant_modified_hyper_network_with_attributes_frag_score.nodes)"
   ]
  },
  {
   "cell_type": "code",
   "execution_count": null,
   "id": "9a583c74-d4d9-4510-812c-6d6e36cff33e",
   "metadata": {},
   "outputs": [],
   "source": [
    "len(relevant_modified_hyper_network_with_attributes_frag_score.edges)"
   ]
  },
  {
   "cell_type": "code",
   "execution_count": null,
   "id": "68b5d13d-7f5d-40ff-b01f-7b0b8cef4e33",
   "metadata": {},
   "outputs": [],
   "source": []
  },
  {
   "cell_type": "code",
   "execution_count": null,
   "id": "e0dcbf6d-6cf0-47ee-bc6b-4dc507e3f7cf",
   "metadata": {},
   "outputs": [],
   "source": [
    "conversation_details = {}\n",
    "for conv, conv_id in conversation_network_to_graph_id.items():\n",
    "    conversation_details[conv_id] = {}\n",
    "    conversation_details[conv_id][\"labels\"] = {}\n",
    "    conversation_details[conv_id][\"labels_fraction\"] = {i:0 for i in set(aggregated_labels.values())}\n",
    "    conversation_details[conv_id][\"size\"] = len(conv.nodes)\n",
    "    conversation_details[conv_id][\"fragmentation\"] = fragmentation[conv_id]\n",
    "    conversation_details[conv_id][\"authors\"] = []\n",
    "    conversation_details[conv_id][\"conversation_graph\"] = conv\n",
    "    conversation_details[conv_id][\"viewpoint_graph\"] = graph_id_to_viewpoint_network[conv_id]\n",
    "    conversation_details[conv_id][\"root_node\"] = None\n",
    "    conversation_details[conv_id][\"root_node_label\"] = None\n",
    "    \n",
    "    for n,d in dict(conv.out_degree).items():\n",
    "        if d == 0:\n",
    "            conversation_details[conv_id][\"root_node\"] = n\n",
    "            conversation_details[conv_id][\"root_node_label\"] = aggregated_labels[n]\n",
    "            break\n",
    "    \n",
    "    for node in conv.nodes:\n",
    "        label = aggregated_labels[node]\n",
    "        conversation_details[conv_id][\"labels\"][label] = conversation_details[conv_id][\"labels\"].get(label, 0) + 1\n",
    "        conversation_details[conv_id][\"authors\"].append(tweet_author[node])\n",
    "    \n",
    "    conversation_details[conv_id][\"authors\"] = len(set(conversation_details[conv_id][\"authors\"]))\n",
    "    for lbl in conversation_details[conv_id][\"labels\"]:\n",
    "        conversation_details[conv_id][\"labels_fraction\"][lbl] = conversation_details[conv_id][\"labels\"][lbl] / conversation_details[conv_id][\"size\"]"
   ]
  },
  {
   "cell_type": "code",
   "execution_count": null,
   "id": "1431ac63-846d-4879-8859-5297d138b39b",
   "metadata": {},
   "outputs": [],
   "source": []
  },
  {
   "cell_type": "code",
   "execution_count": null,
   "id": "c887c1aa-a68a-4b44-a794-dd7ba42d7227",
   "metadata": {},
   "outputs": [],
   "source": [
    "# Looking at the networks with low/high fragmentation \n",
    "thresh = 0.1\n",
    "low_fragmentation_graphs = {}\n",
    "for graph_id, graph in conversation_details.items():\n",
    "    if conversation_details[graph_id][\"fragmentation\"] < thresh and conversation_details[graph_id][\"fragmentation\"] != 0:\n",
    "        low_fragmentation_graphs[graph_id] = {}\n",
    "        low_fragmentation_graphs[graph_id][\"labels\"] = conversation_details[graph_id][\"labels\"]\n",
    "        low_fragmentation_graphs[graph_id][\"labels_fraction\"] = conversation_details[graph_id][\"labels_fraction\"]\n",
    "        low_fragmentation_graphs[graph_id][\"size\"] = conversation_details[graph_id][\"size\"]\n",
    "        low_fragmentation_graphs[graph_id][\"fragmentation\"] = conversation_details[graph_id][\"fragmentation\"]\n",
    "        low_fragmentation_graphs[graph_id][\"authors\"] = conversation_details[graph_id][\"authors\"]\n",
    "        low_fragmentation_graphs[graph_id][\"conversation_graph\"] = conversation_details[graph_id][\"conversation_graph\"]\n",
    "        low_fragmentation_graphs[graph_id][\"viewpoint_graph\"] = conversation_details[graph_id][\"viewpoint_graph\"]"
   ]
  },
  {
   "cell_type": "code",
   "execution_count": null,
   "id": "68a6201b-15e6-49b9-a4d3-b16c8fdc93ae",
   "metadata": {},
   "outputs": [],
   "source": [
    "# Showing the number of conversations with unique labels\n",
    "label_in_low_fragmentation = {1:0, 2:0, 3:0, 4:0}\n",
    "for i,j in low_fragmentation_graphs.items():\n",
    "    label_in_low_fragmentation[len(j[\"labels\"].keys())] += 1 "
   ]
  },
  {
   "cell_type": "code",
   "execution_count": null,
   "id": "402723c6-8fab-4e51-b1a5-aa9771f81007",
   "metadata": {},
   "outputs": [],
   "source": [
    "fig, ax = plt.subplots(figsize=(8,6))\n",
    "sns.barplot(x=list(label_in_low_fragmentation.keys()), y=list(label_in_low_fragmentation.values()))\n",
    "\n",
    "ax.set_xlabel(\"The number of conversations with unique labels\")"
   ]
  },
  {
   "cell_type": "code",
   "execution_count": null,
   "id": "c3c2b087-5764-47f3-af6a-c421d4ee06f7",
   "metadata": {},
   "outputs": [],
   "source": [
    "# Creating a hyper graph for the low/high fragmentation conversation\n",
    "\n",
    "low_fragmentation_hyper_graph = nx.DiGraph()\n",
    "\n",
    "for graph in low_fragmentation_graphs.values():\n",
    "    low_fragmentation_hyper_graph.add_nodes_from(graph[\"conversation_graph\"].nodes)\n",
    "    low_fragmentation_hyper_graph.add_edges_from(graph[\"conversation_graph\"].edges)\n",
    "    \n",
    "subgraphs=list(low_fragmentation_hyper_graph.subgraph(c) for c in nx.connected_components(low_fragmentation_hyper_graph.to_undirected()))\n",
    "for component in subgraphs:\n",
    "    for node in list(component.nodes):\n",
    "        component.nodes[node][\"text\"] = tweet_text[node]\n",
    "        component.nodes[node][\"annotation\"] = aggregated_labels[node]\n",
    "        component.nodes[node][\"fragmentation\"] = fragmentation[tweet_to_network_id[node]]\n",
    "        component.nodes[node][\"author\"] = tweet_author[node]\n",
    "        \n",
    "nx.write_gexf(low_fragmentation_hyper_graph, path=\"./networks_gexf/\"+subject+\"_high_fragmentation_hyper_graph.gexf\")"
   ]
  },
  {
   "cell_type": "code",
   "execution_count": null,
   "id": "f4210719-238a-42bf-8758-72e62426324b",
   "metadata": {},
   "outputs": [],
   "source": [
    "# Looking at the fragmentation scores based on the root node label\n",
    "\n",
    "fragmentation_based_on_root_label = {i:[] for i in set(aggregated_labels.values())}\n",
    "for conv_id, conv in conversation_details.items():\n",
    "    fragmentation_based_on_root_label[conv[\"root_node_label\"]].append(conv[\"fragmentation\"])"
   ]
  },
  {
   "cell_type": "code",
   "execution_count": null,
   "id": "edf2d048-6b2e-4a93-ac16-84a29cd895f7",
   "metadata": {},
   "outputs": [],
   "source": [
    "fig, axes = plt.subplots(2,2, figsize=(12,8))\n",
    "\n",
    "fig.suptitle('Fragmentation score based on the conversation root label')\n",
    "sns.histplot(ax=axes[0,0], data=fragmentation_based_on_root_label[\"L1\"], stat=\"probability\")\n",
    "axes[0,0].set_xlabel(\"L1\")\n",
    "sns.histplot(ax=axes[0,1], data=fragmentation_based_on_root_label[\"L2\"], stat=\"probability\")\n",
    "axes[0,1].yaxis.set_visible(False)\n",
    "axes[0,1].set_xlabel(\"L2\")\n",
    "sns.histplot(ax=axes[1,0], data=fragmentation_based_on_root_label[\"L3\"], stat=\"probability\")\n",
    "axes[1,0].set_xlabel(\"L3\")\n",
    "sns.histplot(ax=axes[1,1], data=fragmentation_based_on_root_label[\"L4\"], stat=\"probability\")\n",
    "axes[1,1].yaxis.set_visible(False)\n",
    "axes[1,1].set_xlabel(\"L4\")\n",
    "\n",
    "# ax.get_legend().remove()\n",
    "# ax.set_xlabel(\"Fragmentation score for conversation with\")\n",
    "plt.savefig(\"./figures/\"+subject+\"_fragmentation_score_based_on_root_label.png\")\n",
    "\n"
   ]
  },
  {
   "cell_type": "code",
   "execution_count": null,
   "id": "036376ec-0256-422c-b77a-2a72f8e1bfda",
   "metadata": {},
   "outputs": [],
   "source": []
  },
  {
   "cell_type": "code",
   "execution_count": null,
   "id": "ac942e06-2102-4902-9760-82e44a7b406e",
   "metadata": {},
   "outputs": [],
   "source": []
  },
  {
   "cell_type": "code",
   "execution_count": null,
   "id": "3537f791-b6ad-488d-a381-62063cd98798",
   "metadata": {},
   "outputs": [],
   "source": []
  },
  {
   "cell_type": "code",
   "execution_count": null,
   "id": "3fcfd0bb-d465-4c3a-8b16-02495b6ee3df",
   "metadata": {},
   "outputs": [],
   "source": []
  },
  {
   "cell_type": "code",
   "execution_count": null,
   "id": "535d2b85-c34c-45ed-8953-50f4de0de195",
   "metadata": {},
   "outputs": [],
   "source": []
  },
  {
   "cell_type": "code",
   "execution_count": null,
   "id": "9a404de8-3ad8-478f-854a-fe6b9b9427cd",
   "metadata": {},
   "outputs": [],
   "source": []
  },
  {
   "cell_type": "code",
   "execution_count": null,
   "id": "fcac16ae-e18e-4471-9764-1d9a721bdfa2",
   "metadata": {},
   "outputs": [],
   "source": [
    "# thresh = 0.4"
   ]
  },
  {
   "cell_type": "code",
   "execution_count": null,
   "id": "52ae86ce-3472-48e7-8a3d-ded688d65dba",
   "metadata": {},
   "outputs": [],
   "source": [
    "# measured_fragmentation_hyper_graph = nx.DiGraph()\n",
    "\n",
    "# for graph_id, graph in conversation_details.items():\n",
    "#     if conversation_details[graph_id][\"fragmentation\"] < thresh and conversation_details[graph_id][\"fragmentation\"] != 0:\n",
    "#         measured_fragmentation_hyper_graph.add_nodes_from(graph.nodes)\n",
    "#         measured_fragmentation_hyper_graph.add_edges_from(graph.edges)\n",
    "    \n",
    "# subgraphs=list(measured_fragmentation_hyper_graph.subgraph(c) for c in nx.connected_components(measured_fragmentation_hyper_graph.to_undirected()))\n",
    "# for component in subgraphs:\n",
    "#     for node in list(component.nodes):\n",
    "#         component.nodes[node][\"text\"] = tweet_text[node]\n",
    "#         component.nodes[node][\"annotation\"] = aggregated_labels[node]\n",
    "#         component.nodes[node][\"fragmentation\"] = fragmentation[tweet_to_network_id[node]]\n",
    "#         component.nodes[node][\"author\"] = tweet_author[node]\n",
    "#         component.nodes[node][\"author\"] = tweet_author[node]\n",
    "        \n",
    "# nx.write_gexf(low_fragmentation_hyper_graph, path=\"./networks_gexf/\"+subject+\"_high_fragmentation_hyper_graph.gexf\")"
   ]
  },
  {
   "cell_type": "code",
   "execution_count": null,
   "id": "4d975f51-2b0f-4cc1-a59f-e4a63e8f876c",
   "metadata": {},
   "outputs": [],
   "source": []
  },
  {
   "cell_type": "code",
   "execution_count": null,
   "id": "2d82523e-3f97-4fbd-a85d-0c47eda30040",
   "metadata": {},
   "outputs": [],
   "source": []
  },
  {
   "cell_type": "code",
   "execution_count": null,
   "id": "42a45b47-3859-4204-9ffd-fe5d06f58d27",
   "metadata": {},
   "outputs": [],
   "source": []
  },
  {
   "cell_type": "code",
   "execution_count": null,
   "id": "bef228e2-95f6-4457-8f45-b4dd98c7ce9a",
   "metadata": {},
   "outputs": [],
   "source": []
  },
  {
   "cell_type": "code",
   "execution_count": null,
   "id": "95522bf8-773a-4ea2-8c60-8f2fdff60f49",
   "metadata": {},
   "outputs": [],
   "source": []
  },
  {
   "cell_type": "code",
   "execution_count": null,
   "id": "46c54188-3eb3-4df1-ac57-8f2e5d91557b",
   "metadata": {},
   "outputs": [],
   "source": []
  },
  {
   "cell_type": "code",
   "execution_count": null,
   "id": "63f343b9-3226-4b7d-becb-6cbe0bca905e",
   "metadata": {},
   "outputs": [],
   "source": [
    "# Generating dictionaries of conversation_id -> labels for Representation factor\n",
    "count_post = 0\n",
    "count_pre = 0\n",
    "\n",
    "conversation_labels_post_aggregation = {}\n",
    "conversation_labels_pre_aggregation = {}\n",
    "\n",
    "subgraphs=list(relevant_modified_hyper_network_with_attributes_frag_score.subgraph(c) for c in nx.connected_components(relevant_modified_hyper_network_with_attributes_frag_score.to_undirected()))\n",
    "\n",
    "for net in subgraphs:\n",
    "    lbl_post = []\n",
    "    lbl_pre = []\n",
    "    for n in net.nodes:\n",
    "        lbl_post.append(aggregated_labels[n])\n",
    "        lbl_pre.append(labels_dict[n])\n",
    "        \n",
    "    conversation_labels_post_aggregation[count_post] = lbl_post\n",
    "    count_post += 1\n",
    "    conversation_labels_pre_aggregation[count_pre] = lbl_pre\n",
    "    count_pre += 1\n",
    "\n",
    "pk.dump(conversation_labels_post_aggregation, open(\"./pickles/\"+subject+\"_conversation_labels_post_aggregation.pk\", \"wb\"))\n",
    "pk.dump(conversation_labels_pre_aggregation, open(\"./pickles/\"+subject+\"_conversation_labels_pre_aggregation.pk\", \"wb\"))"
   ]
  },
  {
   "cell_type": "code",
   "execution_count": null,
   "id": "57b8bc5a-790f-41f9-b185-ef8c896f9063",
   "metadata": {},
   "outputs": [],
   "source": []
  },
  {
   "cell_type": "code",
   "execution_count": null,
   "id": "356e30f6-e0b0-4c96-a193-ba659c15513f",
   "metadata": {},
   "outputs": [],
   "source": [
    "cosine_similarity_dict_L1L2_ZERO = {}\n",
    "cosine_similarity_df_L1L2_ZERO = {}\n",
    "\n",
    "for graph_id, viewpoint_matrix in exposed_viewpoints_df_L1L2_ZERO.items():\n",
    "    cosine_similarity_dict_L1L2_ZERO[graph_id] = {}\n",
    "    \n",
    "    cols = viewpoint_matrix.columns\n",
    "    df = pd.DataFrame({p:[0 for q in range(len(cols))] for p in cols}, index=[cols])\n",
    "\n",
    "    pairs = list(itertools.combinations(cols, 2))\n",
    "    for pair in pairs:\n",
    "        vector1 = viewpoint_matrix[pair[0]]\n",
    "        vector2 = viewpoint_matrix[pair[1]]\n",
    "        cosine_similarity_dict_L1L2_ZERO[graph_id][pair] = np.dot(vector1, vector2)/np.round((np.linalg.norm(vector1)*np.linalg.norm(vector2)),10)\n",
    "        df.at[pair[1], pair[0]] = cosine_similarity_dict_L1L2_ZERO[graph_id][pair]\n",
    "        # df.loc[pair[0]][pair[1]] = cosine_similarity_dict_L1L2_ZERO[graph_id][pair]\n",
    "    cosine_similarity_df_L1L2_ZERO[graph_id] = df"
   ]
  },
  {
   "cell_type": "code",
   "execution_count": null,
   "id": "08abb4bb-bbf0-4c7d-a433-f0981e47b2eb",
   "metadata": {},
   "outputs": [],
   "source": [
    "fragmentation_L1L2_ZERO = {}\n",
    "for graph_id, viewpoint_similarity_dict in cosine_similarity_dict_L1L2_ZERO.items():\n",
    "    viewpoint_simialrites = list(viewpoint_similarity_dict.values())\n",
    "    # fragmentation_L1L2_ZERO[graph_id] = np.std(viewpoint_simialrites) \n",
    "    fragmentation_L1L2_ZERO[graph_id] = 1 - np.mean(viewpoint_simialrites) "
   ]
  },
  {
   "cell_type": "code",
   "execution_count": null,
   "id": "965525b0-f248-40f7-8827-870a4632bcdf",
   "metadata": {},
   "outputs": [],
   "source": [
    "# #Normalising the fragmentation scores\n",
    "# normalisation_factor_L1L2_ZERO = np.nanmax(list(fragmentation_L1L2_ZERO.values()))\n",
    "# for conversation_id, fragmentation_score in fragmentation_L1L2_ZERO.items():\n",
    "#     fragmentation_L1L2_ZERO[conversation_id] = fragmentation_score / normalisation_factor_L1L2_ZERO"
   ]
  },
  {
   "cell_type": "code",
   "execution_count": null,
   "id": "5d262ce9-57d2-4df0-a38a-6964af8b64af",
   "metadata": {},
   "outputs": [],
   "source": [
    "fig, ax = plt.subplots(figsize=(8,6))\n",
    "sns.histplot(fragmentation_L1L2_ZERO.values(), stat=\"probability\")\n",
    "ax.get_legend().remove()\n",
    "ax.set_xlabel(\"Fragmentation score\")\n",
    "plt.savefig(\"./figures/\"+subject+\"_fragmentation_L1L2_ZERO.png\")"
   ]
  },
  {
   "cell_type": "code",
   "execution_count": null,
   "id": "ce830b72-7309-4663-9ede-7a8535399ad9",
   "metadata": {},
   "outputs": [],
   "source": []
  },
  {
   "cell_type": "code",
   "execution_count": null,
   "id": "4a6d4e5d-ac8c-42b8-acbb-567d540f49e1",
   "metadata": {},
   "outputs": [],
   "source": []
  }
 ],
 "metadata": {
  "kernelspec": {
   "display_name": "Python 3 (ipykernel)",
   "language": "python",
   "name": "python3"
  },
  "language_info": {
   "codemirror_mode": {
    "name": "ipython",
    "version": 3
   },
   "file_extension": ".py",
   "mimetype": "text/x-python",
   "name": "python",
   "nbconvert_exporter": "python",
   "pygments_lexer": "ipython3",
   "version": "3.9.7"
  }
 },
 "nbformat": 4,
 "nbformat_minor": 5
}
