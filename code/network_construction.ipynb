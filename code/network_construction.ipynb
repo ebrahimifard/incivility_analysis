{
 "cells": [
  {
   "cell_type": "code",
   "execution_count": 1,
   "id": "c1af602d-d60e-4643-b11c-bbba46c61c9f",
   "metadata": {},
   "outputs": [],
   "source": [
    "import networkx as nx\n",
    "import numpy as np\n",
    "from pprint import pprint\n",
    "from tqdm import tqdm\n",
    "import random\n",
    "import copy\n",
    "import matplotlib.pyplot as plt\n",
    "import pandas as pd\n",
    "import itertools\n",
    "import pickle as pk\n",
    "import os\n",
    "import json\n",
    "import seaborn as sns\n",
    "import operator as op\n",
    "from sklearn.compose import make_column_selector \n",
    "from datetime import datetime"
   ]
  },
  {
   "cell_type": "code",
   "execution_count": 2,
   "id": "a8fde2fa-7e9d-40c1-bfc1-d5d397cc5ddc",
   "metadata": {},
   "outputs": [],
   "source": [
    "sns.set_theme()\n",
    "# sns.set(font_scale = 2)"
   ]
  },
  {
   "cell_type": "markdown",
   "id": "4ec7f35e-9476-4467-8f80-ecfef13af65f",
   "metadata": {},
   "source": [
    "# Loading and preprocessing the data"
   ]
  },
  {
   "cell_type": "code",
   "execution_count": 3,
   "id": "3060cc86-48f0-4fbc-98d5-f5b0376dfd1a",
   "metadata": {},
   "outputs": [],
   "source": [
    "general_data = \"data\"\n",
    "data_path = \"IMMIGRATION_data\"\n",
    "retrieved_data_path = \"IMMIGRATION_retrieved_tweets\"\n",
    "output_path = \"output\"\n",
    "annotation = \"annotations\""
   ]
  },
  {
   "cell_type": "code",
   "execution_count": 4,
   "id": "1ccdd8f4-317e-4b03-bc0d-f21b1454266b",
   "metadata": {
    "tags": []
   },
   "outputs": [],
   "source": [
    "# loading the conversations and aggregating the conversations\n",
    "raw_conversations = []\n",
    "for file in os.listdir(\"./../data/\"+data_path+\"/\"):\n",
    "    raw_conversations += (np.load(\"./../data/\"+data_path+\"/\"+file,allow_pickle=True).tolist())"
   ]
  },
  {
   "cell_type": "code",
   "execution_count": 5,
   "id": "b0f6695c-2d58-4c66-a870-899462dde591",
   "metadata": {},
   "outputs": [],
   "source": [
    "#Loading retrieved tweets \n",
    "retrieved_tweets = []\n",
    "retrieved_tweets_path = \"./../data/\"+retrieved_data_path+\"/\"\n",
    "retrieved_tweets = [json.load(open(retrieved_tweets_path+file)) for file in os.listdir(retrieved_tweets_path) if os.path.isfile(retrieved_tweets_path + file)]"
   ]
  },
  {
   "cell_type": "code",
   "execution_count": 6,
   "id": "176ede89-c0a5-449c-bfe7-6c4557b4f2a1",
   "metadata": {},
   "outputs": [],
   "source": [
    "#Elimiating the NA entries\n",
    "conversations = [i for i in raw_conversations if i != \"NA\"]"
   ]
  },
  {
   "cell_type": "code",
   "execution_count": null,
   "id": "a551de1e-3c52-4ff0-97c5-eff6533360b7",
   "metadata": {},
   "outputs": [],
   "source": []
  },
  {
   "cell_type": "code",
   "execution_count": null,
   "id": "bc735d4e-b109-422c-8932-6dd17c589195",
   "metadata": {},
   "outputs": [],
   "source": []
  },
  {
   "cell_type": "markdown",
   "id": "f1ad185a-8257-40d4-8605-0923cc598442",
   "metadata": {
    "tags": []
   },
   "source": [
    "# Making conversations out of the tweets"
   ]
  },
  {
   "cell_type": "code",
   "execution_count": 7,
   "id": "6269b569-c64c-43e7-9738-4c4c900b2c9b",
   "metadata": {},
   "outputs": [],
   "source": [
    "tweets_array = []\n",
    "network_array = []\n",
    "disconnected_tweets = []\n",
    "disconnected_networks = []\n",
    "disconnected_networks_nodes = {}"
   ]
  },
  {
   "cell_type": "code",
   "execution_count": 8,
   "id": "ee0ef43a-52c2-4b32-bfc5-12f5280fd1cd",
   "metadata": {},
   "outputs": [
    {
     "name": "stderr",
     "output_type": "stream",
     "text": [
      "100%|████████████████████████████████████████████████████████████████████████████| 1673/1673 [00:01<00:00, 1127.40it/s]\n"
     ]
    }
   ],
   "source": [
    "for conversation in tqdm(conversations):\n",
    "    \n",
    "    flag1, flag2 = False, False\n",
    "    network = nx.DiGraph()\n",
    "    conversation_id = None\n",
    "    \n",
    "    if \"data\" in conversation.keys():\n",
    "        for tweet in conversation['data']:\n",
    "            conversation_id = tweet[\"conversation_id\"]\n",
    "            source = tweet['id']\n",
    "            if 'referenced_tweets' in tweet.keys():\n",
    "                for reference in tweet['referenced_tweets']:\n",
    "                    if reference['type'] == 'replied_to':\n",
    "                        destination = reference['id']\n",
    "                        network.add_edge(source, destination)\n",
    "                        flag1=True\n",
    "    \n",
    "    if \"includes\" in conversation.keys():\n",
    "        if \"tweets\" in conversation['includes'].keys():\n",
    "            for tweet in conversation['includes']['tweets']:\n",
    "                source = tweet['id']\n",
    "                if 'referenced_tweets' in tweet.keys():\n",
    "                    for reference in tweet['referenced_tweets']:\n",
    "                        if reference['type'] == 'replied_to':\n",
    "                            destination = reference['id']\n",
    "                            network.add_edge(source, destination) \n",
    "                            flag2=True\n",
    "    \n",
    "    if (len(network.nodes) > 0) and (nx.is_connected(network.to_undirected())):\n",
    "        if len(list(nx.simple_cycles(network)))>0:\n",
    "            print(\"Directed cycle found\")\n",
    "        try:\n",
    "            cycle_found = len(nx.find_cycle(network, orientation=\"ignore\"))>0\n",
    "            if cycle_found:\n",
    "                print(\"Undirected cycle found\")\n",
    "        except:\n",
    "            pass\n",
    "    \n",
    "\n",
    "    if (len(network.nodes) > 0) and (not nx.is_connected(network.to_undirected())):\n",
    "        nodes = []\n",
    "        disconnected_tweets.append(conversation)\n",
    "        disconnected_networks.append(network)\n",
    "        subgraphs=list(network.subgraph(c) for c in nx.connected_components(network.to_undirected()))\n",
    "        for component in subgraphs:\n",
    "            nodes.append(len(list(component.nodes)))\n",
    "            if conversation_id not in list(component.nodes):\n",
    "                for node in list(component.nodes):\n",
    "                    if network.out_degree[node] == 0:\n",
    "                        network.add_edge(node, conversation_id)\n",
    "                        break\n",
    "        disconnected_networks_nodes[len(conversation['data'])] =  disconnected_networks_nodes.get(len(conversation['data']), []) + [nodes]\n",
    "\n",
    "                        \n",
    "    if len(network.nodes) > 0 and conversation_id not in list(network.nodes):\n",
    "        for node in list(network.nodes):\n",
    "            if network.out_degree[node] == 0:\n",
    "                network.add_edge(node, conversation_id)\n",
    "                \n",
    "                \n",
    "    \n",
    "    for node in network.nodes:\n",
    "        if network.out_degree(node) > 1:\n",
    "            print(\"Warning! There is a node with out_degree > 1\")\n",
    "    \n",
    "    \n",
    "    if flag1 or flag2:\n",
    "        tweets_array.append(conversation)\n",
    "        network_array.append(network)"
   ]
  },
  {
   "cell_type": "code",
   "execution_count": 9,
   "id": "aea0c8b0-3625-48da-b864-b9ca526fcbcc",
   "metadata": {},
   "outputs": [
    {
     "name": "stdout",
     "output_type": "stream",
     "text": [
      "The number of conversations: 757\n",
      "The number of conversations with disconnected components: 444\n"
     ]
    }
   ],
   "source": [
    "print(\"The number of conversations:\", len(network_array))\n",
    "print(\"The number of conversations with disconnected components:\", len(disconnected_networks))"
   ]
  },
  {
   "cell_type": "code",
   "execution_count": 10,
   "id": "71f33c9c-09dc-427e-bca7-b4418fed3ffc",
   "metadata": {},
   "outputs": [],
   "source": [
    "network_pairs = itertools.combinations(network_array,2)\n",
    "\n",
    "similars = {}\n",
    "equals = []\n",
    "count = 0\n",
    "big_graph = nx.DiGraph()\n",
    "for pair in network_pairs:\n",
    "    count += 1\n",
    "    x = set(pair[0].nodes)\n",
    "    y = set(pair[1].nodes)\n",
    "    intersect = x.intersection(y)\n",
    "    if x.issubset(y) and y.issubset(x):\n",
    "        equals.append(pair) \n",
    "    elif len(intersect) != 0:\n",
    "        similars[pair] = intersect   \n",
    "\n",
    "for pair in similars:\n",
    "    big_graph.add_edges_from(pair[0].edges)\n",
    "    big_graph.add_edges_from(pair[1].edges)"
   ]
  },
  {
   "cell_type": "code",
   "execution_count": 11,
   "id": "8bed611b-fdab-4772-aac7-f68681d1ba27",
   "metadata": {},
   "outputs": [
    {
     "name": "stdout",
     "output_type": "stream",
     "text": [
      "3 0\n"
     ]
    }
   ],
   "source": [
    "print(len(similars), len(equals))"
   ]
  },
  {
   "cell_type": "code",
   "execution_count": 12,
   "id": "4ce7d8ed-518f-4142-bda0-22437b3f3c75",
   "metadata": {},
   "outputs": [],
   "source": [
    "# After analysising the difference between the networks in the network_array and the components in the hyper graph, we concluded that there are 4 tweets that appear in more than one conversations\n",
    "# Their tweet_ids are '1255223987153653760', '1255224509247954944', '1255234731467313154', '1255236472946515974'\n",
    "# For better analysis check the two above cells as well as the bug fixing zone \n",
    "# The implication of this bried analysis is removing the conversations that have those 4 tweets"
   ]
  },
  {
   "cell_type": "code",
   "execution_count": 13,
   "id": "70f71508-09a9-4e0e-8fac-81f48924cb7b",
   "metadata": {},
   "outputs": [],
   "source": [
    "# We remove the networks from networks_array and recreat the hyper network\n",
    "to_be_removed_network = set()\n",
    "for pair in similars:\n",
    "    to_be_removed_network.add(pair[0])\n",
    "    to_be_removed_network.add(pair[1])\n",
    "for pair in equals:\n",
    "    to_be_removed_network.add(pair[0])\n",
    "    to_be_removed_network.add(pair[1])\n",
    "\n",
    "for i in to_be_removed_network:\n",
    "    network_array.remove(i)"
   ]
  },
  {
   "cell_type": "code",
   "execution_count": 14,
   "id": "ecd573ff-7ecd-43d6-bdf5-c33414ee48b2",
   "metadata": {},
   "outputs": [],
   "source": [
    "hyper_network = nx.DiGraph()\n",
    "for graph in network_array:\n",
    "    hyper_network.add_edges_from(graph.edges)"
   ]
  },
  {
   "cell_type": "code",
   "execution_count": 15,
   "id": "e841c721-0da4-4a43-9120-fcea87c0c800",
   "metadata": {},
   "outputs": [
    {
     "name": "stdout",
     "output_type": "stream",
     "text": [
      "751 751\n"
     ]
    }
   ],
   "source": [
    "print(len(network_array), nx.number_connected_components(hyper_network.to_undirected()))"
   ]
  },
  {
   "cell_type": "code",
   "execution_count": 16,
   "id": "2e0268d5-2f15-4618-aae4-9d69bb7ee025",
   "metadata": {},
   "outputs": [],
   "source": [
    "nx.write_gexf(hyper_network, path=\"./../\"+output_path+\"/networks_gexf/\"+\"_conversations_raw.gexf\")"
   ]
  },
  {
   "cell_type": "code",
   "execution_count": 17,
   "id": "cc03092b-43ef-4ce9-8682-1ebe1d947e11",
   "metadata": {},
   "outputs": [],
   "source": [
    "nodes = set()\n",
    "for net in network_array:\n",
    "    for node in list(net.nodes):\n",
    "        nodes.add(node)"
   ]
  },
  {
   "cell_type": "markdown",
   "id": "c7f7c3cc-c3b5-4c65-9e99-3217f08cee9b",
   "metadata": {},
   "source": [
    "# Text and author extraction from the tweets"
   ]
  },
  {
   "cell_type": "code",
   "execution_count": 18,
   "id": "2bd3c31a-5932-4bcf-837b-67ee4e35cb7d",
   "metadata": {},
   "outputs": [
    {
     "name": "stderr",
     "output_type": "stream",
     "text": [
      "100%|██████████████████████████████████████████████████████████████████████████| 1673/1673 [00:00<00:00, 101474.61it/s]\n"
     ]
    }
   ],
   "source": [
    "tweet_text = {tweet_id:None for tweet_id in nodes}\n",
    "tweet_author = {tweet_id:None for tweet_id in nodes}\n",
    "\n",
    "for conversation in tqdm(conversations):\n",
    "    if \"data\" in conversation.keys(): \n",
    "        for tweet in conversation['data']:\n",
    "            tweet_text[tweet[\"id\"]] = tweet[\"text\"]\n",
    "            tweet_author[tweet[\"id\"]] = tweet['author_id']\n",
    "\n",
    "    if \"includes\" in conversation.keys():\n",
    "        if 'tweet' in conversation['includes']:\n",
    "            for tweet in conversation['includes']['tweets']:\n",
    "                tweet_text[tweet[\"id\"]] = tweet[\"text\"]\n",
    "                tweet_author[tweet[\"id\"]] = tweet['author_id']"
   ]
  },
  {
   "cell_type": "code",
   "execution_count": 19,
   "id": "62f910b4-d246-4596-a02a-46aab7e54e61",
   "metadata": {},
   "outputs": [
    {
     "data": {
      "text/plain": [
       "5978"
      ]
     },
     "execution_count": 19,
     "metadata": {},
     "output_type": "execute_result"
    }
   ],
   "source": [
    "sum([1 for i,j in tweet_text.items() if j is None])"
   ]
  },
  {
   "cell_type": "code",
   "execution_count": 20,
   "id": "94bb8bf5-f31a-47b4-9ab0-8d1b54ffdcef",
   "metadata": {},
   "outputs": [],
   "source": [
    "#Adding retrieved tweets to the tweet_text for the annotation\n",
    "for tweet in retrieved_tweets:\n",
    "    if tweet[\"id_str\"] in nodes:\n",
    "        tweet_text[tweet[\"id_str\"]] = tweet[\"full_text\"]\n",
    "        tweet_author[tweet[\"id_str\"]] = tweet[\"user\"][\"id_str\"]"
   ]
  },
  {
   "cell_type": "code",
   "execution_count": 21,
   "id": "072963a5-d752-428e-a457-d6a2eb9e6522",
   "metadata": {},
   "outputs": [],
   "source": [
    "#I will change the id of tweet_authors with None as user value to a negative number becasue if all the users have None as a username, they will be treated as a smae node in the network\n",
    "number = 0\n",
    "count = -1\n",
    "for tweet_id , author_id in tweet_author.items():\n",
    "    if author_id is None:\n",
    "        number += 1\n",
    "        tweet_author[tweet_id] = count\n",
    "        count -= 1"
   ]
  },
  {
   "cell_type": "code",
   "execution_count": 22,
   "id": "5b41e9d6-ebcd-4ab2-9e61-5eb792abfee2",
   "metadata": {},
   "outputs": [],
   "source": [
    "df = pd.DataFrame.from_dict(tweet_text, orient=\"index\", columns=[\"text\"])\n",
    "df.to_csv(\"./../\"+output_path+\"/csv/\"+\"_tweet_text.csv\")"
   ]
  },
  {
   "cell_type": "code",
   "execution_count": 23,
   "id": "5f992611-0ddb-494f-8b32-af90e57fce9e",
   "metadata": {},
   "outputs": [],
   "source": [
    "no_text_tweets = {i for i,j in tweet_text.items() if j is None}"
   ]
  },
  {
   "cell_type": "code",
   "execution_count": 24,
   "id": "7fdc2fa6-f950-4e76-8b79-eab1a996cbf8",
   "metadata": {},
   "outputs": [
    {
     "name": "stdout",
     "output_type": "stream",
     "text": [
      "3107 3107\n"
     ]
    }
   ],
   "source": [
    "print(len(no_text_tweets), number)"
   ]
  },
  {
   "cell_type": "code",
   "execution_count": 25,
   "id": "90b532db-d527-4cc7-85b1-a064bed5008d",
   "metadata": {},
   "outputs": [],
   "source": [
    "# # Finding the tweets without text or author that should be retrieved from Twitter API\n",
    "\n",
    "# to_be_retrieved_tweets = set()\n",
    "\n",
    "# for tweet_id, text in tqdm(tweet_text.items()):\n",
    "#     if text == None:\n",
    "#         to_be_retrieved_tweets.add(tweet_id)\n",
    "# print(len(to_be_retrieved_tweets))\n",
    "\n",
    "# for tweet_id, author_id in tqdm(tweet_author.items()):\n",
    "#     if type(author_id)!=str and author_id<0 :\n",
    "#         to_be_retrieved_tweets.add(tweet_id)\n",
    "# print(len(to_be_retrieved_tweets))\n",
    "\n",
    "\n",
    "# pk.dump(to_be_retrieved_tweets, open(\"./pickles/\"+subject+\"_tweet_ids_for retreival.list\", \"wb\"))"
   ]
  },
  {
   "cell_type": "markdown",
   "id": "151899de-6e3c-4aca-bdcd-5126db0f0977",
   "metadata": {},
   "source": [
    "# Making a tweet-label dictionary"
   ]
  },
  {
   "cell_type": "code",
   "execution_count": 26,
   "id": "284f19ed-8d23-4008-81c3-4a9e4b1b994d",
   "metadata": {},
   "outputs": [
    {
     "name": "stdout",
     "output_type": "stream",
     "text": [
      "25042 25042 25131 25131\n",
      "25042\n",
      "89\n"
     ]
    }
   ],
   "source": [
    "#comparing new and old annotation files\n",
    "old_ds = pd.read_csv(\"./../\"+annotation+\"/IMMIGRATION_conversation_with_viewpoint.csv\")\n",
    "new_ds = pd.read_csv(\"./../\"+annotation+\"/conversation_with_incivility_intolerance_8columns.csv\")\n",
    "\n",
    "old_ds_list = list(old_ds[\"tweet_id\"])\n",
    "old_ds_set = set(old_ds_list)\n",
    "\n",
    "new_ds_list = list(new_ds[\"tweet_id\"])\n",
    "new_ds_set = set(new_ds_list)\n",
    "\n",
    "print(len(old_ds_list), len(old_ds_set), len(new_ds_list), len(new_ds_set))\n",
    "\n",
    "print(len(old_ds_set.intersection(new_ds_set)))\n",
    "lefts = [str(i) for i in new_ds_list if i not in old_ds_list]\n",
    "print(len(lefts))"
   ]
  },
  {
   "cell_type": "code",
   "execution_count": 27,
   "id": "1919486d-467e-42fb-8426-76073fa0a223",
   "metadata": {},
   "outputs": [],
   "source": [
    "vp_ds_raw = pd.read_csv(\"./../\"+annotation+\"/IMMIGRATION_conversation_with_viewpoint.csv\")\n",
    "inc_ds_raw = pd.read_csv(\"./../\"+annotation+\"/conversation_with_incivility_intolerance_8columns.csv\")"
   ]
  },
  {
   "cell_type": "code",
   "execution_count": 28,
   "id": "2d8acff5-035e-4537-a16b-14b41303669b",
   "metadata": {},
   "outputs": [
    {
     "name": "stderr",
     "output_type": "stream",
     "text": [
      "C:\\Users\\P70076~1\\AppData\\Local\\Temp/ipykernel_24728/992247260.py:2: SettingWithCopyWarning: \n",
      "A value is trying to be set on a copy of a slice from a DataFrame.\n",
      "Try using .loc[row_indexer,col_indexer] = value instead\n",
      "\n",
      "See the caveats in the documentation: https://pandas.pydata.org/pandas-docs/stable/user_guide/indexing.html#returning-a-view-versus-a-copy\n",
      "  vp_df['tweet_id'] = vp_df['tweet_id'].astype('str')\n",
      "C:\\Users\\P70076~1\\AppData\\Local\\Temp/ipykernel_24728/992247260.py:9: SettingWithCopyWarning: \n",
      "A value is trying to be set on a copy of a slice from a DataFrame.\n",
      "Try using .loc[row_indexer,col_indexer] = value instead\n",
      "\n",
      "See the caveats in the documentation: https://pandas.pydata.org/pandas-docs/stable/user_guide/indexing.html#returning-a-view-versus-a-copy\n",
      "  inc_df['tweet_id'] = inc_df['tweet_id'].astype('str')\n"
     ]
    }
   ],
   "source": [
    "vp_df = vp_ds_raw[[\"tweet_id\", \"relevance\", \"viewpoint\"]]\n",
    "vp_df['tweet_id'] = vp_df['tweet_id'].astype('str')\n",
    "vp_df = vp_df.loc[~vp_df['tweet_id'].isin(no_text_tweets)]\n",
    "for col in [\"relevance\", \"viewpoint\"]:\n",
    "    vp_df.loc[:][col] = vp_df.loc[:][col].str.strip()\n",
    "vp_df.index = vp_df[\"tweet_id\"].index = vp_df[\"tweet_id\"]\n",
    "    \n",
    "inc_df = inc_ds_raw[[\"tweet_id\", \"profanity\", \"insults\", \"char. assn.\", \"outrage\", \"incivility\"]]\n",
    "inc_df['tweet_id'] = inc_df['tweet_id'].astype('str')\n",
    "inc_df.index = inc_df[\"tweet_id\"].index = inc_df[\"tweet_id\"]"
   ]
  },
  {
   "cell_type": "code",
   "execution_count": 29,
   "id": "70c95bbe-a521-485e-9b61-874d6cfe28b0",
   "metadata": {},
   "outputs": [],
   "source": [
    "annotation_dict = {\"tweet_id\":{}, \"relevance\":{}, \"viewpoint\":{}, \"profanity\":{}, \"insults\":{}, \"char. assn.\":{}, \"outrage\":{}, \"incivility\":{}}\n",
    "tweet_ids = list(vp_df[\"tweet_id\"])"
   ]
  },
  {
   "cell_type": "code",
   "execution_count": 30,
   "id": "6e8ff017-c1bc-4018-a948-8c8c501f15a5",
   "metadata": {},
   "outputs": [
    {
     "name": "stderr",
     "output_type": "stream",
     "text": [
      "100%|██████████████████████████████████████████████████████████████████████████| 21935/21935 [00:20<00:00, 1074.05it/s]\n"
     ]
    }
   ],
   "source": [
    "for twt_id in tqdm(tweet_ids):\n",
    "    annotation_dict[\"tweet_id\"][twt_id] = twt_id\n",
    "    annotation_dict[\"relevance\"][twt_id] = vp_df.loc[twt_id][\"relevance\"]\n",
    "    annotation_dict[\"viewpoint\"][twt_id] = vp_df.loc[twt_id][\"viewpoint\"]\n",
    "    annotation_dict[\"profanity\"][twt_id] = inc_df.loc[twt_id][\"profanity\"]\n",
    "    annotation_dict[\"insults\"][twt_id] = inc_df.loc[twt_id][\"insults\"]\n",
    "    annotation_dict[\"char. assn.\"][twt_id] = inc_df.loc[twt_id][\"char. assn.\"]\n",
    "    annotation_dict[\"outrage\"][twt_id] = inc_df.loc[twt_id][\"outrage\"]\n",
    "    annotation_dict[\"incivility\"][twt_id] = inc_df.loc[twt_id][\"incivility\"]"
   ]
  },
  {
   "cell_type": "code",
   "execution_count": 31,
   "id": "4e0495d1-ab81-44e2-a8d2-76b0aeebce3b",
   "metadata": {},
   "outputs": [],
   "source": [
    "annotation_df = pd.DataFrame(annotation_dict)"
   ]
  },
  {
   "cell_type": "code",
   "execution_count": 32,
   "id": "fcf157f5-0864-4097-9e92-ce289e5a3cd0",
   "metadata": {},
   "outputs": [],
   "source": [
    "# #Loading the annotations\n",
    "# annotated_tweets = pd.read_csv(\"./../\"+annotation+\"/conversation_with_incivility_intolerance_8columns.csv\")"
   ]
  },
  {
   "cell_type": "code",
   "execution_count": 33,
   "id": "cd99a1db-0d11-4151-b02e-65ef2e285e03",
   "metadata": {},
   "outputs": [],
   "source": [
    "# selected_columns = [i for i in annotated_tweets.columns if i not in ['Unnamed: 0', 'text']]\n",
    "# annotated_df = annotated_tweets[selected_columns]\n",
    "# annotated_df['tweet_id'] = annotated_df['tweet_id'].astype('str')\n",
    "# annotated_df2 = annotated_df.loc[~annotated_df[\"tweet_id\"].isin(lefts)]\n",
    "# annotation_df = annotated_df2.loc[~annotated_df2['tweet_id'].isin(no_text_tweets)]\n",
    "# for col in [\"relevance\", \"viewpoint\"]:\n",
    "#     annotation_df.loc[:][col] = annotation_df.loc[:][col].str.strip()"
   ]
  },
  {
   "cell_type": "code",
   "execution_count": 34,
   "id": "6ee87732-0dec-4b7a-bd21-23006c00f826",
   "metadata": {},
   "outputs": [],
   "source": [
    "# print(len(annotated_df), len(annotated_df2), len(annotation_df), len(annotated_df2)-len(annotation_df))"
   ]
  },
  {
   "cell_type": "code",
   "execution_count": 35,
   "id": "b75e1529-115f-4ce1-8d09-3f86dddc0aec",
   "metadata": {},
   "outputs": [],
   "source": [
    "# 25131 (len(annotation_df)) - 21994 (len(annotation_df)) = 3137 (which is equal to the number of tweets without the text)"
   ]
  },
  {
   "cell_type": "code",
   "execution_count": 36,
   "id": "041b6cce-71c8-46c4-9153-8d857fa74177",
   "metadata": {},
   "outputs": [
    {
     "name": "stdout",
     "output_type": "stream",
     "text": [
      "['no', 'not english', 'yes'] ['none', nan, 'diagnostic', 'counter']\n"
     ]
    }
   ],
   "source": [
    "print(list(annotation_df['relevance'].unique()), list(annotation_df['viewpoint'].unique()))"
   ]
  },
  {
   "cell_type": "code",
   "execution_count": 37,
   "id": "d4c35dd8-971b-4381-b5cc-b4f91f51e96e",
   "metadata": {},
   "outputs": [],
   "source": [
    "not_english_df = annotation_df.loc[annotation_df[\"relevance\"]=='not english']"
   ]
  },
  {
   "cell_type": "code",
   "execution_count": 38,
   "id": "2b4381fb-1771-4f50-ac5d-1ce2afd476dc",
   "metadata": {},
   "outputs": [],
   "source": [
    "annotation_df_no_englsih = annotation_df.drop(axis='index', index=not_english_df.index)"
   ]
  },
  {
   "cell_type": "code",
   "execution_count": 39,
   "id": "e1c0e17a-ad44-4436-bbf3-5971726d4e71",
   "metadata": {},
   "outputs": [],
   "source": [
    "# len(annotation_df) - len(not_english_df)"
   ]
  },
  {
   "cell_type": "code",
   "execution_count": 40,
   "id": "50afa5f7-2807-46f9-b1f0-1c34053e07a4",
   "metadata": {},
   "outputs": [],
   "source": [
    "annotation_dict = pd.DataFrame.to_dict(annotation_df_no_englsih)\n",
    "annotation_dict[\"label\"] = {i:None for i in annotation_dict[\"tweet_id\"].keys()}"
   ]
  },
  {
   "cell_type": "code",
   "execution_count": 41,
   "id": "23c16ae7-d575-4006-90fe-e1fb2b15f896",
   "metadata": {},
   "outputs": [],
   "source": [
    "for index, relevance in annotation_dict[\"relevance\"].items():\n",
    "    if relevance == \"no\":\n",
    "        annotation_dict[\"label\"][index] = \"L1\"\n",
    "    elif relevance == \"yes\":\n",
    "        if annotation_dict[\"viewpoint\"][index] == \"none\":\n",
    "            annotation_dict[\"label\"][index] = \"L2\"\n",
    "        elif annotation_dict[\"viewpoint\"][index] == \"diagnostic\":\n",
    "            annotation_dict[\"label\"][index] = \"L3\"\n",
    "        elif annotation_dict[\"viewpoint\"][index] == \"counter\":\n",
    "            annotation_dict[\"label\"][index] = \"L4\""
   ]
  },
  {
   "cell_type": "code",
   "execution_count": 42,
   "id": "77aee35e-33e9-4c9b-8014-f0fe9f2bb48c",
   "metadata": {},
   "outputs": [],
   "source": [
    "annotated_tweets_df = pd.DataFrame.from_dict(annotation_dict)\n",
    "cols = [i for i in annotated_tweets_df if i not in ['relevance', 'viewpoint']]\n",
    "annotated_tweets_df = annotated_tweets_df[cols]\n",
    "annotated_tweets_df.index = annotated_tweets_df[\"tweet_id\"]"
   ]
  },
  {
   "cell_type": "code",
   "execution_count": 43,
   "id": "4ad31e21-d961-4a6e-a01c-2126badf5fba",
   "metadata": {},
   "outputs": [],
   "source": [
    "annotated_tweets_dict = pd.DataFrame.to_dict(annotated_tweets_df)"
   ]
  },
  {
   "cell_type": "markdown",
   "id": "39156a8a-80aa-4ad4-8687-4c8b4a35ca05",
   "metadata": {
    "tags": []
   },
   "source": [
    "# Removing the tweets (without text and non-english ones) from the conversations"
   ]
  },
  {
   "cell_type": "code",
   "execution_count": 44,
   "id": "3480f41e-7baf-45f4-91e4-6acdd39cbc0a",
   "metadata": {},
   "outputs": [
    {
     "name": "stdout",
     "output_type": "stream",
     "text": [
      "2487 3107\n"
     ]
    }
   ],
   "source": [
    "print(len(not_english_df) , len(no_text_tweets))"
   ]
  },
  {
   "cell_type": "code",
   "execution_count": 45,
   "id": "bc7c78f0-44b2-41c1-8f86-2f4ae5ab3338",
   "metadata": {},
   "outputs": [],
   "source": [
    "not_english_records = set(list(not_english_df['tweet_id'].values))"
   ]
  },
  {
   "cell_type": "code",
   "execution_count": 46,
   "id": "6eb6928c-e3a2-480c-b7ff-4341348a4101",
   "metadata": {},
   "outputs": [],
   "source": [
    "to_be_removed_tweets = no_text_tweets.union(not_english_records)"
   ]
  },
  {
   "cell_type": "code",
   "execution_count": 47,
   "id": "82c5d764-349e-43c5-b678-942fa863cc76",
   "metadata": {},
   "outputs": [
    {
     "data": {
      "text/plain": [
       "5594"
      ]
     },
     "execution_count": 47,
     "metadata": {},
     "output_type": "execute_result"
    }
   ],
   "source": [
    "len(to_be_removed_tweets)"
   ]
  },
  {
   "cell_type": "code",
   "execution_count": 48,
   "id": "ca51a904-be61-4d89-bb30-43742ad6f3e4",
   "metadata": {},
   "outputs": [
    {
     "name": "stderr",
     "output_type": "stream",
     "text": [
      "100%|███████████████████████████████████████████████████████████████████████████████| 751/751 [00:01<00:00, 406.48it/s]\n"
     ]
    }
   ],
   "source": [
    "modified_network_array = []\n",
    "zeros, ones = [], []\n",
    "\n",
    "\n",
    "for network in tqdm(network_array): \n",
    "    flag = True\n",
    "    under_operation_network = copy.deepcopy(network)\n",
    "    nodes_list = network.nodes\n",
    "    \n",
    "    for node in nodes_list:\n",
    "        if node in to_be_removed_tweets:\n",
    "            if under_operation_network.out_degree(node) == 0:\n",
    "                if under_operation_network.in_degree(node) <= 1:\n",
    "                    under_operation_network.remove_node(node)\n",
    "                elif under_operation_network.in_degree(node) > 1:\n",
    "                    in_edges = list(under_operation_network.in_edges(node))\n",
    "                    new_root = in_edges[0][0]\n",
    "                    for elm in in_edges:\n",
    "                        if new_root not in elm: \n",
    "                            under_operation_network.add_edge(elm[0], new_root)\n",
    "                    under_operation_network.remove_node(node)\n",
    "                            \n",
    "            elif under_operation_network.out_degree(node) == 1:\n",
    "                if under_operation_network.in_degree(node) == 0:\n",
    "                    under_operation_network.remove_node(node)\n",
    "                elif under_operation_network.in_degree(node) >= 1:\n",
    "                    in_edges = list(under_operation_network.in_edges(node))\n",
    "                    for elm in in_edges:\n",
    "                        under_operation_network.add_edge(elm[0], list(under_operation_network.out_edges(node))[0][1])\n",
    "                    under_operation_network.remove_node(node)\n",
    "                    \n",
    "    net_size = len(under_operation_network.nodes) \n",
    "    if net_size == 0:\n",
    "        zeros.append(under_operation_network)\n",
    "        flag = False\n",
    "    elif net_size == 1:\n",
    "        ones.append(under_operation_network)\n",
    "        flag = False\n",
    "        \n",
    "\n",
    "        \n",
    "    if (len(under_operation_network.nodes) > 0) and (nx.is_connected(under_operation_network.to_undirected())):\n",
    "        if len(list(nx.simple_cycles(under_operation_network)))>0:\n",
    "            print(\"Directed cycle found\")\n",
    "        try:\n",
    "            cycle_found = len(nx.find_cycle(under_operation_network, orientation=\"ignore\"))>0\n",
    "            if cycle_found:\n",
    "                print(\"Undirected cycle found\")\n",
    "        except:\n",
    "            pass\n",
    "    \n",
    "    if (len(under_operation_network.nodes) > 0) and (not nx.is_connected(under_operation_network.to_undirected())):\n",
    "        print(\"the network is disconnected\")                        \n",
    "                \n",
    "    for node in under_operation_network.nodes:\n",
    "        if under_operation_network.out_degree(node) > 1:\n",
    "            print(\"Warning! node with out-degree>1 is found\")\n",
    "    \n",
    "    # if (len(under_operation_network.nodes) < 3): #Getting rid of networks with the size of tw\n",
    "    #     flag = False\n",
    "        \n",
    "    \n",
    "    if flag:\n",
    "        modified_network_array.append(under_operation_network)"
   ]
  },
  {
   "cell_type": "code",
   "execution_count": 49,
   "id": "c4b6fa55-6f10-405e-a01d-68ebcfc7fe02",
   "metadata": {},
   "outputs": [],
   "source": [
    "modified_hyper_network = nx.DiGraph()\n",
    "for graph in modified_network_array:\n",
    "    modified_hyper_network.add_edges_from(graph.edges)"
   ]
  },
  {
   "cell_type": "code",
   "execution_count": 50,
   "id": "328d606f-f526-429b-aba8-de3bcb96c4ad",
   "metadata": {},
   "outputs": [
    {
     "name": "stdout",
     "output_type": "stream",
     "text": [
      "751 751 664 664\n"
     ]
    }
   ],
   "source": [
    "print(len(network_array), nx.number_connected_components(hyper_network.to_undirected()),  len(modified_network_array), nx.number_connected_components(modified_hyper_network.to_undirected()))"
   ]
  },
  {
   "cell_type": "code",
   "execution_count": 51,
   "id": "b68f2d07-fa07-4c55-a9ba-de22284e2fa0",
   "metadata": {},
   "outputs": [],
   "source": [
    "nx.write_gexf(modified_hyper_network, path=\"./../\"+output_path+\"/networks_gexf/\"+\"_conversations_modified.gexf\")"
   ]
  },
  {
   "cell_type": "markdown",
   "id": "c7c4c8d8-0655-4304-904c-b156f8004b35",
   "metadata": {
    "jp-MarkdownHeadingCollapsed": true,
    "tags": []
   },
   "source": [
    "<!-- # Adding some properties to the modified network nodes -->"
   ]
  },
  {
   "cell_type": "markdown",
   "id": "5e1a4189-9dc6-484b-8df9-4030f9a250ea",
   "metadata": {},
   "source": [
    "# Removing enitirely irrelevant conversations networks"
   ]
  },
  {
   "cell_type": "code",
   "execution_count": 52,
   "id": "f3cac376-7d33-418d-9fa0-609ac3e2c385",
   "metadata": {},
   "outputs": [
    {
     "name": "stderr",
     "output_type": "stream",
     "text": [
      "100%|███████████████████████████████████████████████████████████████████████████████| 664/664 [00:03<00:00, 215.47it/s]\n"
     ]
    }
   ],
   "source": [
    "for network in tqdm(modified_network_array):\n",
    "    for node in network.nodes:\n",
    "        network.nodes[node][\"text\"] = tweet_text[node]\n",
    "        network.nodes[node][\"annotation\"] = annotated_tweets_df.loc[node]['label']"
   ]
  },
  {
   "cell_type": "code",
   "execution_count": 53,
   "id": "5d0a1eca-cd14-46a1-9fc4-abd34ff535a1",
   "metadata": {},
   "outputs": [],
   "source": [
    "relevant_network_array = []\n",
    "for network in modified_network_array:\n",
    "    flag = False\n",
    "    for node in network.nodes:\n",
    "        if network.nodes[node][\"annotation\"] != \"L1\":\n",
    "            flag = True\n",
    "            break\n",
    "    if flag:\n",
    "        relevant_network_array.append(network)"
   ]
  },
  {
   "cell_type": "code",
   "execution_count": 54,
   "id": "6d2c185e-82b6-4bbe-895a-6684aeb6bfe5",
   "metadata": {},
   "outputs": [
    {
     "name": "stdout",
     "output_type": "stream",
     "text": [
      "664 412\n"
     ]
    }
   ],
   "source": [
    "print(len(modified_network_array), len(relevant_network_array))"
   ]
  },
  {
   "cell_type": "code",
   "execution_count": 55,
   "id": "b533536d-cc28-40c8-b8af-f8827f46ba6b",
   "metadata": {},
   "outputs": [],
   "source": [
    "# removing single authored conversations\n",
    "related_network_array = []\n",
    "for network in relevant_network_array:\n",
    "    authors = set()\n",
    "    flag = False\n",
    "    for node in network.nodes:\n",
    "        authors.add(tweet_author[node])\n",
    "        if len(authors) > 1:\n",
    "            flag = True\n",
    "            break\n",
    "    if flag:\n",
    "        related_network_array.append(network)"
   ]
  },
  {
   "cell_type": "code",
   "execution_count": 56,
   "id": "38577d7b-d158-497f-9871-a8cfdf413146",
   "metadata": {},
   "outputs": [
    {
     "name": "stdout",
     "output_type": "stream",
     "text": [
      "412 366\n"
     ]
    }
   ],
   "source": [
    "print(len(relevant_network_array), len(related_network_array))"
   ]
  },
  {
   "cell_type": "code",
   "execution_count": 57,
   "id": "95dc314f-ab78-498b-8b28-9fd2299bd0f9",
   "metadata": {},
   "outputs": [],
   "source": [
    "relevant_modified_hyper_network_with_attributes = nx.DiGraph()\n",
    "for graph in related_network_array:\n",
    "    relevant_modified_hyper_network_with_attributes.add_nodes_from(graph.nodes)\n",
    "    relevant_modified_hyper_network_with_attributes.add_edges_from(graph.edges)"
   ]
  },
  {
   "cell_type": "code",
   "execution_count": 58,
   "id": "2f552ddf-17cd-406b-97ff-1d5a6fcafeb7",
   "metadata": {},
   "outputs": [
    {
     "name": "stderr",
     "output_type": "stream",
     "text": [
      "100%|████████████████████████████████████████████████████████████████████████████████| 366/366 [00:19<00:00, 18.74it/s]\n"
     ]
    }
   ],
   "source": [
    "conv_vps, conv_inc = {},{}\n",
    "tweets_summary = {\"tweet_id\":{}, \"viewpoint\":{} ,\"incivility\":{}}\n",
    "conv_id = 0\n",
    "subgraphs=list(relevant_modified_hyper_network_with_attributes.subgraph(c) for c in nx.connected_components(relevant_modified_hyper_network_with_attributes.to_undirected()))\n",
    "for component in tqdm(subgraphs):\n",
    "    conv_vps[conv_id] = []\n",
    "    conv_inc[conv_id] = []\n",
    "    for node in list(component.nodes):\n",
    "        \n",
    "        tweets_summary[\"tweet_id\"][node] = node\n",
    "        tweets_summary[\"viewpoint\"][node] = annotated_tweets_df.loc[node]['label']\n",
    "        tweets_summary[\"incivility\"][node] = annotated_tweets_df.loc[node]['incivility']\n",
    "        \n",
    "        component.nodes[node]['profanity'] = annotated_tweets_df.loc[node]['profanity']\n",
    "        component.nodes[node]['insults'] = annotated_tweets_df.loc[node]['insults']\n",
    "        component.nodes[node]['char. assn.'] = annotated_tweets_df.loc[node]['char. assn.']\n",
    "        component.nodes[node]['outrage'] = annotated_tweets_df.loc[node]['outrage']\n",
    "        # component.nodes[node]['L2_intolerance'] = annotated_tweets_df.loc[node]['L2_intolerance']\n",
    "        # component.nodes[node]['discrimination'] = annotated_tweets_df.loc[node]['discrimination']\n",
    "        # component.nodes[node]['intolerance'] = annotated_tweets_df.loc[node]['intolerance']\n",
    "        component.nodes[node]['incivility'] = annotated_tweets_df.loc[node]['incivility']\n",
    "        component.nodes[node]['label'] = annotated_tweets_df.loc[node]['label']\n",
    "        component.nodes[node]['tweet_id'] = annotated_tweets_df.loc[node]['tweet_id']\n",
    "        component.nodes[node]['conv_id'] = conv_id\n",
    "        \n",
    "        # inc_lbl = \"inc\" if annotated_tweets_dict['incivility'][node] == 1 else \"civ\"\n",
    "        # int_lbl = \"int\" if annotated_tweets_dict['intolerance'][node] == 1 else \"tol\"\n",
    "        # node_lbl = inc_lbl + \" and \" + int_lbl \n",
    "        # component.nodes[node]['inc_int_lbl'] = node_lbl\n",
    "        \n",
    "        conv_vps[conv_id].append(annotated_tweets_df.loc[node]['label'])\n",
    "        conv_inc[conv_id].append(annotated_tweets_df.loc[node]['incivility'])\n",
    "    conv_id += 1"
   ]
  },
  {
   "cell_type": "code",
   "execution_count": 59,
   "id": "4f2bf12b-3cee-4ccd-af70-308dd4362eee",
   "metadata": {},
   "outputs": [
    {
     "data": {
      "text/plain": [
       "366"
      ]
     },
     "execution_count": 59,
     "metadata": {},
     "output_type": "execute_result"
    }
   ],
   "source": [
    "nx.number_connected_components(relevant_modified_hyper_network_with_attributes.to_undirected())"
   ]
  },
  {
   "cell_type": "code",
   "execution_count": 60,
   "id": "5b3bef60-4b2b-45a2-991a-6e3f7ce22b91",
   "metadata": {},
   "outputs": [],
   "source": [
    "nx.write_gexf(relevant_modified_hyper_network_with_attributes, path=\"./../\"+output_path+\"/networks_gexf/\"+\"_conversations_relevant_modified_with_attributes.gexf\")"
   ]
  },
  {
   "cell_type": "code",
   "execution_count": 61,
   "id": "b274b281-f6dc-4df7-9f32-5f01b68ede9c",
   "metadata": {},
   "outputs": [],
   "source": [
    "pk.dump(conv_vps, open(\"./../\"+output_path+\"/pickles/\"+\"convs_vps.pk\", \"wb\"))\n",
    "pk.dump(conv_inc, open(\"./../\"+output_path+\"/pickles/\"+\"conv_inc.pk\", \"wb\"))"
   ]
  },
  {
   "cell_type": "code",
   "execution_count": 62,
   "id": "d75e14a8-ab37-4d7f-86e4-859c8b2e196f",
   "metadata": {},
   "outputs": [],
   "source": [
    "tweets_summary_df = pd.DataFrame(tweets_summary)\n",
    "tweets_summary_df.to_csv(\"./../\"+output_path+\"/csv/\"+\"tweets_summary.csv\")"
   ]
  },
  {
   "cell_type": "code",
   "execution_count": 63,
   "id": "e96fbedd-cb77-46e8-8965-f6e977d594a0",
   "metadata": {},
   "outputs": [],
   "source": [
    "# # Collecting irrelevant tweets to pass to the third model for geeting the label\n",
    "# irrelevant_tweets_in_relevant_conversations = {}\n",
    "\n",
    "# for net in related_network_array:\n",
    "#     for node in net.nodes:\n",
    "#         if net.nodes[node][\"annotation\"] == \"L1\":\n",
    "#             irrelevant_tweets_in_relevant_conversations[node] = net.nodes[node][\"text\"]\n",
    "            \n",
    "# pk.dump(irrelevant_tweets_in_relevant_conversations, open(\"./pickles/\"+subject+\"_irrelevant_tweets_in_relevant_conversations.pk\", \"wb\"))"
   ]
  },
  {
   "cell_type": "markdown",
   "id": "4c4842b7-6d3d-45cb-ab0f-936cd5af8ac6",
   "metadata": {},
   "source": [
    "### Conversation level details"
   ]
  },
  {
   "cell_type": "code",
   "execution_count": 64,
   "id": "5ca5c0be-dfb9-4538-a032-354fb3ae6bd3",
   "metadata": {},
   "outputs": [
    {
     "name": "stdout",
     "output_type": "stream",
     "text": [
      "366\n"
     ]
    },
    {
     "name": "stderr",
     "output_type": "stream",
     "text": [
      "366it [00:14, 25.11it/s]\n"
     ]
    }
   ],
   "source": [
    "### Conversation level details\n",
    "conv_det = {}\n",
    "conversations=list(relevant_modified_hyper_network_with_attributes.subgraph(c) for c in nx.connected_components(relevant_modified_hyper_network_with_attributes.to_undirected()))\n",
    "print(len(conversations))\n",
    "for conv_id, conv in tqdm(enumerate(conversations)):\n",
    "    conv_det[conv_id] = {}\n",
    "    conv_det[conv_id][\"labels\"] = {}\n",
    "    conv_det[conv_id][\"size\"] = len(conv.nodes)\n",
    "    conv_det[conv_id][\"depth\"] = None\n",
    "    conv_det[conv_id][\"authors\"] = []\n",
    "    conv_det[conv_id][\"authors_count\"] = None\n",
    "    conv_det[conv_id][\"distinct_authors_count\"] = None\n",
    "    conv_det[conv_id][\"WI\"] = None\n",
    "    conv_det[conv_id][\"conversation_graph\"] = conv\n",
    "    conv_det[conv_id][\"root_node\"] = None\n",
    "    conv_det[conv_id][\"root_node_label\"] = None\n",
    "    \n",
    "    conv_det[conv_id]['profanity'] = []\n",
    "    conv_det[conv_id]['insults'] = []\n",
    "    conv_det[conv_id]['char. assn.'] = []\n",
    "    conv_det[conv_id]['outrage'] = []\n",
    "    # conv_det[conv_id]['L2_intolerance'] = []\n",
    "    # conv_det[conv_id]['discrimination'] = []\n",
    "    # conv_det[conv_id]['intolerance'] = []\n",
    "    conv_det[conv_id]['incivility'] = []\n",
    "    conv_det[conv_id]['annotation'] = []\n",
    "    conv_det[conv_id]['tweet_id'] = []\n",
    "\n",
    "\n",
    "    for n,d in dict(conv.out_degree).items():\n",
    "        if d == 0:\n",
    "            conv_det[conv_id][\"root_node\"] = n\n",
    "            conv_det[conv_id][\"root_node_label\"] = annotated_tweets_df.loc[n][\"label\"]\n",
    "            break   \n",
    "\n",
    "    for node in conv.nodes:\n",
    "        ###\n",
    "        conv_det[conv_id]['profanity'].append(annotated_tweets_df.loc[node]['profanity'])\n",
    "        conv_det[conv_id]['insults'].append(annotated_tweets_df.loc[node]['insults'])\n",
    "        conv_det[conv_id]['char. assn.'].append(annotated_tweets_df.loc[node]['char. assn.'])\n",
    "        conv_det[conv_id]['outrage'].append(annotated_tweets_df.loc[node]['outrage'])\n",
    "        # conv_det[conv_id]['L2_intolerance'].append(annotated_tweets_df.loc[node]['L2_intolerance'])\n",
    "        # conv_det[conv_id]['discrimination'].append(annotated_tweets_df.loc[node]['discrimination'])\n",
    "        # conv_det[conv_id]['intolerance'].append(annotated_tweets_df.loc[node]['intolerance'])\n",
    "        conv_det[conv_id]['incivility'].append(annotated_tweets_df.loc[node]['incivility'])\n",
    "        conv_det[conv_id]['tweet_id'].append(annotated_tweets_df.loc[node]['tweet_id'])\n",
    "        ###\n",
    "        label = annotated_tweets_df.loc[node][\"label\"]\n",
    "        conv_det[conv_id][\"labels\"][label] = conv_det[conv_id][\"labels\"].get(label, 0) + 1\n",
    "        conv_det[conv_id][\"authors\"].append(tweet_author[node])\n",
    "    conv_det[conv_id][\"authors_count\"] = len(conv_det[conv_id][\"authors\"])\n",
    "    conv_det[conv_id][\"distinct_authors_count\"] = len(set(conv_det[conv_id][\"authors\"]))\n",
    "\n",
    "    max_path = 0\n",
    "    leaves = []\n",
    "    paths = []\n",
    "    for node in conv.nodes:\n",
    "        if conv.out_degree(node) == 0:\n",
    "            root = node\n",
    "        elif conv.in_degree(node) == 0:\n",
    "            leaves.append(node)\n",
    "    for leaf in leaves:\n",
    "        paths.append(len([i for i in nx.shortest_simple_paths(conv, leaf, root)][0])-1)\n",
    "        max_path = np.max(paths)\n",
    "    conv_det[conv_id][\"depth\"] = max_path\n",
    "\n",
    "    node_size = len(conv.nodes())\n",
    "    conv_det[conv_id][\"WI\"] = nx.algorithms.wiener.wiener_index(conv.to_undirected(())) / ((node_size*(node_size-1))/2)        "
   ]
  },
  {
   "cell_type": "code",
   "execution_count": 65,
   "id": "1867cbe2-971e-4448-a2ff-3f994aadf8eb",
   "metadata": {},
   "outputs": [],
   "source": [
    "# pd.DataFrame.from_dict(conv_det, orient='index')"
   ]
  },
  {
   "cell_type": "code",
   "execution_count": 66,
   "id": "de7cda79-8ba8-4486-bf23-65f9981f4221",
   "metadata": {},
   "outputs": [],
   "source": [
    "#For tensor board and t-sne/pca\n",
    "lbls_fraction = pd.read_csv(\"./../\"+general_data+\"/conversation label fractions_16-3-2022.tsv\", sep='\\t')[[\"L1\", \"L2\", \"L3\", \"L4\", \"incivility\"]]\n",
    "lbls_fraction.to_csv(\"./../\"+output_path+\"/csv/\"+\"lbls_frac.tsv\", sep=\"\\t\", index=False, header=False)\n",
    "lbls_fraction_labels = lbls_fraction.T.reset_index().T.reset_index()\n",
    "lbls_fraction_labels.to_csv(\"./../\"+output_path+\"/csv/\"+\"lbls_frac_lbls.tsv\", sep=\"\\t\", index=False, header=False)"
   ]
  },
  {
   "cell_type": "code",
   "execution_count": 67,
   "id": "c2f5ce97-abd1-426f-a2e2-88066c48b274",
   "metadata": {},
   "outputs": [],
   "source": [
    "# lbls_fraction_labels = \"\\t\".join(list(lbls_fraction.columns))\n",
    "# with open(\"./../\"+output_path+\"/csv/\"+\"lbls_frac_lbls.tsv\", \"w\") as f:\n",
    "#     f.write(lbls_fraction_labels)\n",
    "# lbls_fraction_labels = pd.DataFrame(columns=[\"L1\", \"L2\", \"L3\", \"L4\", \"incivility\"], index=range(0,366))"
   ]
  },
  {
   "cell_type": "code",
   "execution_count": 68,
   "id": "a4044192-1780-45d9-b381-9150073988df",
   "metadata": {},
   "outputs": [],
   "source": [
    "# To retrieve all the tweet objects\n",
    "tweet_ids = []\n",
    "for every_conv, the_conv in conv_det.items():\n",
    "    tweet_ids += the_conv['tweet_id']\n",
    "pk.dump(tweet_ids, open(\"./../\"+output_path+\"/pickles/\"+\"tweet_ids.pk\", \"wb\"))"
   ]
  },
  {
   "cell_type": "markdown",
   "id": "ce6bf5e1-ef96-4b73-b5b9-498e6df36338",
   "metadata": {},
   "source": [
    "# Sorting the tweets temporally"
   ]
  },
  {
   "cell_type": "code",
   "execution_count": 69,
   "id": "2a1a3b78-9ceb-49ac-be10-0fb37001af1e",
   "metadata": {},
   "outputs": [],
   "source": [
    "import pytz"
   ]
  },
  {
   "cell_type": "code",
   "execution_count": 70,
   "id": "fd2478be-917d-4969-bc70-c6d42b85e473",
   "metadata": {},
   "outputs": [],
   "source": [
    "# Loading the Rishav's tweets timestamps"
   ]
  },
  {
   "cell_type": "code",
   "execution_count": 71,
   "id": "c65b20c2-083f-455b-aac3-264a70245e45",
   "metadata": {},
   "outputs": [],
   "source": [
    "ts = np.load(\"./../\"+general_data+\"/tweet_timestamps.npy\",allow_pickle=True)\n",
    "ts_dict = ts.item()"
   ]
  },
  {
   "cell_type": "code",
   "execution_count": 72,
   "id": "32a7309c-0ce8-4e2c-ad46-0b59c52ef068",
   "metadata": {},
   "outputs": [
    {
     "name": "stdout",
     "output_type": "stream",
     "text": [
      "366\n"
     ]
    },
    {
     "name": "stderr",
     "output_type": "stream",
     "text": [
      "366it [00:05, 73.10it/s]\n"
     ]
    }
   ],
   "source": [
    "patt_1 = \"%Y-%m-%dT%H:%M:%S.%fZ\"\n",
    "patt_2 = \"%a %b %d %H:%M:%S %z %Y\"\n",
    "timezone = pytz.timezone(\"UTC\")\n",
    "\n",
    "conv_temporal_det = {}\n",
    "conversations=list(relevant_modified_hyper_network_with_attributes.subgraph(c) for c in nx.connected_components(relevant_modified_hyper_network_with_attributes.to_undirected()))\n",
    "print(len(conversations))\n",
    "for conv_id, conv in tqdm(enumerate(conversations)):\n",
    "    conv_temporal_det[conv_id] = {}\n",
    "    conv_temporal_det[conv_id]['incivility'] = {}\n",
    "    conv_temporal_det[conv_id]['annotation'] = {}\n",
    "    conv_temporal_det[conv_id]['datetime'] = {}\n",
    "    conv_temporal_det[conv_id][\"depth\"] = None\n",
    "    \n",
    "    conv_temporal_det[conv_id]['incivility_temporal'] = [] \n",
    "    conv_temporal_det[conv_id]['annotation_temporal'] = []\n",
    "\n",
    "    for node in conv.nodes:\n",
    "        conv_temporal_det[conv_id][\"incivility\"][node] = annotated_tweets_df.loc[node]['incivility']\n",
    "        conv_temporal_det[conv_id][\"annotation\"][node] = annotated_tweets_df.loc[node][\"label\"]\n",
    "        \n",
    "        try:\n",
    "            dt_obj_t = datetime.strptime(ts_dict[node], patt_1)\n",
    "            dt_obj = timezone.localize(dt_obj_t)\n",
    "        except:\n",
    "            dt_obj = datetime.strptime(ts_dict[node], patt_2)\n",
    "        conv_temporal_det[conv_id][\"datetime\"][dt_obj] = node\n",
    "    temporal_list = sorted(list(conv_temporal_det[conv_id][\"datetime\"].keys()))\n",
    "    \n",
    "    for dt_obj in temporal_list:\n",
    "        twt_id = conv_temporal_det[conv_id][\"datetime\"][dt_obj]\n",
    "        conv_temporal_det[conv_id]['incivility_temporal'].append(conv_temporal_det[conv_id]['incivility'][twt_id])\n",
    "        conv_temporal_det[conv_id]['annotation_temporal'].append(conv_temporal_det[conv_id]['annotation'][twt_id])\n",
    "        \n",
    "    max_path = 0\n",
    "    leaves = []\n",
    "    paths = []\n",
    "    for node in conv.nodes:\n",
    "        if conv.out_degree(node) == 0:\n",
    "            root = node\n",
    "        elif conv.in_degree(node) == 0:\n",
    "            leaves.append(node)\n",
    "    for leaf in leaves:\n",
    "        paths.append(len([i for i in nx.shortest_simple_paths(conv, leaf, root)][0])-1)\n",
    "        max_path = np.max(paths)\n",
    "    conv_temporal_det[conv_id][\"depth\"] = max_path"
   ]
  },
  {
   "cell_type": "code",
   "execution_count": 73,
   "id": "ba1df209-4cc5-47f6-8959-83804466b6ee",
   "metadata": {},
   "outputs": [],
   "source": [
    "pk.dump(conv_temporal_det, open(\"./../\"+output_path+\"/pickles/\"+\"conv_temporal_det.pk\", \"wb\"))"
   ]
  },
  {
   "cell_type": "code",
   "execution_count": null,
   "id": "1153439d-a639-4ad3-a01e-53bf93e5d0a2",
   "metadata": {},
   "outputs": [],
   "source": []
  },
  {
   "cell_type": "code",
   "execution_count": null,
   "id": "13f240aa-43a4-409e-a351-675efa513d4b",
   "metadata": {},
   "outputs": [],
   "source": []
  },
  {
   "cell_type": "code",
   "execution_count": null,
   "id": "6cf81424-c3a1-4d05-8107-3d3fce789b9f",
   "metadata": {},
   "outputs": [],
   "source": []
  },
  {
   "cell_type": "code",
   "execution_count": null,
   "id": "84f3313d-4842-4fa3-acec-788b3824f411",
   "metadata": {},
   "outputs": [],
   "source": []
  },
  {
   "cell_type": "code",
   "execution_count": null,
   "id": "c044fb15-a168-44a5-82ad-191af4a1fbc6",
   "metadata": {},
   "outputs": [],
   "source": []
  },
  {
   "cell_type": "code",
   "execution_count": null,
   "id": "674c6333-3be3-4403-a8f1-0d0050fe3eea",
   "metadata": {},
   "outputs": [],
   "source": []
  },
  {
   "cell_type": "code",
   "execution_count": null,
   "id": "ccf4b203-bf4e-4147-a5ac-5d2285471178",
   "metadata": {},
   "outputs": [],
   "source": []
  },
  {
   "cell_type": "markdown",
   "id": "7206c9eb-1bab-420f-b00e-90bee9e08465",
   "metadata": {
    "tags": []
   },
   "source": [
    "# Descriptives"
   ]
  },
  {
   "cell_type": "code",
   "execution_count": 74,
   "id": "9b427684-74b0-4f52-bf53-be5b461d5259",
   "metadata": {},
   "outputs": [
    {
     "name": "stderr",
     "output_type": "stream",
     "text": [
      "100%|██████████████████████████████████████████████████████████████████████████████| 366/366 [00:00<00:00, 3250.86it/s]\n"
     ]
    }
   ],
   "source": [
    "conv_lbl_vp_frac = {}\n",
    "conv_lbl_vp_count = {}\n",
    "subgraphs=list(relevant_modified_hyper_network_with_attributes.subgraph(c) for c in nx.connected_components(relevant_modified_hyper_network_with_attributes.to_undirected()))\n",
    "for component in tqdm(subgraphs):\n",
    "    for node in list(component.nodes):\n",
    "        c_id = component.nodes[node]['conv_id']\n",
    "        if c_id not in conv_lbl_vp_count.keys():\n",
    "            conv_lbl_vp_count[c_id] = {\"L1\":0, \"L2\":0, \"L3\":0, \"L4\":0, \"L1_inc\":0, \"L2_inc\":0, \"L3_inc\":0, \"L4_inc\":0}\n",
    "        n_lbl = component.nodes[node]['label']\n",
    "        inc_status = component.nodes[node]['incivility']\n",
    "        conv_lbl_vp_count[c_id][n_lbl] += 1\n",
    "        conv_lbl_vp_count[c_id][n_lbl+\"_inc\"] += inc_status\n",
    "\n"
   ]
  },
  {
   "cell_type": "code",
   "execution_count": 75,
   "id": "fac04866-11a4-4f77-8c66-3cb8259783fb",
   "metadata": {},
   "outputs": [],
   "source": [
    "for co_id, co in conv_lbl_vp_count.items():\n",
    "    conv_lbl_vp_frac[co_id] = {\"L1_frac\":0, \"L2_frac\":0, \"L3_frac\":0, \"L4_frac\":0, \"L1_inc_frac\":0, \"L2_inc_frac\":0, \"L3_inc_frac\":0, \"L4_inc_frac\":0}  \n",
    "    \n",
    "    denom = co[\"L1\"]+co[\"L2\"]+co[\"L3\"]+co[\"L4\"]\n",
    "    conv_lbl_vp_frac[co_id][\"L1_frac\"] = co[\"L1\"]/denom\n",
    "    conv_lbl_vp_frac[co_id][\"L2_frac\"] = co[\"L2\"]/denom\n",
    "    conv_lbl_vp_frac[co_id][\"L3_frac\"] = co[\"L3\"]/denom\n",
    "    conv_lbl_vp_frac[co_id][\"L4_frac\"] = co[\"L4\"]/denom\n",
    "    \n",
    "    conv_lbl_vp_frac[co_id][\"L1_inc_frac\"] = co[\"L1_inc\"] / co[\"L1\"] if co[\"L1\"]!=0 else 0\n",
    "    conv_lbl_vp_frac[co_id][\"L2_inc_frac\"] = co[\"L2_inc\"] / co[\"L2\"] if co[\"L2\"]!=0 else 0\n",
    "    conv_lbl_vp_frac[co_id][\"L3_inc_frac\"] = co[\"L3_inc\"] / co[\"L3\"] if co[\"L3\"]!=0 else 0\n",
    "    conv_lbl_vp_frac[co_id][\"L4_inc_frac\"] = co[\"L4_inc\"] / co[\"L4\"] if co[\"L4\"]!=0 else 0"
   ]
  },
  {
   "cell_type": "code",
   "execution_count": 76,
   "id": "2d451034-9372-4160-a834-bdbaccb3e74a",
   "metadata": {},
   "outputs": [],
   "source": [
    "conv_lbl_vp_frac_df = pd.DataFrame.from_dict(conv_lbl_vp_frac, orient='index')"
   ]
  },
  {
   "cell_type": "code",
   "execution_count": 77,
   "id": "66458a60-a137-46ec-b13b-f5bfdc4733bb",
   "metadata": {},
   "outputs": [
    {
     "data": {
      "image/png": "[encoded data removed]",
      "text/plain": [
       "<Figure size 578.88x432 with 1 Axes>"
      ]
     },
     "metadata": {},
     "output_type": "display_data"
    }
   ],
   "source": [
    "g = sns.lmplot(x=\"L1_frac\", y=\"L1_inc_frac\", data=conv_lbl_vp_frac_df[[\"L1_frac\", \"L1_inc_frac\"]], height=6, aspect=1.34, legend=True)\n",
    "\n",
    "g.ax.set_ylabel(\"L1 incivility fraction\")\n",
    "g.ax.set_xlabel(\"L1 fraction\")\n",
    "# g.ax.legend(ncol=1, loc=2)\n",
    "\n",
    "plt.tight_layout()\n",
    "\n",
    "plt.savefig(\"./../\"+output_path+\"/figures/\"+\"L1_inc_frac.png\", bbox_inches=\"tight\")\n",
    "plt.show()"
   ]
  },
  {
   "cell_type": "code",
   "execution_count": 78,
   "id": "fd5956bd-8e26-40d5-9255-b033aed50443",
   "metadata": {},
   "outputs": [
    {
     "data": {
      "image/png": "[encoded data removed]",
      "text/plain": [
       "<Figure size 578.88x432 with 1 Axes>"
      ]
     },
     "metadata": {},
     "output_type": "display_data"
    }
   ],
   "source": [
    "g = sns.lmplot(x=\"L2_frac\", y=\"L2_inc_frac\", data=conv_lbl_vp_frac_df[[\"L2_frac\", \"L2_inc_frac\"]], height=6, aspect=1.34, legend=True)\n",
    "\n",
    "g.ax.set_ylabel(\"L2 incivility fraction\")\n",
    "g.ax.set_xlabel(\"L2 fraction\")\n",
    "# g.ax.legend(ncol=1, loc=2)\n",
    "\n",
    "plt.tight_layout()\n",
    "\n",
    "plt.savefig(\"./../\"+output_path+\"/figures/\"+\"L2_inc_frac.png\", bbox_inches=\"tight\")\n",
    "plt.show()"
   ]
  },
  {
   "cell_type": "code",
   "execution_count": 79,
   "id": "e8726506-1c7f-4b28-9ff3-7eb8dd69b9bb",
   "metadata": {},
   "outputs": [
    {
     "data": {
      "image/png": "[encoded data removed]",
      "text/plain": [
       "<Figure size 578.88x432 with 1 Axes>"
      ]
     },
     "metadata": {},
     "output_type": "display_data"
    }
   ],
   "source": [
    "g = sns.lmplot(x=\"L3_frac\", y=\"L3_inc_frac\", data=conv_lbl_vp_frac_df[[\"L3_frac\", \"L3_inc_frac\"]], height=6, aspect=1.34, legend=True)\n",
    "\n",
    "g.ax.set_ylabel(\"L3 incivility fraction\")\n",
    "g.ax.set_xlabel(\"L3 fraction\")\n",
    "# g.ax.legend(ncol=1, loc=2)\n",
    "\n",
    "plt.tight_layout()\n",
    "\n",
    "plt.savefig(\"./../\"+output_path+\"/figures/\"+\"L3_inc_frac.png\", bbox_inches=\"tight\")\n",
    "plt.show()"
   ]
  },
  {
   "cell_type": "code",
   "execution_count": 80,
   "id": "8d5597c1-8680-450b-a621-7d3ce4edb409",
   "metadata": {},
   "outputs": [
    {
     "data": {
      "image/png": "[encoded data removed]",
      "text/plain": [
       "<Figure size 578.88x432 with 1 Axes>"
      ]
     },
     "metadata": {},
     "output_type": "display_data"
    }
   ],
   "source": [
    "g = sns.lmplot(x=\"L4_frac\", y=\"L4_inc_frac\", data=conv_lbl_vp_frac_df[[\"L4_frac\", \"L4_inc_frac\"]], height=6, aspect=1.34, legend=True)\n",
    "\n",
    "g.ax.set_ylabel(\"L4 incivility fraction\")\n",
    "g.ax.set_xlabel(\"L4 fraction\")\n",
    "# g.ax.legend(ncol=1, loc=2)\n",
    "\n",
    "plt.tight_layout()\n",
    "\n",
    "plt.savefig(\"./../\"+output_path+\"/figures/\"+\"L4_inc_frac.png\", bbox_inches=\"tight\")\n",
    "plt.show()"
   ]
  },
  {
   "cell_type": "code",
   "execution_count": null,
   "id": "a9fb1850-82de-4578-a319-b0b316f71470",
   "metadata": {},
   "outputs": [],
   "source": []
  },
  {
   "cell_type": "code",
   "execution_count": null,
   "id": "0ed1f6df-b877-4f00-b1b1-2f54aef381b1",
   "metadata": {},
   "outputs": [],
   "source": []
  },
  {
   "cell_type": "code",
   "execution_count": null,
   "id": "f7ad21a6-eecc-4996-a7f4-23b1a5938eb6",
   "metadata": {},
   "outputs": [],
   "source": []
  },
  {
   "cell_type": "code",
   "execution_count": null,
   "id": "e2acaf43-8fc2-4bf5-917d-4af99a02b863",
   "metadata": {},
   "outputs": [],
   "source": []
  },
  {
   "cell_type": "code",
   "execution_count": 81,
   "id": "5cbd6725-112d-474d-9436-1ee2b068ecdf",
   "metadata": {},
   "outputs": [],
   "source": [
    "selector = make_column_selector(dtype_exclude=object)\n",
    "numeric_columns = selector(annotated_tweets_df)\n",
    "annotated_tweets_df_numeric = annotated_tweets_df[numeric_columns]"
   ]
  },
  {
   "cell_type": "code",
   "execution_count": 82,
   "id": "9d7326e0-9700-421f-b84e-48770b45652f",
   "metadata": {},
   "outputs": [],
   "source": [
    "# Frequency and fraction of incivility/intolerance labels\n",
    "\n",
    "inc_int_freq = dict(annotated_tweets_df_numeric.sum())\n",
    "_inc_int_freq = {i:[j] for i,j in inc_int_freq.items()}\n",
    "inc_int_frac = dict(annotated_tweets_df_numeric.sum()/len(annotated_tweets_df_numeric))\n",
    "_inc_int_frac = {p:[q] for p,q in inc_int_frac.items()}"
   ]
  },
  {
   "cell_type": "code",
   "execution_count": 83,
   "id": "51950e18-5327-41e2-a8d2-7d560b2a3a99",
   "metadata": {},
   "outputs": [
    {
     "data": {
      "image/png": "[encoded data removed]",
      "text/plain": [
       "<Figure size 720x576 with 1 Axes>"
      ]
     },
     "metadata": {},
     "output_type": "display_data"
    }
   ],
   "source": [
    "sns.light_palette(\"seagreen\", as_cmap=True)\n",
    "fig, ax = plt.subplots(figsize=(10,8))\n",
    "chart = sns.barplot(data=pd.DataFrame.from_dict(_inc_int_freq))\n",
    "\n",
    "ax.set_ylim(top=4000)\n",
    "# plt.xticks(rotation=30, ha='right')\n",
    "ax.set_title(\"The number of tweets with incivility-intolerance labels\")\n",
    "ax.set_xticklabels(ax.get_xticklabels(), rotation=45)\n",
    "plt.savefig(\"./../\"+output_path+\"/figures/\"+\"_tweet_number_inc_int.png\", bbox_inches=\"tight\")\n",
    "plt.show()"
   ]
  },
  {
   "cell_type": "code",
   "execution_count": 84,
   "id": "bbdb0e4a-47ad-45ed-8154-60de7822ad33",
   "metadata": {},
   "outputs": [
    {
     "data": {
      "image/png": "[encoded data removed]",
      "text/plain": [
       "<Figure size 720x576 with 1 Axes>"
      ]
     },
     "metadata": {},
     "output_type": "display_data"
    }
   ],
   "source": [
    "sns.light_palette(\"seagreen\", as_cmap=True)\n",
    "fig, ax = plt.subplots(figsize=(10,8))\n",
    "chart = sns.barplot(data=pd.DataFrame.from_dict(_inc_int_frac))\n",
    "\n",
    "ax.set_ylim(top=0.2)\n",
    "# plt.xticks(rotation=30, ha='right')\n",
    "ax.set_title(\"The fraction of tweets with incivility-intolerance labels\")\n",
    "ax.set_xticklabels(ax.get_xticklabels(), rotation=45)\n",
    "plt.savefig(\"./../\"+output_path+\"/figures/\"+\"_tweet_frac_inc_int.png\", bbox_inches=\"tight\")\n",
    "plt.show()"
   ]
  },
  {
   "cell_type": "code",
   "execution_count": 85,
   "id": "5d946202-e5fb-4306-8a0e-ad487937424e",
   "metadata": {},
   "outputs": [],
   "source": [
    "annotated_tweets_dict = pd.DataFrame.to_dict(annotated_tweets_df)"
   ]
  },
  {
   "cell_type": "code",
   "execution_count": 86,
   "id": "64fb9a75-560e-4c13-b683-797d3a63342d",
   "metadata": {},
   "outputs": [],
   "source": [
    "inc_int_lbl_overlap_dict = {}\n",
    "inc_int_columns = list(annotated_tweets_df_numeric.columns)\n",
    "for col in inc_int_columns:\n",
    "    inc_int_lbl_overlap_dict[col] = {\"L1\":0, \"L2\":0, \"L3\":0, \"L4\":0}"
   ]
  },
  {
   "cell_type": "code",
   "execution_count": 87,
   "id": "c1b34d3e-f60e-4b14-b47b-92fa19e1fc73",
   "metadata": {},
   "outputs": [],
   "source": [
    "for twt_id in annotated_tweets_dict['tweet_id']:\n",
    "    twt_lbl = annotated_tweets_dict['label'][twt_id]\n",
    "    \n",
    "    for catg in inc_int_columns:\n",
    "        inc_int_lbl_overlap_dict[catg][twt_lbl] +=  annotated_tweets_dict[catg][twt_id]\n",
    "\n",
    "inc_int_lbl_overlap_df = pd.DataFrame.from_dict(inc_int_lbl_overlap_dict)"
   ]
  },
  {
   "cell_type": "code",
   "execution_count": 88,
   "id": "e5612453-e060-4277-bfd0-e42ef6f38440",
   "metadata": {},
   "outputs": [
    {
     "data": {
      "image/png": "[encoded data removed]",
      "text/plain": [
       "<Figure size 720x576 with 2 Axes>"
      ]
     },
     "metadata": {},
     "output_type": "display_data"
    }
   ],
   "source": [
    "fig, ax = plt.subplots(figsize=(10,8)) \n",
    "ax = sns.heatmap(inc_int_lbl_overlap_df/inc_int_lbl_overlap_df.sum(), annot=True, cmap=\"Greens\", fmt='.2g')\n",
    "ax.invert_yaxis()\n",
    "plt.xlabel(\"Incivility-intolerance labels\")\n",
    "plt.ylabel(\"Tweet labels\")\n",
    "ax.set_title(\"The overlap between tweet labels and incivility-intolerance labels\")\n",
    "ax.set_xticklabels(ax.get_xticklabels(), rotation=45)\n",
    "plt.savefig(\"./../\"+output_path+\"/figures/\"+\"_tweet_frac_inc_int_lbl.png\", bbox_inches=\"tight\")\n",
    "plt.show()"
   ]
  },
  {
   "cell_type": "code",
   "execution_count": 89,
   "id": "bcd4d758-fe9d-4bb9-af2f-fe66b0f1ded3",
   "metadata": {},
   "outputs": [],
   "source": [
    "# fig, ax = plt.subplots(figsize=(10,8)) \n",
    "# selected_columns = ['intolerance', 'incivility']\n",
    "# ax = sns.heatmap(inc_int_lbl_overlap_df[selected_columns]/inc_int_lbl_overlap_df[selected_columns].sum(), annot=True, cmap=\"Greens\", fmt='.2g')\n",
    "# ax.invert_yaxis()\n",
    "# plt.xlabel(\"Incivility-intolerance labels\")\n",
    "# plt.ylabel(\"Tweet labels\")\n",
    "# ax.set_title(\"The overlap between tweet labels and incivility-intolerance labels\")\n",
    "# ax.set_xticklabels(ax.get_xticklabels(), rotation=45)\n",
    "# plt.savefig(\"./../\"+output_path+\"/figures/\"+\"_tweet_frac_inc_int_lbl_(only_inc_int).png\", bbox_inches=\"tight\")\n",
    "# plt.show()"
   ]
  },
  {
   "cell_type": "code",
   "execution_count": 90,
   "id": "cf2297fa-ef4a-429e-a147-c776257781f9",
   "metadata": {},
   "outputs": [],
   "source": [
    "inc_int_len_siz_dict = {}\n",
    "for conv_id2, conv2 in conv_det.items():\n",
    "    inc_int_len_siz_dict[conv_id2] = {}\n",
    "    inc_int_len_siz_dict[conv_id2][\"size\"] = conv2[\"size\"]\n",
    "    inc_int_len_siz_dict[conv_id2][\"depth\"] = conv2[\"depth\"]\n",
    "    inc_int_len_siz_dict[conv_id2][\"incivility_frac\"] = sum(conv2[\"incivility\"])/len(conv2[\"incivility\"])\n",
    "    # inc_int_len_siz_dict[conv_id2][\"intolerance_frac\"] = sum(conv2[\"intolerance\"])/len(conv2[\"intolerance\"])\n",
    "    # inc_int_len_siz_dict[conv_id2][\"profanity_frac\"] = sum(conv2[\"profanity\"])/len(conv2[\"profanity\"])\n",
    "    # inc_int_len_siz_dict[conv_id2][\"insults_frac\"] = sum(conv2[\"insults\"])/len(conv2[\"insults\"])\n",
    "    # inc_int_len_siz_dict[conv_id2][\"char_assn_frac\"] = sum(conv2[\"char. assn.\"])/len(conv2[\"char. assn.\"])\n",
    "    # inc_int_len_siz_dict[conv_id2][\"outrage_frac\"] = sum(conv2[\"outrage\"])/len(conv2[\"outrage\"])\n",
    "    # inc_int_len_siz_dict[conv_id2][\"L2_intolerance_frac\"] = sum(conv2[\"L2_intolerance\"])/len(conv2[\"L2_intolerance\"])\n",
    "    # inc_int_len_siz_dict[conv_id2][\"discrimination_frac\"] = sum(conv2[\"discrimination\"])/len(conv2[\"discrimination\"])\n",
    "    \n",
    "inc_int_len_siz_df = pd.DataFrame.from_dict(inc_int_len_siz_dict, orient='index')"
   ]
  },
  {
   "cell_type": "code",
   "execution_count": 91,
   "id": "c28f2a88-8dc3-4739-ad62-3953088c2b7a",
   "metadata": {},
   "outputs": [
    {
     "name": "stderr",
     "output_type": "stream",
     "text": [
      "No handles with labels found to put in legend.\n"
     ]
    },
    {
     "data": {
      "image/png": "[encoded data removed]",
      "text/plain": [
       "<Figure size 578.88x432 with 1 Axes>"
      ]
     },
     "metadata": {},
     "output_type": "display_data"
    }
   ],
   "source": [
    "g = sns.lmplot(x=\"size\", y=\"incivility_frac\", data=inc_int_len_siz_df[[\"size\", \"incivility_frac\"]], height=6, aspect=1.34, legend=True)\n",
    "\n",
    "g.ax.set_ylabel(\"Incivility fraction\")\n",
    "g.ax.set_xlabel(\"Conversation size\")\n",
    "g.ax.legend(ncol=1, loc=2)\n",
    "plt.tight_layout()\n",
    "\n",
    "plt.savefig(\"./../\"+output_path+\"/figures/\"+\"_conv_size_incivility_frac_scatter.png\", bbox_inches=\"tight\")\n",
    "plt.show()"
   ]
  },
  {
   "cell_type": "code",
   "execution_count": 92,
   "id": "c1ea9f1d-878e-4a23-b9e1-0a1be422a193",
   "metadata": {},
   "outputs": [
    {
     "data": {
      "image/png": "[encoded data removed]",
      "text/plain": [
       "<Figure size 576x432 with 2 Axes>"
      ]
     },
     "metadata": {},
     "output_type": "display_data"
    }
   ],
   "source": [
    "fig, ax = plt.subplots(figsize=(8,6))\n",
    "sns.histplot(x=inc_int_len_siz_df[[\"size\", \"incivility_frac\"]]['size'], y=inc_int_len_siz_df[[\"size\", \"incivility_frac\"]]['incivility_frac'],  stat=\"probability\", cbar=True, cbar_kws=dict(shrink=.75))\n",
    "\n",
    "\n",
    "ax.set_ylabel(\"Incivility fraction\")\n",
    "ax.set_xlabel(\"Conversation size\")\n",
    "# ax.set_xlim(0,85)\n",
    "# ax.set_ylim(0,55)\n",
    "plt.tight_layout()\n",
    "\n",
    "plt.savefig(\"./../\"+output_path+\"/figures/\"+\"_conv_size_incivility_frac_heatmap.png\", bbox_inches=\"tight\")\n",
    "plt.show()"
   ]
  },
  {
   "cell_type": "code",
   "execution_count": 93,
   "id": "d0652580-2b45-48f8-9836-0372db035ffc",
   "metadata": {},
   "outputs": [
    {
     "name": "stderr",
     "output_type": "stream",
     "text": [
      "No handles with labels found to put in legend.\n"
     ]
    },
    {
     "data": {
      "image/png": "[encoded data removed]",
      "text/plain": [
       "<Figure size 578.88x432 with 1 Axes>"
      ]
     },
     "metadata": {},
     "output_type": "display_data"
    }
   ],
   "source": [
    "g = sns.lmplot(x=\"depth\", y=\"incivility_frac\", data=inc_int_len_siz_df[[\"depth\", \"incivility_frac\"]], height=6, aspect=1.34, legend=True)\n",
    "\n",
    "g.ax.set_ylabel(\"Incivility fraction\")\n",
    "g.ax.set_xlabel(\"Conversation depth\")\n",
    "g.ax.legend(ncol=1, loc=2)\n",
    "plt.tight_layout()\n",
    "\n",
    "plt.savefig(\"./../\"+output_path+\"/figures/\"+\"_conv_depth_incivility_frac_scatter.png\", bbox_inches=\"tight\")\n",
    "plt.show()"
   ]
  },
  {
   "cell_type": "code",
   "execution_count": 94,
   "id": "b35fb6ae-f66d-4b8c-8b19-62f04387198b",
   "metadata": {},
   "outputs": [
    {
     "data": {
      "image/png": "[encoded data removed]",
      "text/plain": [
       "<Figure size 576x432 with 2 Axes>"
      ]
     },
     "metadata": {},
     "output_type": "display_data"
    }
   ],
   "source": [
    "fig, ax = plt.subplots(figsize=(8,6))\n",
    "sns.histplot(x=inc_int_len_siz_df[[\"depth\", \"incivility_frac\"]]['depth'], y=inc_int_len_siz_df[[\"depth\", \"incivility_frac\"]]['incivility_frac'],  stat=\"probability\", cbar=True, cbar_kws=dict(shrink=.75))\n",
    "\n",
    "\n",
    "ax.set_ylabel(\"Incivility fraction\")\n",
    "ax.set_xlabel(\"Conversation depth\")\n",
    "\n",
    "plt.tight_layout()\n",
    "\n",
    "plt.savefig(\"./../\"+output_path+\"/figures/\"+\"_conv_depth_incivility_frac_heatmap.png\", bbox_inches=\"tight\")\n",
    "plt.show()"
   ]
  },
  {
   "cell_type": "code",
   "execution_count": 95,
   "id": "ec79ad23-0d5c-4d45-8b56-b68a5410069c",
   "metadata": {},
   "outputs": [],
   "source": [
    "# g = sns.lmplot(x=\"size\", y=\"intolerance_frac\", data=inc_int_len_siz_df[[\"size\", \"intolerance_frac\"]], height=6, aspect=1.34, legend=True)\n",
    "\n",
    "# g.ax.set_ylabel(\"Intolerance fraction\")\n",
    "# g.ax.set_xlabel(\"Conversation size\")\n",
    "# g.ax.legend(ncol=1, loc=2)\n",
    "# plt.tight_layout()\n",
    "\n",
    "# plt.savefig(\"./../\"+output_path+\"/figures/\"+\"_conv_size_intolerance_frac_scatter.png\", bbox_inches=\"tight\")\n",
    "# plt.show()"
   ]
  },
  {
   "cell_type": "code",
   "execution_count": 96,
   "id": "70b95d66-186b-4edf-b395-dee2877eafa6",
   "metadata": {},
   "outputs": [],
   "source": [
    "# fig, ax = plt.subplots(figsize=(8,6))\n",
    "# sns.histplot(x=inc_int_len_siz_df[[\"depth\", \"intolerance_frac\"]]['depth'], y=inc_int_len_siz_df[[\"depth\", \"intolerance_frac\"]]['intolerance_frac'],  stat=\"probability\", cbar=True, cbar_kws=dict(shrink=.75))\n",
    "\n",
    "\n",
    "# ax.set_ylabel(\"Intolerance fraction\")\n",
    "# ax.set_xlabel(\"Conversation depth\")\n",
    "\n",
    "# plt.tight_layout()\n",
    "\n",
    "# plt.savefig(\"./../\"+output_path+\"/figures/\"+\"_conv_depth_intolerance_frac_heatmap.png\", bbox_inches=\"tight\")\n",
    "# plt.show()"
   ]
  },
  {
   "cell_type": "code",
   "execution_count": 97,
   "id": "d41331ed-f3e6-4c7c-95d3-0616dcd89480",
   "metadata": {},
   "outputs": [],
   "source": [
    "# g = sns.lmplot(x=\"depth\", y=\"intolerance_frac\", data=inc_int_len_siz_df[[\"depth\", \"intolerance_frac\"]], height=6, aspect=1.34, legend=True)\n",
    "\n",
    "# g.ax.set_ylabel(\"Intolerance fraction\")\n",
    "# g.ax.set_xlabel(\"Conversation depth\")\n",
    "# g.ax.legend(ncol=1, loc=2)\n",
    "# plt.tight_layout()\n",
    "\n",
    "# plt.savefig(\"./../\"+output_path+\"/figures/\"+\"_conv_depth_intolerance_frac_scatter.png\", bbox_inches=\"tight\")\n",
    "# plt.show()"
   ]
  },
  {
   "cell_type": "code",
   "execution_count": 98,
   "id": "f9f7ad67-545a-4382-8fc7-0659eb65d283",
   "metadata": {},
   "outputs": [],
   "source": [
    "# fig, ax = plt.subplots(figsize=(8,6))\n",
    "# sns.histplot(x=inc_int_len_siz_df[[\"depth\", \"intolerance_frac\"]]['depth'], y=inc_int_len_siz_df[[\"depth\", \"intolerance_frac\"]]['intolerance_frac'],  stat=\"probability\", cbar=True, cbar_kws=dict(shrink=.75))\n",
    "\n",
    "\n",
    "# ax.set_ylabel(\"Intolerance fraction\")\n",
    "# ax.set_xlabel(\"Conversation depth\")\n",
    "\n",
    "# plt.tight_layout()\n",
    "\n",
    "# plt.savefig(\"./../\"+output_path+\"/figures/\"+\"_conv_depth_intolerance_frac_heatmap.png\", bbox_inches=\"tight\")\n",
    "# plt.show()"
   ]
  },
  {
   "cell_type": "code",
   "execution_count": 99,
   "id": "cc9071d3-5e03-4c66-8220-106d2c41a077",
   "metadata": {},
   "outputs": [],
   "source": [
    "# nodes_dict = {}\n",
    "# nodes_neighbour_label = {}\n",
    "# distinct_labels = set()\n",
    "# dyadic_analysis_inc_int = {}\n",
    "\n",
    "# for node in relevant_modified_hyper_network_with_attributes.nodes:\n",
    "#     inc_lbl = \"inc\" if annotated_tweets_dict['incivility'][node] == 1 else \"civ\"\n",
    "#     int_lbl = \"int\" if annotated_tweets_dict['intolerance'][node] == 1 else \"tol\"\n",
    "#     node_lbl = inc_lbl + \" and \" + int_lbl\n",
    "    \n",
    "#     distinct_labels.add(node_lbl)\n",
    "#     node_in_degree = relevant_modified_hyper_network_with_attributes.in_degree(node) if relevant_modified_hyper_network_with_attributes.in_degree(node) != 0 else 1\n",
    "#     nodes_dict[node_lbl] = nodes_dict.get(node_lbl, 0) + node_in_degree\n",
    "    \n",
    "#     if relevant_modified_hyper_network_with_attributes.in_degree(node) == 0:\n",
    "#         nodes_neighbour_label[node_lbl] = nodes_neighbour_label.get(node_lbl, []) + [\"X\"]\n",
    "#     else:\n",
    "#         for edge in relevant_modified_hyper_network_with_attributes.in_edges(node):\n",
    "            \n",
    "#             inc_lbl_neigh = \"inc\" if annotated_tweets_dict['incivility'][edge[0]] == 1 else \"civ\"\n",
    "#             int_lbl_neigh = \"int\" if annotated_tweets_dict['intolerance'][edge[0]] == 1 else \"tol\"\n",
    "#             node_lbl_neigh = inc_lbl_neigh + \" and \" + int_lbl_neigh\n",
    "            \n",
    "#             nodes_neighbour_label[node_lbl] = nodes_neighbour_label.get(node_lbl, []) + [node_lbl_neigh]\n",
    "            \n",
    "            \n",
    "# givens = list(distinct_labels)\n",
    "# probs = list(distinct_labels) + [\"X\"]\n",
    "# for condition1 in givens:\n",
    "#     for condition2 in probs:\n",
    "#         dyadic_analysis_inc_int[condition2+\"|\"+condition1] = sum([1 for i in nodes_neighbour_label[condition1] if i == condition2]) / nodes_dict[condition1]"
   ]
  },
  {
   "cell_type": "code",
   "execution_count": 100,
   "id": "e00bb711-dcca-4c90-a87b-ea1d4baf883c",
   "metadata": {},
   "outputs": [],
   "source": [
    "# dyadic_analysis_inc_int_df = pd.DataFrame.from_dict(data=dyadic_analysis_inc_int, orient='index')\n",
    "# dyadic_analysis_inc_int_df = dyadic_analysis_inc_int_df.rename(columns={0:\"Likelihood\"})"
   ]
  },
  {
   "cell_type": "code",
   "execution_count": 101,
   "id": "496ffe5c-0c79-4bc3-b9d3-60a9689b281e",
   "metadata": {},
   "outputs": [],
   "source": [
    "# cols, inds = set(), set()\n",
    "# for item in list(dyadic_analysis_inc_int_df.index):\n",
    "#     items = item.split(\"|\")\n",
    "#     inds.add(items[0])\n",
    "#     cols.add(items[1])"
   ]
  },
  {
   "cell_type": "code",
   "execution_count": 102,
   "id": "6d8079df-7943-441d-9bfe-03cd9b12a281",
   "metadata": {},
   "outputs": [],
   "source": [
    "# dyadic_analysis_inc_int_df_heatmap = pd.DataFrame(columns=cols, index=inds, dtype=\"float\")\n",
    "\n",
    "# for likelihood in dyadic_analysis_inc_int:\n",
    "#     indeces = likelihood.split(\"|\")\n",
    "#     dyadic_analysis_inc_int_df_heatmap.loc[indeces[0]][indeces[1]] = dyadic_analysis_inc_int[likelihood]"
   ]
  },
  {
   "cell_type": "code",
   "execution_count": 103,
   "id": "7ea3a364-1925-4c33-bedf-403b377ec4ea",
   "metadata": {},
   "outputs": [],
   "source": [
    "# fig, ax = plt.subplots(figsize=(14,12)) \n",
    "# ax = sns.heatmap(dyadic_analysis_inc_int_df_heatmap, annot=True, cmap=\"Greens\")\n",
    "# ax.invert_yaxis()\n",
    "# plt.xlabel(\"Given a node with this (in)civility and (in)tolerance status\")\n",
    "# plt.ylabel(\"The likelihood of a reply with this (in)civility and (in)tolerance status\")\n",
    "# # ax.set_title(\"The likelihood of a reply with label Li to a node with label Lj (P(Li|Lj))\")\n",
    "# # plt.savefig(\"./figures/\"+subject+\"_dyadic_interactions_hyper_network_heatmap.pdf\", bbox_inches='tight')\n",
    "# plt.savefig(\"./../\"+output_path+\"/figures/\"+\"_dyadic_inc_int_heatmap.png\", bbox_inches=\"tight\")\n",
    "# plt.show()"
   ]
  },
  {
   "cell_type": "code",
   "execution_count": null,
   "id": "99d3d1dc-053e-44dc-8c5d-03f3e0c95a7d",
   "metadata": {},
   "outputs": [],
   "source": []
  },
  {
   "cell_type": "code",
   "execution_count": null,
   "id": "4ec56de7-2055-437c-92e1-f234ffcdf182",
   "metadata": {},
   "outputs": [],
   "source": []
  },
  {
   "cell_type": "code",
   "execution_count": 127,
   "id": "62528ea3-984b-45b1-8022-a33b32e19abb",
   "metadata": {},
   "outputs": [],
   "source": [
    "nodes_dict = {}\n",
    "nodes_neighbour_label = {}\n",
    "distinct_labels = set()\n",
    "dyadic_analysis_inc = {}\n",
    "\n",
    "for node in relevant_modified_hyper_network_with_attributes.nodes:\n",
    "    inc_lbl = \"inc\" if annotated_tweets_dict['incivility'][node] == 1 else \"civ\"\n",
    "    node_lbl = inc_lbl\n",
    "    \n",
    "    distinct_labels.add(node_lbl)\n",
    "    node_in_degree = relevant_modified_hyper_network_with_attributes.in_degree(node) if relevant_modified_hyper_network_with_attributes.in_degree(node) != 0 else 1\n",
    "    nodes_dict[node_lbl] = nodes_dict.get(node_lbl, 0) + node_in_degree\n",
    "    \n",
    "    if relevant_modified_hyper_network_with_attributes.in_degree(node) == 0:\n",
    "        nodes_neighbour_label[node_lbl] = nodes_neighbour_label.get(node_lbl, []) + [\"X\"]\n",
    "    else:\n",
    "        for edge in relevant_modified_hyper_network_with_attributes.in_edges(node):\n",
    "            \n",
    "            inc_lbl_neigh = \"inc\" if annotated_tweets_dict['incivility'][edge[0]] == 1 else \"civ\"\n",
    "            node_lbl_neigh = inc_lbl_neigh\n",
    "            \n",
    "            nodes_neighbour_label[node_lbl] = nodes_neighbour_label.get(node_lbl, []) + [node_lbl_neigh]\n",
    "            \n",
    "            \n",
    "givens = list(distinct_labels)\n",
    "probs = list(distinct_labels) + [\"X\"]\n",
    "for condition1 in givens:\n",
    "    for condition2 in probs:\n",
    "        dyadic_analysis_inc[condition2+\"|\"+condition1] = sum([1 for i in nodes_neighbour_label[condition1] if i == condition2]) / nodes_dict[condition1]"
   ]
  },
  {
   "cell_type": "code",
   "execution_count": 128,
   "id": "f7555cf6-99e4-4ba1-8e83-a720d6872bc6",
   "metadata": {},
   "outputs": [],
   "source": [
    "dyadic_analysis_inc_df = pd.DataFrame.from_dict(data=dyadic_analysis_inc, orient='index')\n",
    "dyadic_analysis_inc_df = dyadic_analysis_inc_df.rename(columns={0:\"Likelihood\"})"
   ]
  },
  {
   "cell_type": "code",
   "execution_count": 129,
   "id": "39e1d89c-65f4-4319-929c-6515e3782339",
   "metadata": {},
   "outputs": [],
   "source": [
    "cols, inds = set(), set()\n",
    "for item in list(dyadic_analysis_inc_df.index):\n",
    "    items = item.split(\"|\")\n",
    "    inds.add(items[0])\n",
    "    cols.add(items[1])"
   ]
  },
  {
   "cell_type": "code",
   "execution_count": 130,
   "id": "7696f6f8-20fd-46fc-998c-e5ab227d9e12",
   "metadata": {},
   "outputs": [],
   "source": [
    "dyadic_analysis_inc_df_heatmap = pd.DataFrame(columns=cols, index=inds, dtype=\"float\")\n",
    "\n",
    "for likelihood in dyadic_analysis_inc:\n",
    "    indeces = likelihood.split(\"|\")\n",
    "    dyadic_analysis_inc_df_heatmap.loc[indeces[0]][indeces[1]] = dyadic_analysis_inc[likelihood]\n",
    "    \n",
    "dyadic_analysis_inc_df_heatmap_reindex = dyadic_analysis_inc_df_heatmap.reindex(index=[\"civ\", \"inc\", \"X\"])"
   ]
  },
  {
   "cell_type": "code",
   "execution_count": 137,
   "id": "3829d6ee-3ccb-474e-bc75-d4e1d3750e72",
   "metadata": {},
   "outputs": [
    {
     "data": {
      "image/png": "[encoded data removed]",
      "text/plain": [
       "<Figure size 1008x864 with 2 Axes>"
      ]
     },
     "metadata": {},
     "output_type": "display_data"
    }
   ],
   "source": [
    "fig, ax = plt.subplots(figsize=(14,12)) \n",
    "ax = sns.heatmap(dyadic_analysis_inc_df_heatmap_reindex, annot=True, cmap=\"Greens\", vmax=0.5, fmt='.3g')\n",
    "ax.invert_yaxis()\n",
    "plt.xlabel(\"Given a node with this (in)civility status\", fontsize=16)\n",
    "plt.ylabel(\"The likelihood of a reply with this (in)civility status\", fontsize=16)\n",
    "plt.xticks(fontsize=18)\n",
    "plt.yticks(fontsize=18)\n",
    "# ax.set_title(\"The likelihood of a reply with label Li to a node with label Lj (P(Li|Lj))\")\n",
    "# plt.savefig(\"./figures/\"+subject+\"_dyadic_interactions_hyper_network_heatmap.pdf\", bbox_inches='tight')\n",
    "\n",
    "plt.savefig(\"./../\"+output_path+\"/figures/\"+\"_dyadic_inc_heatmap.png\", bbox_inches=\"tight\")\n",
    "plt.show()"
   ]
  },
  {
   "cell_type": "code",
   "execution_count": null,
   "id": "fb791596-2828-4c83-a516-617dd47602c8",
   "metadata": {},
   "outputs": [],
   "source": []
  },
  {
   "cell_type": "code",
   "execution_count": null,
   "id": "07a8a92a-50c5-4cde-9a8f-74ac1fa24ce4",
   "metadata": {},
   "outputs": [],
   "source": []
  },
  {
   "cell_type": "code",
   "execution_count": null,
   "id": "10df06b8-379e-4d8b-a5a9-bb3d63e83b55",
   "metadata": {},
   "outputs": [],
   "source": []
  },
  {
   "cell_type": "code",
   "execution_count": 104,
   "id": "a8b43840-d0a5-4b84-860e-e688154f31c0",
   "metadata": {},
   "outputs": [],
   "source": [
    "nodes_dict = {}\n",
    "nodes_neighbour_label = {}\n",
    "distinct_labels = set()\n",
    "dyadic_analysis_inc_vp = {}\n",
    "\n",
    "for node in relevant_modified_hyper_network_with_attributes.nodes:\n",
    "    inc_lbl = \"inc\" if annotated_tweets_dict['incivility'][node] == 1 else \"civ\"\n",
    "    twt_lbl = annotated_tweets_dict['label'][node]\n",
    "    node_lbl = inc_lbl + \"__\" + twt_lbl\n",
    "    \n",
    "    distinct_labels.add(node_lbl)\n",
    "    node_in_degree = relevant_modified_hyper_network_with_attributes.in_degree(node) if relevant_modified_hyper_network_with_attributes.in_degree(node) != 0 else 1\n",
    "    nodes_dict[node_lbl] = nodes_dict.get(node_lbl, 0) + node_in_degree\n",
    "    \n",
    "    if relevant_modified_hyper_network_with_attributes.in_degree(node) == 0:\n",
    "        nodes_neighbour_label[node_lbl] = nodes_neighbour_label.get(node_lbl, []) + [\"X\"]\n",
    "    else:\n",
    "        for edge in relevant_modified_hyper_network_with_attributes.in_edges(node):\n",
    "            \n",
    "            inc_lbl_neigh = \"inc\" if annotated_tweets_dict['incivility'][edge[0]] == 1 else \"civ\"\n",
    "            twt_lbl_neigh = annotated_tweets_dict['label'][edge[0]]\n",
    "            node_lbl_neigh = inc_lbl_neigh + \"__\" + twt_lbl_neigh\n",
    "            \n",
    "            nodes_neighbour_label[node_lbl] = nodes_neighbour_label.get(node_lbl, []) + [node_lbl_neigh]\n",
    "            \n",
    "            \n",
    "givens = list(distinct_labels)\n",
    "probs = list(distinct_labels) + [\"X\"]\n",
    "for condition1 in givens:\n",
    "    for condition2 in probs:\n",
    "        dyadic_analysis_inc_vp[condition2+\"|\"+condition1] = sum([1 for i in nodes_neighbour_label[condition1] if i == condition2]) / nodes_dict[condition1]"
   ]
  },
  {
   "cell_type": "code",
   "execution_count": 105,
   "id": "e40ea464-635a-4eff-977a-ac46dc106cb8",
   "metadata": {},
   "outputs": [],
   "source": [
    "dyadic_analysis_inc_vp_df = pd.DataFrame.from_dict(data=dyadic_analysis_inc_vp, orient='index')\n",
    "dyadic_analysis_inc_vp_df = dyadic_analysis_inc_vp_df.rename(columns={0:\"Likelihood\"})"
   ]
  },
  {
   "cell_type": "code",
   "execution_count": 106,
   "id": "822ed4a4-08db-4fe1-8f0e-32e6183d58af",
   "metadata": {},
   "outputs": [],
   "source": [
    "cols, inds = set(), set()\n",
    "for item in list(dyadic_analysis_inc_vp_df.index):\n",
    "    items = item.split(\"|\")\n",
    "    inds.add(items[0])\n",
    "    cols.add(items[1])"
   ]
  },
  {
   "cell_type": "code",
   "execution_count": 107,
   "id": "553ade67-3355-4077-9c7c-953740ab1f98",
   "metadata": {},
   "outputs": [],
   "source": [
    "dyadic_analysis_inc_vp_df_heatmap = pd.DataFrame(columns=cols, index=inds, dtype=\"float\")\n",
    "\n",
    "for likelihood in dyadic_analysis_inc_vp:\n",
    "    indeces = likelihood.split(\"|\")\n",
    "    dyadic_analysis_inc_vp_df_heatmap.loc[indeces[0]][indeces[1]] = dyadic_analysis_inc_vp[likelihood]"
   ]
  },
  {
   "cell_type": "code",
   "execution_count": 108,
   "id": "416c7f53-e78a-4943-af4c-7550d3ccbb42",
   "metadata": {},
   "outputs": [
    {
     "data": {
      "image/png": "[encoded data removed]",
      "text/plain": [
       "<Figure size 1008x864 with 2 Axes>"
      ]
     },
     "metadata": {},
     "output_type": "display_data"
    }
   ],
   "source": [
    "fig, ax = plt.subplots(figsize=(14,12)) \n",
    "ax = sns.heatmap(dyadic_analysis_inc_vp_df_heatmap, annot=True, cmap=\"Greens\")\n",
    "ax.invert_yaxis()\n",
    "plt.xlabel(\"Given a node with this viewpoint and the (in)civility status\")\n",
    "plt.ylabel(\"The likelihood of a reply with this viewpoint and the (in)civility status\")\n",
    "# ax.set_title(\"The likelihood of a reply with label Li to a node with label Lj (P(Li|Lj))\")\n",
    "# plt.savefig(\"./figures/\"+subject+\"_dyadic_interactions_hyper_network_heatmap.pdf\", bbox_inches='tight')\n",
    "plt.savefig(\"./../\"+output_path+\"/figures/\"+\"_dyadic_inc_vp_heatmap.png\", bbox_inches=\"tight\")\n",
    "plt.show()"
   ]
  },
  {
   "cell_type": "code",
   "execution_count": 109,
   "id": "a803d184-dc2a-4ca5-93e7-4d84972c1f63",
   "metadata": {},
   "outputs": [],
   "source": [
    "# nodes_dict = {}\n",
    "# nodes_neighbour_label = {}\n",
    "# distinct_labels = set()\n",
    "# dyadic_analysis_int_vp = {}\n",
    "\n",
    "# for node in relevant_modified_hyper_network_with_attributes.nodes:\n",
    "#     int_lbl = \"int\" if annotated_tweets_dict['intolerance'][node] == 1 else \"tol\"\n",
    "#     twt_lbl = annotated_tweets_dict['label'][node]\n",
    "#     node_lbl = int_lbl + \"__\" + twt_lbl\n",
    "    \n",
    "#     distinct_labels.add(node_lbl)\n",
    "#     node_in_degree = relevant_modified_hyper_network_with_attributes.in_degree(node) if relevant_modified_hyper_network_with_attributes.in_degree(node) != 0 else 1\n",
    "#     nodes_dict[node_lbl] = nodes_dict.get(node_lbl, 0) + node_in_degree\n",
    "    \n",
    "#     if relevant_modified_hyper_network_with_attributes.in_degree(node) == 0:\n",
    "#         nodes_neighbour_label[node_lbl] = nodes_neighbour_label.get(node_lbl, []) + [\"X\"]\n",
    "#     else:\n",
    "#         for edge in relevant_modified_hyper_network_with_attributes.in_edges(node):\n",
    "            \n",
    "#             int_lbl_neigh = \"int\" if annotated_tweets_dict['intolerance'][edge[0]] == 1 else \"tol\"\n",
    "#             twt_lbl_neigh = annotated_tweets_dict['label'][edge[0]]\n",
    "#             node_lbl_neigh = int_lbl_neigh + \"__\" + twt_lbl_neigh\n",
    "            \n",
    "#             nodes_neighbour_label[node_lbl] = nodes_neighbour_label.get(node_lbl, []) + [node_lbl_neigh]\n",
    "            \n",
    "            \n",
    "# givens = list(distinct_labels)\n",
    "# probs = list(distinct_labels) + [\"X\"]\n",
    "# for condition1 in givens:\n",
    "#     for condition2 in probs:\n",
    "#         dyadic_analysis_int_vp[condition2+\"|\"+condition1] = sum([1 for i in nodes_neighbour_label[condition1] if i == condition2]) / nodes_dict[condition1]"
   ]
  },
  {
   "cell_type": "code",
   "execution_count": 110,
   "id": "826abefc-8222-47bb-8e8c-4cd5923d814e",
   "metadata": {},
   "outputs": [],
   "source": [
    "# dyadic_analysis_int_vp_df = pd.DataFrame.from_dict(data=dyadic_analysis_int_vp, orient='index')\n",
    "# dyadic_analysis_int_vp_df = dyadic_analysis_int_vp_df.rename(columns={0:\"Likelihood\"})"
   ]
  },
  {
   "cell_type": "code",
   "execution_count": 111,
   "id": "3aa2ca80-7e15-4c9d-b504-a038f2fc6a06",
   "metadata": {},
   "outputs": [],
   "source": [
    "# cols, inds = set(), set()\n",
    "# for item in list(dyadic_analysis_int_vp_df.index):\n",
    "#     items = item.split(\"|\")\n",
    "#     inds.add(items[0])\n",
    "#     cols.add(items[1])"
   ]
  },
  {
   "cell_type": "code",
   "execution_count": 112,
   "id": "c0869b18-bb15-4d54-af85-74b04523719f",
   "metadata": {},
   "outputs": [],
   "source": [
    "# dyadic_analysis_int_vp_df_heatmap = pd.DataFrame(columns=cols, index=inds, dtype=\"float\")\n",
    "\n",
    "# for likelihood in dyadic_analysis_int_vp:\n",
    "#     indeces = likelihood.split(\"|\")\n",
    "#     dyadic_analysis_int_vp_df_heatmap.loc[indeces[0]][indeces[1]] = dyadic_analysis_int_vp[likelihood]"
   ]
  },
  {
   "cell_type": "code",
   "execution_count": 113,
   "id": "00d0c1a1-3f59-4676-9753-21b7e102ab48",
   "metadata": {},
   "outputs": [],
   "source": [
    "# fig, ax = plt.subplots(figsize=(14,12)) \n",
    "# ax = sns.heatmap(dyadic_analysis_int_vp_df_heatmap, annot=True, cmap=\"Greens\")\n",
    "# ax.invert_yaxis()\n",
    "# plt.xlabel(\"Given a node with this viewpoint and the (in)tolerance status\")\n",
    "# plt.ylabel(\"The likelihood of a reply with this viewpoint and the (in)tolerance status\")\n",
    "# # ax.set_title(\"The likelihood of a reply with label Li to a node with label Lj (P(Li|Lj))\")\n",
    "# # plt.savefig(\"./figures/\"+subject+\"_dyadic_interactions_hyper_network_heatmap.pdf\", bbox_inches='tight')\n",
    "# plt.savefig(\"./../\"+output_path+\"/figures/\"+\"_dyadic_int_vp_heatmap.png\", bbox_inches=\"tight\")\n",
    "# plt.show()"
   ]
  },
  {
   "cell_type": "code",
   "execution_count": null,
   "id": "89115c05-003c-446e-941e-44b94b2a93ca",
   "metadata": {},
   "outputs": [],
   "source": []
  },
  {
   "cell_type": "code",
   "execution_count": null,
   "id": "5020f7c2-7a41-489f-84e8-8f0ca66c779c",
   "metadata": {},
   "outputs": [],
   "source": []
  }
 ],
 "metadata": {
  "kernelspec": {
   "display_name": "Python 3 (ipykernel)",
   "language": "python",
   "name": "python3"
  },
  "language_info": {
   "codemirror_mode": {
    "name": "ipython",
    "version": 3
   },
   "file_extension": ".py",
   "mimetype": "text/x-python",
   "name": "python",
   "nbconvert_exporter": "python",
   "pygments_lexer": "ipython3",
   "version": "3.9.7"
  }
 },
 "nbformat": 4,
 "nbformat_minor": 5
}
