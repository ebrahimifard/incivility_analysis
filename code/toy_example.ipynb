{
 "cells": [
  {
   "cell_type": "code",
   "execution_count": 41,
   "id": "38663445-3511-4911-b86b-69ea25f66242",
   "metadata": {},
   "outputs": [],
   "source": [
    "import networkx as nx\n",
    "import numpy as np\n",
    "from pprint import pprint\n",
    "from tqdm import tqdm\n",
    "import random\n",
    "import copy\n",
    "import matplotlib.pyplot as plt\n",
    "import pandas as pd\n",
    "import itertools\n",
    "import pickle as pk\n",
    "import os\n",
    "import json\n",
    "import seaborn as sns\n",
    "import operator as op\n",
    "from sklearn.compose import make_column_selector "
   ]
  },
  {
   "cell_type": "code",
   "execution_count": 42,
   "id": "e06bf783-8e7b-4ce8-808e-bf8e6c26dcb3",
   "metadata": {},
   "outputs": [],
   "source": [
    "edge_list = [(2,1), (3,2), (4,2), (5,2), (6,3), (7,3), (8,4), (9,4), (10,4), (11,5)]\n",
    "G = nx.DiGraph(edge_list)"
   ]
  },
  {
   "cell_type": "code",
   "execution_count": 47,
   "id": "37f2eccf-1611-4623-bf98-005f185ac2ab",
   "metadata": {},
   "outputs": [
    {
     "data": {
      "image/png": "[encoded data removed]",
      "text/plain": [
       "<Figure size 432x288 with 1 Axes>"
      ]
     },
     "metadata": {},
     "output_type": "display_data"
    }
   ],
   "source": [
    "nx.draw_networkx(G, pos=nx.spring_layout(G) , with_labels=True)"
   ]
  },
  {
   "cell_type": "code",
   "execution_count": 4,
   "id": "997c3be0-51fd-47f4-b2c1-b1252023f109",
   "metadata": {},
   "outputs": [],
   "source": [
    "# G.nodes[1]['incivility'] = 0 \n",
    "# G.nodes[2]['incivility'] = 0\n",
    "# G.nodes[3]['incivility'] = 1 \n",
    "# G.nodes[4]['incivility'] = 0 \n",
    "# G.nodes[5]['incivility'] = 1 \n",
    "# G.nodes[6]['incivility'] = 1 \n",
    "# G.nodes[7]['incivility'] = 0 \n",
    "# G.nodes[8]['incivility'] = 1 \n",
    "# G.nodes[9]['incivility'] = 1 \n",
    "# G.nodes[10]['incivility'] = 0 \n",
    "# G.nodes[11]['incivility'] = 1 "
   ]
  },
  {
   "cell_type": "code",
   "execution_count": 5,
   "id": "f7b7ca3d-a011-49a3-8def-d516dd309c14",
   "metadata": {},
   "outputs": [],
   "source": [
    "# G.nodes[1]['intolerance'] = 0\n",
    "# G.nodes[2]['intolerance'] = 1\n",
    "# G.nodes[3]['intolerance'] = 0 \n",
    "# G.nodes[4]['intolerance'] = 1 \n",
    "# G.nodes[5]['intolerance'] = 1 \n",
    "# G.nodes[6]['intolerance'] = 0 \n",
    "# G.nodes[7]['intolerance'] = 1 \n",
    "# G.nodes[8]['intolerance'] = 1 \n",
    "# G.nodes[9]['intolerance'] = 0 \n",
    "# G.nodes[10]['intolerance'] = 0 \n",
    "# G.nodes[11]['intolerance'] = 1 "
   ]
  },
  {
   "cell_type": "code",
   "execution_count": 6,
   "id": "69b80662-7858-4852-b6c5-001c514bf148",
   "metadata": {},
   "outputs": [],
   "source": [
    "annotated_tweets_dict = {\"incivility\":{}, \"intolerance\":{}}\n",
    "\n",
    "annotated_tweets_dict['incivility'][1] = 0 \n",
    "annotated_tweets_dict['incivility'][2] = 0\n",
    "annotated_tweets_dict['incivility'][3] = 1 \n",
    "annotated_tweets_dict['incivility'][4] = 0 \n",
    "annotated_tweets_dict['incivility'][5] = 1 \n",
    "annotated_tweets_dict['incivility'][6] = 1 \n",
    "annotated_tweets_dict['incivility'][7] = 0 \n",
    "annotated_tweets_dict['incivility'][8] = 1 \n",
    "annotated_tweets_dict['incivility'][9] = 1 \n",
    "annotated_tweets_dict['incivility'][10] = 0 \n",
    "annotated_tweets_dict['incivility'][11] = 1 \n",
    "\n",
    "annotated_tweets_dict['intolerance'][1] = 0\n",
    "annotated_tweets_dict['intolerance'][2] = 1\n",
    "annotated_tweets_dict['intolerance'][3] = 0 \n",
    "annotated_tweets_dict['intolerance'][4] = 1 \n",
    "annotated_tweets_dict['intolerance'][5] = 1 \n",
    "annotated_tweets_dict['intolerance'][6] = 0 \n",
    "annotated_tweets_dict['intolerance'][7] = 1 \n",
    "annotated_tweets_dict['intolerance'][8] = 1 \n",
    "annotated_tweets_dict['intolerance'][9] = 0 \n",
    "annotated_tweets_dict['intolerance'][10] = 0 \n",
    "annotated_tweets_dict['intolerance'][11] = 1 \n",
    "\n"
   ]
  },
  {
   "cell_type": "code",
   "execution_count": 48,
   "id": "3cd95298-faa7-402b-addd-58305ab070b7",
   "metadata": {},
   "outputs": [
    {
     "name": "stdout",
     "output_type": "stream",
     "text": [
      "--------------------------------------------\n",
      "The node id is 2 with label civ and int\n",
      "node:2, edge:(3, 2), the neighbour node: 3\n",
      "the neighbour label is inc and tol\n",
      "node:2, edge:(4, 2), the neighbour node: 4\n",
      "the neighbour label is civ and int\n",
      "node:2, edge:(5, 2), the neighbour node: 5\n",
      "the neighbour label is inc and int\n",
      "--------------------------------------------\n",
      "The node id is 1 with label civ and tol\n",
      "node:1, edge:(2, 1), the neighbour node: 2\n",
      "the neighbour label is civ and int\n",
      "--------------------------------------------\n",
      "The node id is 3 with label inc and tol\n",
      "node:3, edge:(6, 3), the neighbour node: 6\n",
      "the neighbour label is inc and tol\n",
      "node:3, edge:(7, 3), the neighbour node: 7\n",
      "the neighbour label is civ and int\n",
      "--------------------------------------------\n",
      "The node id is 4 with label civ and int\n",
      "node:4, edge:(8, 4), the neighbour node: 8\n",
      "the neighbour label is inc and int\n",
      "node:4, edge:(9, 4), the neighbour node: 9\n",
      "the neighbour label is inc and tol\n",
      "node:4, edge:(10, 4), the neighbour node: 10\n",
      "the neighbour label is civ and tol\n",
      "--------------------------------------------\n",
      "The node id is 5 with label inc and int\n",
      "node:5, edge:(11, 5), the neighbour node: 11\n",
      "the neighbour label is inc and int\n",
      "--------------------------------------------\n",
      "The node id is 6 with label inc and tol\n",
      "--------------------------------------------\n",
      "The node id is 7 with label civ and int\n",
      "--------------------------------------------\n",
      "The node id is 8 with label inc and int\n",
      "--------------------------------------------\n",
      "The node id is 9 with label inc and tol\n",
      "--------------------------------------------\n",
      "The node id is 10 with label civ and tol\n",
      "--------------------------------------------\n",
      "The node id is 11 with label inc and int\n"
     ]
    }
   ],
   "source": [
    "nodes_dict = {}\n",
    "nodes_neighbour_label = {}\n",
    "distinct_labels = set()\n",
    "dyadic_analysis_inc_int = {}\n",
    "\n",
    "for node in G.nodes:\n",
    "    inc_lbl = \"inc\" if annotated_tweets_dict['incivility'][node] == 1 else \"civ\"\n",
    "    int_lbl = \"int\" if annotated_tweets_dict['intolerance'][node] == 1 else \"tol\"\n",
    "    node_lbl = inc_lbl + \" and \" + int_lbl\n",
    "    \n",
    "    print(\"--------------------------------------------\")\n",
    "    print(f\"The node id is {node} with label {node_lbl}\")\n",
    "    \n",
    "    distinct_labels.add(node_lbl)\n",
    "    node_in_degree = G.in_degree(node) if G.in_degree(node) != 0 else 1\n",
    "    nodes_dict[node_lbl] = nodes_dict.get(node_lbl, 0) + node_in_degree\n",
    "    \n",
    "    if G.in_degree(node) == 0:\n",
    "        nodes_neighbour_label[node_lbl] = nodes_neighbour_label.get(node_lbl, []) + [\"X\"]\n",
    "    else:\n",
    "        for edge in G.in_edges(node):\n",
    "            \n",
    "            print(f\"node:{node}, edge:{edge}, the neighbour node: {edge[0]}\")\n",
    "            \n",
    "            inc_lbl_neigh = \"inc\" if annotated_tweets_dict['incivility'][edge[0]] == 1 else \"civ\"\n",
    "            int_lbl_neigh = \"int\" if annotated_tweets_dict['intolerance'][edge[0]] == 1 else \"tol\"\n",
    "            node_lbl_neigh = inc_lbl_neigh + \" and \" + int_lbl_neigh\n",
    "            \n",
    "            print(f\"the neighbour label is {node_lbl_neigh}\")\n",
    "            \n",
    "            nodes_neighbour_label[node_lbl] = nodes_neighbour_label.get(node_lbl, []) + [node_lbl_neigh]\n",
    "            \n",
    "            \n",
    "givens = list(distinct_labels)\n",
    "probs = list(distinct_labels) + [\"X\"]\n",
    "for condition1 in givens:\n",
    "    for condition2 in probs:\n",
    "        dyadic_analysis_inc_int[condition2+\"|\"+condition1] = sum([1 for i in nodes_neighbour_label[condition1] if i == condition2]) / nodes_dict[condition1]"
   ]
  },
  {
   "cell_type": "code",
   "execution_count": 49,
   "id": "9bd22947-cb2d-4344-8dc8-b3fee38d7923",
   "metadata": {},
   "outputs": [
    {
     "data": {
      "text/plain": [
       "{'civ and int': 7, 'civ and tol': 2, 'inc and tol': 4, 'inc and int': 3}"
      ]
     },
     "execution_count": 49,
     "metadata": {},
     "output_type": "execute_result"
    }
   ],
   "source": [
    "nodes_dict"
   ]
  },
  {
   "cell_type": "code",
   "execution_count": 50,
   "id": "fb2092e1-b056-45a7-b654-072dd82ed903",
   "metadata": {},
   "outputs": [
    {
     "data": {
      "text/plain": [
       "{'civ and int': ['inc and tol',\n",
       "  'civ and int',\n",
       "  'inc and int',\n",
       "  'inc and int',\n",
       "  'inc and tol',\n",
       "  'civ and tol',\n",
       "  'X'],\n",
       " 'civ and tol': ['civ and int', 'X'],\n",
       " 'inc and tol': ['inc and tol', 'civ and int', 'X', 'X'],\n",
       " 'inc and int': ['inc and int', 'X', 'X']}"
      ]
     },
     "execution_count": 50,
     "metadata": {},
     "output_type": "execute_result"
    }
   ],
   "source": [
    "nodes_neighbour_label"
   ]
  },
  {
   "cell_type": "code",
   "execution_count": 33,
   "id": "62059820-c18f-4a2c-8cb0-66ecac8e8549",
   "metadata": {},
   "outputs": [
    {
     "data": {
      "text/plain": [
       "{'civ and int', 'civ and tol', 'inc and int', 'inc and tol'}"
      ]
     },
     "execution_count": 33,
     "metadata": {},
     "output_type": "execute_result"
    }
   ],
   "source": [
    "distinct_labels"
   ]
  },
  {
   "cell_type": "code",
   "execution_count": 34,
   "id": "f3c9a066-6f8d-4cd4-9596-0b68915f1ec6",
   "metadata": {},
   "outputs": [
    {
     "data": {
      "text/plain": [
       "{'civ and int': 7, 'civ and tol': 2, 'inc and tol': 4, 'inc and int': 3}"
      ]
     },
     "execution_count": 34,
     "metadata": {},
     "output_type": "execute_result"
    }
   ],
   "source": [
    "nodes_dict"
   ]
  },
  {
   "cell_type": "code",
   "execution_count": 35,
   "id": "a5c2e324-ed4b-4533-84c6-de9836788c8d",
   "metadata": {},
   "outputs": [
    {
     "data": {
      "text/plain": [
       "{'civ and int': ['inc and tol',\n",
       "  'civ and int',\n",
       "  'inc and int',\n",
       "  'inc and int',\n",
       "  'inc and tol',\n",
       "  'civ and tol',\n",
       "  'X'],\n",
       " 'civ and tol': ['civ and int', 'X'],\n",
       " 'inc and tol': ['inc and tol', 'civ and int', 'X', 'X'],\n",
       " 'inc and int': ['inc and int', 'X', 'X']}"
      ]
     },
     "execution_count": 35,
     "metadata": {},
     "output_type": "execute_result"
    }
   ],
   "source": [
    "nodes_neighbour_label"
   ]
  },
  {
   "cell_type": "code",
   "execution_count": null,
   "id": "7c351e09-8708-4018-80b5-79365f215b14",
   "metadata": {},
   "outputs": [],
   "source": []
  },
  {
   "cell_type": "code",
   "execution_count": 36,
   "id": "2f05b69b-ee6b-458c-b170-ef4a4e4eca51",
   "metadata": {},
   "outputs": [],
   "source": [
    "dyadic_analysis_inc_int_df = pd.DataFrame.from_dict(data=dyadic_analysis_inc_int, orient='index')\n",
    "dyadic_analysis_inc_int_df = dyadic_analysis_inc_int_df.rename(columns={0:\"Likelihood\"})"
   ]
  },
  {
   "cell_type": "code",
   "execution_count": 37,
   "id": "1ff8438f-ef67-465c-85a8-2be66122e63f",
   "metadata": {},
   "outputs": [],
   "source": [
    "cols, inds = set(), set()\n",
    "for item in list(dyadic_analysis_inc_int_df.index):\n",
    "    items = item.split(\"|\")\n",
    "    inds.add(items[0])\n",
    "    cols.add(items[1])"
   ]
  },
  {
   "cell_type": "code",
   "execution_count": 38,
   "id": "4c0e705a-cfe5-4f28-9a25-be3f57975cc9",
   "metadata": {},
   "outputs": [],
   "source": [
    "dyadic_analysis_inc_int_df_heatmap = pd.DataFrame(columns=cols, index=inds, dtype=\"float\")\n",
    "\n",
    "for likelihood in dyadic_analysis_inc_int:\n",
    "    indeces = likelihood.split(\"|\")\n",
    "    dyadic_analysis_inc_int_df_heatmap.loc[indeces[0]][indeces[1]] = dyadic_analysis_inc_int[likelihood]"
   ]
  },
  {
   "cell_type": "code",
   "execution_count": 39,
   "id": "0f3f028a-1c61-43e1-ba89-d1d119f06312",
   "metadata": {},
   "outputs": [
    {
     "data": {
      "image/png": "[encoded data removed]",
      "text/plain": [
       "<Figure size 1008x864 with 2 Axes>"
      ]
     },
     "metadata": {
      "needs_background": "light"
     },
     "output_type": "display_data"
    }
   ],
   "source": [
    "fig, ax = plt.subplots(figsize=(14,12)) \n",
    "ax = sns.heatmap(dyadic_analysis_inc_int_df_heatmap, annot=True, cmap=\"Greens\")\n",
    "ax.invert_yaxis()\n",
    "plt.xlabel(\"Given a node with this (in)civility and (in)tolerance status\")\n",
    "plt.ylabel(\"The likelihood of a reply with this (in)civility and (in)tolerance status\")\n",
    "# ax.set_title(\"The likelihood of a reply with label Li to a node with label Lj (P(Li|Lj))\")\n",
    "# plt.savefig(\"./figures/\"+subject+\"_dyadic_interactions_hyper_network_heatmap.pdf\", bbox_inches='tight')\n",
    "# plt.savefig(\"./../\"+output_path+\"/figures/\"+\"_dyadic_inc_int_heatmap.png\", bbox_inches=\"tight\")\n",
    "plt.show()"
   ]
  },
  {
   "cell_type": "code",
   "execution_count": null,
   "id": "ef7a9930-c241-4dd9-9d8e-9466f3312ff8",
   "metadata": {},
   "outputs": [],
   "source": []
  }
 ],
 "metadata": {
  "kernelspec": {
   "display_name": "Python 3 (ipykernel)",
   "language": "python",
   "name": "python3"
  },
  "language_info": {
   "codemirror_mode": {
    "name": "ipython",
    "version": 3
   },
   "file_extension": ".py",
   "mimetype": "text/x-python",
   "name": "python",
   "nbconvert_exporter": "python",
   "pygments_lexer": "ipython3",
   "version": "3.9.7"
  }
 },
 "nbformat": 4,
 "nbformat_minor": 5
}
