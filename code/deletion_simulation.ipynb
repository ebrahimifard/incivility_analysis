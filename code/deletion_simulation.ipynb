{
 "cells": [
  {
   "cell_type": "code",
   "execution_count": 9,
   "id": "4309b7d5-99e9-46e1-9865-1c9adc969424",
   "metadata": {},
   "outputs": [],
   "source": [
    "# from numpy.random import default_rng\n",
    "# rng = default_rng(10)\n",
    "# vals = rng.standard_normal(10)"
   ]
  },
  {
   "cell_type": "code",
   "execution_count": null,
   "id": "6c5d1328-8f3e-4548-a986-775628f87b1a",
   "metadata": {},
   "outputs": [],
   "source": [
    "# synthetic data - Quadrant idea"
   ]
  },
  {
   "cell_type": "code",
   "execution_count": 6,
   "id": "ab7959a1-0edd-4983-baac-96a785cb5bad",
   "metadata": {},
   "outputs": [],
   "source": [
    "number_of_conversation = 100"
   ]
  },
  {
   "cell_type": "code",
   "execution_count": 7,
   "id": "901ff60e-dab2-4b15-80f7-51e02eb8bd2c",
   "metadata": {},
   "outputs": [],
   "source": [
    "import numpy as np\n",
    "\n",
    "def conversations(number_of_conversation):\n",
    "    return np.random.randint(2,100,number_of_conversation)"
   ]
  },
  {
   "cell_type": "code",
   "execution_count": 8,
   "id": "ec86a97c-d004-4369-8857-c655acfc3c1d",
   "metadata": {},
   "outputs": [],
   "source": [
    "def rand_low():\n",
    "    return np.random.uniform(0,0.25)    "
   ]
  },
  {
   "cell_type": "code",
   "execution_count": 9,
   "id": "62a3da21-93d7-4944-abcc-719bf335ee69",
   "metadata": {},
   "outputs": [],
   "source": [
    "def rand_high():\n",
    "    return np.random.uniform(0.75,1)    "
   ]
  },
  {
   "cell_type": "code",
   "execution_count": 10,
   "id": "f561d656-aa69-41aa-b7db-266ce09993de",
   "metadata": {},
   "outputs": [],
   "source": [
    "def inc_sub_quad(quad, number_of_conversation):\n",
    "    inc_list=[]\n",
    "    sub_list=[]\n",
    "    size_list = conversations(number_of_conversation)\n",
    "    for i in range(0,number_of_conversation):\n",
    "        if (quad == 1):\n",
    "            inc = rand_low()\n",
    "            sub = rand_low()\n",
    "\n",
    "        if (quad == 2):\n",
    "            inc = rand_low()\n",
    "            sub = rand_high()\n",
    "\n",
    "        if (quad == 3):\n",
    "            inc = rand_high()\n",
    "            sub = rand_high()\n",
    "\n",
    "        if (quad == 4):\n",
    "            inc = rand_high()\n",
    "            sub = rand_low()\n",
    "            \n",
    "        inc_list.append(inc)\n",
    "        sub_list.append(sub)\n",
    "    return size_list, inc_list, sub_list"
   ]
  },
  {
   "cell_type": "code",
   "execution_count": 11,
   "id": "d607a5f9-c560-47ae-b962-56542e861da2",
   "metadata": {},
   "outputs": [],
   "source": [
    "size_list, inc_list, sub_list = inc_sub_quad(2,number_of_conversation)"
   ]
  },
  {
   "cell_type": "code",
   "execution_count": 3,
   "id": "5f1c96bc-fd8c-4e4e-ab17-4085d8fc6e03",
   "metadata": {},
   "outputs": [
    {
     "name": "stdout",
     "output_type": "stream",
     "text": [
      "╙── 0\n",
      "    ├─╼ 3\n",
      "    └─╼ 4\n",
      "        ├─╼ 6\n",
      "        │   ├─╼ 1\n",
      "        │   ├─╼ 2\n",
      "        │   └─╼ 7\n",
      "        │       └─╼ 8\n",
      "        │           └─╼ 5\n",
      "        └─╼ 9\n"
     ]
    }
   ],
   "source": [
    "import networkx as nx\n",
    "tree = nx.random_tree(n=10, seed=0, create_using=nx.DiGraph)\n",
    "\n",
    "print(nx.forest_str(tree, sources=[0]))"
   ]
  },
  {
   "cell_type": "code",
   "execution_count": 14,
   "id": "7361c964-6730-4551-9523-5eddce05a7a1",
   "metadata": {},
   "outputs": [],
   "source": [
    "def create_tree(size_list):\n",
    "    tree_list = []\n",
    "    for size in size_list:\n",
    "        tree = nx.random_tree(n=size, seed=0, create_using=nx.DiGraph)\n",
    "        tree_list.append(tree)\n",
    "    return tree_list"
   ]
  },
  {
   "cell_type": "code",
   "execution_count": 15,
   "id": "1dc0577c-de78-40c1-9ecb-fc7d94538339",
   "metadata": {},
   "outputs": [],
   "source": [
    "tree_list = create_tree(size_list)"
   ]
  },
  {
   "cell_type": "code",
   "execution_count": 38,
   "id": "4dcb4a3f-e882-42f0-a53e-732465bc8ee7",
   "metadata": {},
   "outputs": [],
   "source": [
    "def assign_labels(size_list, inc_list, sub_list, tree_list):\n",
    "    for n,tree in enumerate(tree_list):\n",
    "        node_dict={}\n",
    "        # nodes = nodes(tree)\n",
    "        size = size_list[n]\n",
    "        inc = inc_list[n]\n",
    "        sub = sub_list[n]\n",
    "        nodes_inc = int(np.round(inc*size))\n",
    "        nodes_sub = int(np.round(sub*size))\n",
    "        seq_inc = np.random.randint(0,size,nodes_inc)\n",
    "        seq_sub = np.random.randint(0,size,nodes_sub)\n",
    "        for s in range(0,size):\n",
    "            if s in seq_inc:\n",
    "                inc_stat = \"incivil\"\n",
    "            else:\n",
    "                inc_stat = \"civil\"\n",
    "            if s in seq_sub:\n",
    "                sub_stat = \"substantive\"\n",
    "            else:\n",
    "                sub_stat = \"non_substantive\"\n",
    "            node_dict[s] = {\"inc\":inc_stat, \"sub\":sub_stat}\n",
    "        nx.set_node_attributes(tree, node_dict)\n",
    "    \n",
    "            "
   ]
  },
  {
   "cell_type": "code",
   "execution_count": 39,
   "id": "513eaa6a-aee8-45ca-83fe-35e2743c2165",
   "metadata": {},
   "outputs": [],
   "source": [
    "assign_labels(size_list,inc_list,sub_list,tree_list)"
   ]
  },
  {
   "cell_type": "code",
   "execution_count": 42,
   "id": "b315dca6-f429-4ace-b641-8e78b5774c99",
   "metadata": {},
   "outputs": [],
   "source": [
    "color = nx.get_node_attributes(tree_list[0], \"sub\")"
   ]
  },
  {
   "cell_type": "code",
   "execution_count": 5,
   "id": "91181594-07f9-492a-8e5a-1386da06141f",
   "metadata": {},
   "outputs": [],
   "source": [
    "### Non aggressive method of deletion :  Real Data"
   ]
  },
  {
   "cell_type": "code",
   "execution_count": 11,
   "id": "5728ea6d-fe86-4b24-9664-a5cd97e821b1",
   "metadata": {},
   "outputs": [],
   "source": [
    "import pickle\n",
    "from collections import Counter\n",
    "import seaborn as sns\n",
    "import matplotlib.pyplot as plt\n",
    "import numpy as np\n",
    "plt.style.use('seaborn')\n",
    "import pandas as pd\n",
    "from scipy import stats\n",
    "import copy\n",
    "import random\n",
    "from random import sample\n",
    "from scipy import stats"
   ]
  },
  {
   "cell_type": "code",
   "execution_count": 97,
   "id": "a3c2e5c8-8eb4-4a06-be41-661d3986d6fe",
   "metadata": {},
   "outputs": [],
   "source": [
    "data_new = pickle.load(open(\"conv_temporal_det.pk\", \"rb\"))"
   ]
  },
  {
   "cell_type": "code",
   "execution_count": 98,
   "id": "dd862c67-1fbf-440f-be3e-31b706906fda",
   "metadata": {},
   "outputs": [
    {
     "name": "stdout",
     "output_type": "stream",
     "text": [
      "0.19916832712466429\n"
     ]
    }
   ],
   "source": [
    "all_convo_inc=[]\n",
    "all_convo_sub=[]\n",
    "c=0\n",
    "for data in data_new:\n",
    "    all_convo_inc.extend(data_new[data][\"incivility_temporal\"])\n",
    "    all_convo_sub.extend(data_new[data][\"annotation_temporal\"])\n",
    "    \n",
    "for i,n in enumerate(all_convo_inc):\n",
    "    if (n==1.0):\n",
    "        # if(all_convo_sub[i]==\"L3\" or all_convo_sub[i]==\"L3\"):\n",
    "            c+=1\n",
    "            \n",
    "print(c/len(all_convo_inc))"
   ]
  },
  {
   "cell_type": "code",
   "execution_count": 99,
   "id": "89982c41-989d-42e3-b642-a929891ce1f3",
   "metadata": {},
   "outputs": [
    {
     "data": {
      "text/plain": [
       "11543"
      ]
     },
     "execution_count": 99,
     "metadata": {},
     "output_type": "execute_result"
    }
   ],
   "source": [
    "len(all_convo_inc)"
   ]
  },
  {
   "cell_type": "code",
   "execution_count": 108,
   "id": "b6301e58-f7d4-4fe2-b4f1-e3ab092916a9",
   "metadata": {},
   "outputs": [],
   "source": [
    "def index(l):\n",
    "    idx = [i for i,val in enumerate(l) if val==1.0]\n",
    "    return idx\n",
    "\n",
    "def delete_multiple_element(list_object, indices):\n",
    "    indices = sorted(indices, reverse=True)\n",
    "    for idx in indices:\n",
    "        if idx < len(list_object):\n",
    "            list_object.pop(idx)\n",
    "    return list_object"
   ]
  },
  {
   "cell_type": "code",
   "execution_count": 119,
   "id": "63799c27-682f-4b9d-9207-1dfa18cb4498",
   "metadata": {},
   "outputs": [],
   "source": [
    "def inc_removal(data_new):\n",
    "\n",
    "    rep_removal_inc={}\n",
    "    rep_removal_sub={}\n",
    "    sub_frac=[]\n",
    "    inc_frac=[]\n",
    "    for data in data_new:\n",
    "        idx = index(data_new[data][\"incivility_temporal\"])\n",
    "        # print(data_new[data][\"incivility_temporal\"])\n",
    "        # print(idx)\n",
    "        # sys.exit(0)\n",
    "        for i in range(0,len(idx)+1):\n",
    "            inc = copy.deepcopy(data_new[data][\"incivility_temporal\"])\n",
    "            sub = copy.deepcopy(data_new[data][\"annotation_temporal\"])\n",
    "            idx_to_delete = sample(idx,i)\n",
    "            if i != 0:\n",
    "                inc = delete_multiple_element(inc,idx_to_delete)\n",
    "                sub = delete_multiple_element(sub,idx_to_delete)\n",
    "            inc_count = Counter(inc)\n",
    "            sub_count = Counter(sub) \n",
    "            try:\n",
    "                inc_frac.append(inc_count[1.0]/len(inc))\n",
    "                sub_frac.append((sub_count[\"L3\"]+sub_count[\"L4\"])/len(sub))\n",
    "            except:\n",
    "                inc_frac.append(None)\n",
    "                sub_frac.append(None)\n",
    "        rep_removal_sub[data]=sub_frac\n",
    "        rep_removal_inc[data]=inc_frac\n",
    "        sub_frac=[]\n",
    "        inc_frac=[]\n",
    "    return rep_removal_sub, rep_removal_inc"
   ]
  },
  {
   "cell_type": "code",
   "execution_count": 116,
   "id": "412dea3f-e1de-4bfb-8c9e-8bf1dcb1d2f1",
   "metadata": {},
   "outputs": [],
   "source": [
    "def inc_binning(data_new, percent):\n",
    "    rep_removal_sub, rep_removal_inc = inc_removal(data_new)\n",
    "    inc_dict={}\n",
    "    sub_dict={}\n",
    "    for val in percent:\n",
    "        inc_val=[]\n",
    "        sub_val=[]\n",
    "        for i in data_new:\n",
    "            inc_count = Counter(data_new[i][\"incivility_temporal\"])\n",
    "            num_nodes = int(np.ceil((val/100) * inc_count[1.0]))\n",
    "            inc_val.append(rep_removal_inc[i][num_nodes])\n",
    "            sub_val.append(rep_removal_sub[i][num_nodes])  \n",
    "        inc_dict[val] = inc_val\n",
    "        sub_dict[val] = sub_val\n",
    "    return inc_dict,sub_dict"
   ]
  },
  {
   "cell_type": "code",
   "execution_count": 117,
   "id": "84e9e920-4fac-4a8d-bf19-fff87a7b1b45",
   "metadata": {},
   "outputs": [],
   "source": [
    "def graphs_and_pearson(data_new):\n",
    "    percent = np.arange(0,105,5)\n",
    "    inc_dict,sub_dict = inc_binning(data_new, percent)\n",
    "    inc_list=[]\n",
    "    sub_list=[]\n",
    "    bin_val=[]\n",
    "    pearson =[]\n",
    "    for i in percent:\n",
    "        if i%5 == 0:\n",
    "            inc_list.extend(inc_dict[i])\n",
    "            sub_list.extend(sub_dict[i])   \n",
    "            try:\n",
    "                pearson.append(stats.pearsonr(inc_dict[i],sub_dict[i]))\n",
    "            except:\n",
    "                temp_inc=[]\n",
    "                temp_sub=[]\n",
    "                for j,val in enumerate(inc_dict[i]):\n",
    "                    if val!=None or sub_dict[i][j]!=None:\n",
    "                        temp_inc.append(val)\n",
    "                        temp_sub.append(sub_dict[i][j])\n",
    "                pearson.append(stats.pearsonr(temp_inc,temp_sub))\n",
    "            bin_val.extend([i]*len(inc_dict[i]))\n",
    "    return inc_list,sub_list,pearson,bin_val"
   ]
  },
  {
   "cell_type": "code",
   "execution_count": 120,
   "id": "d06775b4-d5cd-406f-a3aa-9ab86537fd1b",
   "metadata": {},
   "outputs": [
    {
     "name": "stdout",
     "output_type": "stream",
     "text": [
      "[0.0, 1.0, 0.0, 0.0]\n",
      "[1]\n"
     ]
    },
    {
     "ename": "SystemExit",
     "evalue": "0",
     "output_type": "error",
     "traceback": [
      "An exception has occurred, use %tb to see the full traceback.\n",
      "\u001b[1;31mSystemExit\u001b[0m\u001b[1;31m:\u001b[0m 0\n"
     ]
    }
   ],
   "source": [
    "pearson_list=[]\n",
    "for i in range(0,100):\n",
    "    np.random.seed(i)\n",
    "    inc_list,sub_list,pearson,bin_val = graphs_and_pearson(data_new)\n",
    "    pearson_list.append(pearson)\n",
    "df = pd.DataFrame({\"inc\":inc_list,\"sub\":sub_list,\"bin\":bin_val})"
   ]
  },
  {
   "cell_type": "code",
   "execution_count": 43,
   "id": "4b4d0493-3c99-4ac2-bf0e-23e1d6dea838",
   "metadata": {},
   "outputs": [],
   "source": [
    "df.to_csv(\"sample.csv\")"
   ]
  },
  {
   "cell_type": "code",
   "execution_count": 22,
   "id": "d637c70b-fb77-4b02-906d-2b2383dfd722",
   "metadata": {},
   "outputs": [],
   "source": [
    "bin_pearson = {}\n",
    "\n",
    "for i in range(0,len(pearson_list[0])):\n",
    "    bin_pearson[i] = [item[i] for item in pearson_list]"
   ]
  },
  {
   "cell_type": "code",
   "execution_count": 23,
   "id": "d896fdf8-c728-461a-aba2-aabe80705712",
   "metadata": {},
   "outputs": [],
   "source": [
    "r_mean_list=[]\n",
    "r_std_list=[]\n",
    "p_mean_list=[]\n",
    "p_std_list=[]\n",
    "\n",
    "for i in bin_pearson:\n",
    "    r = [item[0] for item in bin_pearson[i]]\n",
    "    r_mean = np.mean(r)\n",
    "    r_std = np.std(r)\n",
    "    r_mean_list.append(r_mean)\n",
    "    r_std_list.append(r_std)\n",
    "    p = [item[1] for item in bin_pearson[i]]\n",
    "    p_mean = np.mean(p)\n",
    "    p_std = np.std(p)\n",
    "    p_mean_list.append(p_mean)\n",
    "    p_std_list.append(p_std)"
   ]
  },
  {
   "cell_type": "code",
   "execution_count": 29,
   "id": "066df758-6fe1-49a2-a319-d0c01ce1e315",
   "metadata": {},
   "outputs": [
    {
     "name": "stdout",
     "output_type": "stream",
     "text": [
      "Bin=0, r=0.08051862935746225, p-value=0.12413657573378648\n",
      "Bin=5, r=-0.052457307195381726, p-value=0.3169120425235569\n",
      "Bin=10, r=-0.04899209965630558, p-value=0.3499793784918842\n",
      "Bin=15, r=-0.05026558416200341, p-value=0.3375818641015722\n",
      "Bin=20, r=-0.0483626777916818, p-value=0.35621175717580933\n",
      "Bin=25, r=-0.03766695822686, p-value=0.47250986039683013\n",
      "Bin=30, r=-0.02951135863621901, p-value=0.573586839320518\n",
      "Bin=35, r=-0.041197497828575895, p-value=0.4319892512497688\n",
      "Bin=40, r=-0.038036120006152176, p-value=0.46817770258970737\n",
      "Bin=45, r=-0.02621258093410102, p-value=0.6171830187059992\n",
      "Bin=50, r=-0.020276432805845835, p-value=0.6990347114112585\n",
      "Bin=55, r=-0.13090697420617253, p-value=0.012429105359044939\n",
      "Bin=60, r=-0.11506996813021174, p-value=0.02815352386199699\n",
      "Bin=65, r=-0.11886156746422662, p-value=0.023330428755979602\n",
      "Bin=70, r=-0.1424461606013686, p-value=0.00655827731074637\n",
      "Bin=75, r=-0.13231015913434443, p-value=0.011627398470681493\n",
      "Bin=80, r=-0.1528113727084739, p-value=0.003516457981124747\n",
      "Bin=85, r=-0.13698626901168257, p-value=0.008968106240631555\n",
      "Bin=90, r=-0.1163073554934357, p-value=0.026702799757511712\n",
      "Bin=95, r=-0.04786091507763936, p-value=0.36321869300822573\n",
      "Bin=100, r=nan, p-value=nan\n"
     ]
    }
   ],
   "source": [
    "for i,n in enumerate(p_mean_list):\n",
    "    print(\"Bin=\"+str(i*5)+\", r=\"+str(r_mean_list[i])+\", p-value=\"+str(n))"
   ]
  },
  {
   "cell_type": "code",
   "execution_count": 20,
   "id": "5c021ca1-0b54-4241-b443-c451d4b9c32f",
   "metadata": {},
   "outputs": [
    {
     "name": "stdout",
     "output_type": "stream",
     "text": [
      "[0.0, 0.0, 0.0, 0.0, 0.0, 0.0, 0.0, 0.0, 0.0, 0.0, 0.0]\n",
      "[0.0, 0.0, 0.0, 0.0, 0.0, 0.0, 0.0, 0.0, 0.0, 0.0, 0.0]\n"
     ]
    }
   ],
   "source": [
    "print(r_std_list)\n",
    "print(p_std_list)"
   ]
  },
  {
   "cell_type": "code",
   "execution_count": 46,
   "id": "9705adc0-b6a8-4a92-a61e-a6397a00225b",
   "metadata": {},
   "outputs": [
    {
     "data": {
      "image/png": "[encoded data removed]",
      "text/plain": [
       "<Figure size 1152x720 with 1 Axes>"
      ]
     },
     "metadata": {},
     "output_type": "display_data"
    }
   ],
   "source": [
    "plt.rcParams['figure.figsize'] = (16.0, 10.0)\n",
    "\n",
    "# sns.scatterplot(x=[0,0,0],y=[0,5,10])\n",
    "sns.scatterplot(data=df, x=\"inc\", y=\"sub\", hue=\"bin\").set(xlabel=\"Incivility fraction\", ylabel=\"Substantiveness fraction\", title=\"Bin dentoes the percent of incivil nodes deleted\")\n",
    "\n",
    "plt.savefig(\"bin_removal_scatter.pdf\", bbox_inches='tight')"
   ]
  },
  {
   "cell_type": "code",
   "execution_count": 50,
   "id": "7d770cba-eecf-4500-a709-c7c4eefa965b",
   "metadata": {},
   "outputs": [
    {
     "name": "stdout",
     "output_type": "stream",
     "text": [
      "(0.08051862935746225, 0.12413657573378648)\n",
      "(-0.05081772859604077, 0.3322951115660259)\n",
      "(-0.043881805124983665, 0.40257011495034367)\n",
      "(-0.031462939970846475, 0.5484988583967656)\n",
      "(-0.03404745057948223, 0.5161275198921226)\n",
      "(-0.017090689299682334, 0.7445230913317504)\n",
      "(-0.11278051478410199, 0.03146184983922244)\n",
      "(-0.1353892571008891, 0.009808274089259625)\n",
      "(-0.16442509868847865, 0.001670347975861835)\n",
      "(-0.11534300563153752, 0.027996274690542985)\n",
      "(nan, nan)\n"
     ]
    }
   ],
   "source": [
    "for i in pearson:\n",
    "    print(i)"
   ]
  },
  {
   "cell_type": "code",
   "execution_count": null,
   "id": "44fb06a5-cb6b-469a-a4c1-795d5d568240",
   "metadata": {},
   "outputs": [],
   "source": [
    "# agressive method of deletion"
   ]
  },
  {
   "cell_type": "code",
   "execution_count": 1,
   "id": "4ab0ee35-e8d0-40e7-928c-5899cdd3cd68",
   "metadata": {},
   "outputs": [],
   "source": [
    "import networkx as nx"
   ]
  },
  {
   "cell_type": "code",
   "execution_count": 2,
   "id": "bd9413da-de5b-42b7-85b1-450e27fc5410",
   "metadata": {},
   "outputs": [],
   "source": [
    "imm_nx = nx.read_gexf(\"_conversations_relevant_modified_with_attributes.gexf\")"
   ]
  },
  {
   "cell_type": "code",
   "execution_count": 3,
   "id": "12733249-e33e-4d45-b5f3-e36896adfdd9",
   "metadata": {},
   "outputs": [],
   "source": [
    "subgraphs=list(imm_nx.subgraph(c) for c in nx.connected_components(imm_nx.to_undirected()))"
   ]
  },
  {
   "cell_type": "code",
   "execution_count": 10,
   "id": "18f26846-7280-4d01-95e4-dbcb056d6b66",
   "metadata": {},
   "outputs": [
    {
     "name": "stdout",
     "output_type": "stream",
     "text": [
      "True\n"
     ]
    }
   ],
   "source": [
    "# print(subgraphs[0].is_directed())"
   ]
  },
  {
   "cell_type": "code",
   "execution_count": 161,
   "id": "37ec7f2e-b6b2-445e-8499-626aa0a12c04",
   "metadata": {},
   "outputs": [
    {
     "ename": "AttributeError",
     "evalue": "'Graph' object has no attribute 'predecessors'",
     "output_type": "error",
     "traceback": [
      "\u001b[1;31m---------------------------------------------------------------------------\u001b[0m",
      "\u001b[1;31mAttributeError\u001b[0m                            Traceback (most recent call last)",
      "Input \u001b[1;32mIn [161]\u001b[0m, in \u001b[0;36m<cell line: 3>\u001b[1;34m()\u001b[0m\n\u001b[0;32m      9\u001b[0m \u001b[38;5;28;01mfor\u001b[39;00m i \u001b[38;5;129;01min\u001b[39;00m first_nodes:\n\u001b[0;32m     10\u001b[0m     choice \u001b[38;5;241m=\u001b[39m random\u001b[38;5;241m.\u001b[39mchoice(coin)\n\u001b[1;32m---> 11\u001b[0m     \u001b[38;5;28;01mif\u001b[39;00m (choice\u001b[38;5;241m==\u001b[39m\u001b[38;5;241m1\u001b[39m \u001b[38;5;129;01mand\u001b[39;00m attr_inc[i]\u001b[38;5;241m==\u001b[39m\u001b[38;5;241m1.0\u001b[39m \u001b[38;5;129;01mand\u001b[39;00m \u001b[38;5;28mlen\u001b[39m(\u001b[38;5;28mlist\u001b[39m(\u001b[43msg\u001b[49m\u001b[38;5;241;43m.\u001b[39;49m\u001b[43mpredecessors\u001b[49m(i)))\u001b[38;5;241m!=\u001b[39m\u001b[38;5;241m0\u001b[39m):\n\u001b[0;32m     12\u001b[0m         children \u001b[38;5;241m=\u001b[39m child(sg,\u001b[38;5;28mlist\u001b[39m(sg\u001b[38;5;241m.\u001b[39mpredecessors(i)),[])\n\u001b[0;32m     13\u001b[0m         mod_sg \u001b[38;5;241m=\u001b[39m del_nodes(sg,children)\n",
      "\u001b[1;31mAttributeError\u001b[0m: 'Graph' object has no attribute 'predecessors'"
     ]
    }
   ],
   "source": [
    "# mod_sg_list=[]\n",
    "# coin = [0,1]\n",
    "# for sg in subgraphs:\n",
    "#     mod_sg=sg\n",
    "#     attr_sub = nx.get_node_attributes(sg,\"label\")\n",
    "#     attr_inc = nx.get_node_attributes(sg,\"incivility\")\n",
    "#     root = [n for n,d in sg.out_degree() if d==0] \n",
    "#     first_nodes = list(sg.predecessors((root[0])))\n",
    "#     for i in first_nodes: # so far implementation is for only the 1st nodes.\n",
    "#         choice = random.choice(coin)\n",
    "#         if (choice==1 and attr_inc[i]==1.0 and len(list(sg.predecessors(i)))!=0):\n",
    "#             children = child(sg,list(sg.predecessors(i)),[])\n",
    "#             mod_sg = del_nodes(sg,children)\n",
    "#             sg=mod_sg # changing sg to mod_sg is creating problems\n",
    "#     mod_sg_list.append(mod_sg)\n",
    "        "
   ]
  },
  {
   "cell_type": "code",
   "execution_count": 157,
   "id": "941df332-80f9-45f9-97a5-ca35e21473e8",
   "metadata": {},
   "outputs": [
    {
     "data": {
      "text/plain": [
       "366"
      ]
     },
     "execution_count": 157,
     "metadata": {},
     "output_type": "execute_result"
    }
   ],
   "source": [
    "# len(mod_sg_list)"
   ]
  },
  {
   "cell_type": "code",
   "execution_count": 158,
   "id": "ba804ccc-0112-4160-8db1-48daa3a7d772",
   "metadata": {},
   "outputs": [
    {
     "data": {
      "text/plain": [
       "NodeView(('1255484280916115458', '1255272961331822593', '1255499209236717570', '1255274302750031872'))"
      ]
     },
     "execution_count": 158,
     "metadata": {},
     "output_type": "execute_result"
    }
   ],
   "source": [
    "# mod_sg_list[0].nodes"
   ]
  },
  {
   "cell_type": "code",
   "execution_count": 127,
   "id": "c02c9521-3d5a-427a-ab31-203d6113f2d4",
   "metadata": {},
   "outputs": [
    {
     "data": {
      "text/plain": [
       "NodeView(('1255484280916115458', '1255272961331822593', '1255499209236717570', '1255274302750031872'))"
      ]
     },
     "execution_count": 127,
     "metadata": {},
     "output_type": "execute_result"
    }
   ],
   "source": [
    "# subgraphs[0].nodes"
   ]
  },
  {
   "cell_type": "code",
   "execution_count": 82,
   "id": "c538255c-8597-4e52-b4aa-5c6a480727db",
   "metadata": {},
   "outputs": [],
   "source": [
    "# def child(sg,preds,children):\n",
    "#     if len(preds)==0:\n",
    "#         return children\n",
    "#     else:\n",
    "#         for i in preds:\n",
    "#             temp = (list(sg.predecessors(i)))\n",
    "#             children.append(temp)\n",
    "#             return child(sg,temp,children)\n"
   ]
  },
  {
   "cell_type": "code",
   "execution_count": 72,
   "id": "4eeb1473-7cb7-4e0e-a16b-3bbb9deac99d",
   "metadata": {},
   "outputs": [],
   "source": [
    "# def del_nodes(sg,children):\n",
    "#     nodes=[]\n",
    "#     for i in children:\n",
    "#         nodes.extend(i)\n",
    "#     x=nx.Graph(sg)\n",
    "#     x.remove_nodes_from(nodes)\n",
    "#     return x"
   ]
  },
  {
   "cell_type": "code",
   "execution_count": 84,
   "id": "b31f5184-c0ca-411f-a2c1-65b048adda60",
   "metadata": {},
   "outputs": [],
   "source": [
    "# # try 2 to delete sub tree - Amir's method\n",
    "\n",
    "# paths={}\n",
    "# all_paths=[]\n",
    "# coin = [0,1]\n",
    "# for c,sg in enumerate(subgraphs):\n",
    "#     attr_sub = nx.get_node_attributes(sg,\"label\")\n",
    "#     attr_inc = nx.get_node_attributes(sg,\"incivility\")\n",
    "#     root = [n for n,d in sg.out_degree() if d==0] \n",
    "#     first_nodes = list(sg.predecessors((root[0])))\n",
    "#     leaf_nodes = [n for n,d in sg.in_degree() if d==0]\n",
    "#     try:\n",
    "#         num_to_del = np.random.randint(0,len(first_nodes),1)\n",
    "#     except:\n",
    "#         num_to_del = 0\n",
    "#     if num_to_del!=0:\n",
    "#         nodes_to_del = np.random.randint(0,len(first_nodes),num_to_del)\n",
    "#         # nodes_to_del=[]\n",
    "#         for n,i in enumerate(first_nodes): \n",
    "#             if (n in nodes_to_del  and attr_inc[i]==1.0):\n",
    "#                 for j in leaf_nodes:\n",
    "#                     path = []\n",
    "#                     try:\n",
    "#                         path = nx.shortest_path(sg,j,i)\n",
    "#                         # print(path,j,i)\n",
    "#                     except:\n",
    "#                         continue\n",
    "#                     all_paths.append(path)\n",
    "#         paths[c]=all_paths\n",
    "#         all_paths=[]\n",
    "#     else:\n",
    "#         paths[c] = 0"
   ]
  },
  {
   "cell_type": "code",
   "execution_count": 104,
   "id": "7f5c2386-c5aa-47fe-963a-5a583f5b76b3",
   "metadata": {},
   "outputs": [],
   "source": [
    "# # try 2 to delete sub tree - Amir's method - biased coin\n",
    "\n",
    "# def get_degree_paths(sg,first_nodes,p): \n",
    "#     paths={}\n",
    "#     all_paths=[]\n",
    "#     for c,sg in enumerate(subgraphs):\n",
    "#         attr_sub = nx.get_node_attributes(sg,\"label\")\n",
    "#         attr_inc = nx.get_node_attributes(sg,\"incivility\")\n",
    "#         root = [n for n,d in sg.out_degree() if d==0] \n",
    "#         # first_nodes = list(sg.predecessors((root[0])))\n",
    "#         leaf_nodes = [n for n,d in sg.in_degree() if d==0]\n",
    "#         nodes_to_del=[]\n",
    "#         try:\n",
    "#             num_to_del = np.random.randint(0,len(first_nodes),1)\n",
    "#         except:\n",
    "#             num_to_del = 0\n",
    "#         if num_to_del!=0:\n",
    "#             for num in range(0,len(first_nodes)):\n",
    "#                 choice = random.random()\n",
    "#                 if choice <=p:\n",
    "#                     nodes_to_del.append(num)\n",
    "#             # nodes_to_del = np.random.randint(0,len(first_nodes),num_to_del)\n",
    "#             for n,i in enumerate(first_nodes): \n",
    "#                 if (n in nodes_to_del  and attr_inc[i]==1.0):\n",
    "#                     for j in leaf_nodes:\n",
    "#                         path = []\n",
    "#                         try:\n",
    "#                             path = nx.shortest_path(sg,j,i)\n",
    "#                             # print(path,j,i)\n",
    "#                         except:\n",
    "#                             continue\n",
    "#                         all_paths.append(path)\n",
    "#             if len(all_paths)!=0:\n",
    "#                 paths[c]=all_paths\n",
    "#                 all_paths=[]\n",
    "#             else:\n",
    "#                 paths[c]=0\n",
    "#         else:\n",
    "#             paths[c] = 0\n",
    "#     return paths"
   ]
  },
  {
   "cell_type": "code",
   "execution_count": 106,
   "id": "4106eef4-825e-4c26-b542-4bc0476952df",
   "metadata": {},
   "outputs": [],
   "source": [
    "# def id_nodes(paths):\n",
    "#     nodes = {}\n",
    "#     for i in paths:\n",
    "#         if paths[i]!=0:\n",
    "#             nodes[i] = [x for xs in paths[i] for x in xs]\n",
    "#         else:\n",
    "#             nodes[i]=0\n",
    "#     return nodes"
   ]
  },
  {
   "cell_type": "code",
   "execution_count": 107,
   "id": "62b1c4a4-a3e4-4fbe-b8d1-f428f1cae590",
   "metadata": {},
   "outputs": [],
   "source": [
    "# def create_modified_graphs(sugbraphs,nodes):\n",
    "#     new_graph={}\n",
    "#     for c,sg in enumerate(subgraphs):\n",
    "#         to_add_edges = []\n",
    "#         for edge in sg.edges:\n",
    "#             if nodes[c]!=0:\n",
    "#                 if (edge[0] not in nodes[c] and edge[1] not in nodes[c]):\n",
    "#                     to_add_edges.append(edge)\n",
    "#                 new_graph[c] = nx.DiGraph(to_add_edges)\n",
    "#             else:\n",
    "#                 new_graph[c] = nx.Graph(sg)\n",
    "#     return new_graph"
   ]
  },
  {
   "cell_type": "code",
   "execution_count": 108,
   "id": "7ae285bc-5af1-4f38-86f7-46217bd37c7a",
   "metadata": {},
   "outputs": [],
   "source": [
    "# def calc_inc_sub_frac(subgraphs,new_graph,bin_no)\n",
    "#     all_inc=[]\n",
    "#     all_sub=[]\n",
    "#     graph_type=[]\n",
    "#     org_inc_list=[]\n",
    "#     new_inc_list=[]\n",
    "#     org_sub_list=[]\n",
    "#     new_sub_list=[]\n",
    "#     for c,sg in enumerate(subgraphs):\n",
    "#         #add the levels thing here\n",
    "#         inc_org = list(nx.get_node_attributes(sg,\"incivility\").values())\n",
    "#         inc_new = list(nx.get_node_attributes(new_graph[c],\"incivility\").values())\n",
    "#         inc_org_count = Counter(inc_org)\n",
    "#         inc_new_count = Counter(inc_new)\n",
    "#         sub_org = list(nx.get_node_attributes(sg,\"label\").values())\n",
    "#         sub_new = list(nx.get_node_attributes(new_graph[c],\"label\").values())\n",
    "#         sub_org_count = Counter(sub_org)\n",
    "#         sub_new_count = Counter(sub_new)\n",
    "#         inc_org_frac = (inc_org_count[1.0]/len(inc_org)) if len(inc_org)!=0 else None\n",
    "#         inc_new_frac = (inc_new_count[1.0]/len(inc_new)) if len(inc_new)!=0 else None\n",
    "#         sub_org_frac = ((sub_org_count[\"L3\"] + sub_org_count[\"L4\"]) / len(sub_org)) if len(sub_org)!=0 else None\n",
    "#         sub_new_frac = ((sub_new_count[\"L3\"] + sub_new_count[\"L4\"]) / len(sub_new)) if len(sub_new)!=0 else None\n",
    "#         all_inc.append(inc_org_frac)\n",
    "#         all_inc.append(inc_new_frac)\n",
    "#         org_inc_list.append(inc_org_frac)\n",
    "#         if inc_new_frac!=None:\n",
    "#             new_inc_list.append(inc_new_frac)\n",
    "#         all_sub.append(sub_org_frac)\n",
    "#         all_sub.append(sub_new_frac)\n",
    "#         org_sub_list.append(sub_org_frac)\n",
    "#         if inc_new_frac!=None:\n",
    "#             new_sub_list.append(sub_new_frac)\n",
    "#         graph_type.append(bin_no)\n",
    "#         # graph_type.append(\"new\")"
   ]
  },
  {
   "cell_type": "code",
   "execution_count": 109,
   "id": "22b6007b-b7cf-4b1d-9e0f-afc1947f46fd",
   "metadata": {},
   "outputs": [
    {
     "data": {
      "text/plain": [
       "(0.08944957062996299, 0.0874797861159737)"
      ]
     },
     "execution_count": 109,
     "metadata": {},
     "output_type": "execute_result"
    }
   ],
   "source": [
    "stats.pearsonr(new_inc_list, new_sub_list)"
   ]
  },
  {
   "cell_type": "code",
   "execution_count": 102,
   "id": "88988eb8-87d5-41c2-83f7-0f28362b06e3",
   "metadata": {},
   "outputs": [
    {
     "data": {
      "text/plain": [
       "(0.08944957062996299, 0.0874797861159737)"
      ]
     },
     "execution_count": 102,
     "metadata": {},
     "output_type": "execute_result"
    }
   ],
   "source": [
    "stats.pearsonr(org_inc_list, org_sub_list)"
   ]
  },
  {
   "cell_type": "code",
   "execution_count": 55,
   "id": "0a6cee14-ce44-4e9c-b0b3-38541ef45add",
   "metadata": {},
   "outputs": [],
   "source": [
    "df = pd.DataFrame({\"inc\":all_inc, \"sub\":all_sub, \"type\":graph_type})"
   ]
  },
  {
   "cell_type": "code",
   "execution_count": 58,
   "id": "b41cff26-b42b-45c0-bd43-62d81640b5b6",
   "metadata": {},
   "outputs": [
    {
     "data": {
      "image/png": "[encoded data removed]",
      "text/plain": [
       "<Figure size 1152x720 with 1 Axes>"
      ]
     },
     "metadata": {},
     "output_type": "display_data"
    }
   ],
   "source": [
    "plt.rcParams['figure.figsize'] = (16.0, 10.0)\n",
    "\n",
    "# sns.scatterplot(x=[0,0,0],y=[0,5,10])\n",
    "sns.scatterplot(data=df, x=\"inc\", y=\"sub\", hue=\"type\").set(xlabel=\"Incivility fraction\", ylabel=\"Substantiveness fraction\", title=\"On randomly deleting 1st degree incivil nodes\")\n",
    "\n",
    "plt.savefig(\"bin_removal_scatter.pdf\", bbox_inches='tight')"
   ]
  },
  {
   "cell_type": "code",
   "execution_count": 110,
   "id": "549a9565-bdac-4cc0-ab74-3a67865a0373",
   "metadata": {},
   "outputs": [],
   "source": [
    "# def get_level_nodes(sg):\n",
    "#     # level_dict={}\n",
    "#     # for c,sg in enumerate(subgraphs):\n",
    "#     level_nodes={}\n",
    "#     root = [n for n,d in sg.out_degree() if d==0] \n",
    "#     level=0\n",
    "#     level_nodes[level]=root\n",
    "#     while (len(root)!=0):\n",
    "#         level+=1\n",
    "#         temp=[]\n",
    "#         for i in root:\n",
    "#             temp.extend(list(sg.predecessors((i))))\n",
    "#         if len(temp)!=0:\n",
    "#             level_nodes[level]=temp\n",
    "#         root=temp\n",
    "#     level_dict[c]=level_nodes\n",
    "#     return level_nodes"
   ]
  },
  {
   "cell_type": "code",
   "execution_count": 4,
   "id": "ffec97ce-ef61-40e8-a011-0f7fbc3057d4",
   "metadata": {},
   "outputs": [],
   "source": [
    "# try 2 to delete sub tree - Amir's method - biased coin\n",
    "\n",
    "def get_degree_paths(sg,first_nodes,p): \n",
    "    all_paths=[]\n",
    "    # for c,sg in enumerate(subgraphs):\n",
    "    attr_sub = nx.get_node_attributes(sg,\"label\")\n",
    "    attr_inc = nx.get_node_attributes(sg,\"incivility\")\n",
    "    root = [n for n,d in sg.out_degree() if d==0] \n",
    "    # first_nodes = list(sg.predecessors((root[0])))\n",
    "    leaf_nodes = [n for n,d in sg.in_degree() if d==0]\n",
    "    nodes_to_del=[]\n",
    "    for num in range(0,len(first_nodes)):\n",
    "        choice = random.random()\n",
    "        if choice <=p:\n",
    "            nodes_to_del.append(num)\n",
    "    # nodes_to_del = np.random.randint(0,len(first_nodes),num_to_del)\n",
    "    for n,i in enumerate(first_nodes): \n",
    "        if (n in nodes_to_del  and attr_inc[i]==1.0):\n",
    "            for j in leaf_nodes:\n",
    "                path = []\n",
    "                try:\n",
    "                    path = nx.shortest_path(sg,j,i)\n",
    "                    # print(path,j,i)\n",
    "                except:\n",
    "                    continue\n",
    "                all_paths.append(path)\n",
    "    if len(all_paths)!=0:\n",
    "        paths=all_paths\n",
    "        all_paths=[]\n",
    "    else:\n",
    "        paths=0\n",
    "    return paths"
   ]
  },
  {
   "cell_type": "code",
   "execution_count": 5,
   "id": "40195de7-de1d-45f3-9b57-cd22bf3ea26f",
   "metadata": {},
   "outputs": [],
   "source": [
    "def id_nodes(paths):\n",
    "    # nodes = {}\n",
    "    # for i in paths:\n",
    "    if paths!=0:\n",
    "        nodes = [x for xs in paths for x in xs]\n",
    "    else:\n",
    "        nodes=0\n",
    "    return nodes"
   ]
  },
  {
   "cell_type": "code",
   "execution_count": 6,
   "id": "0c1cd7e6-b3b8-4a2f-a57f-dcde57c5cb65",
   "metadata": {},
   "outputs": [],
   "source": [
    "def create_modified_graphs(sg,nodes):\n",
    "    # new_graph={}\n",
    "    # for c,sg in enumerate(subgraphs):\n",
    "    to_add_edges = []\n",
    "    for edge in sg.edges:\n",
    "        if nodes!=0:\n",
    "            if (edge[0] not in nodes and edge[1] not in nodes):\n",
    "                to_add_edges.append(edge)\n",
    "            new_graph = nx.DiGraph(to_add_edges)\n",
    "        else:\n",
    "            new_graph = nx.Graph(sg)\n",
    "    return new_graph"
   ]
  },
  {
   "cell_type": "code",
   "execution_count": 7,
   "id": "d70320cb-83d0-4276-8fa1-2acc2c560f89",
   "metadata": {},
   "outputs": [],
   "source": [
    "def get_level_nodes(sg):\n",
    "    # level_dict={}\n",
    "    # for c,sg in enumerate(subgraphs):\n",
    "    level_nodes={}\n",
    "    root = [n for n,d in sg.out_degree() if d==0] \n",
    "    level=0\n",
    "    level_nodes[level]=root\n",
    "    while (len(root)!=0):\n",
    "        level+=1\n",
    "        temp=[]\n",
    "        for i in root:\n",
    "            temp.extend(list(sg.predecessors((i))))\n",
    "        if len(temp)!=0:\n",
    "            level_nodes[level]=temp\n",
    "        root=temp\n",
    "    # level_dict[c]=level_nodes\n",
    "    return level_nodes"
   ]
  },
  {
   "cell_type": "code",
   "execution_count": 79,
   "id": "896f5f44-2865-4af2-ad67-364868c15703",
   "metadata": {},
   "outputs": [],
   "source": [
    "def calc_inc_sub_frac(subgraphs):\n",
    "    all_inc=[]\n",
    "    all_sub=[]\n",
    "    graph_type=[]\n",
    "    org_inc_list=[]\n",
    "    new_inc_list=[]\n",
    "    org_sub_list=[]\n",
    "    new_sub_list=[]\n",
    "    inc_sub_dict={}\n",
    "    tree_dict={}\n",
    "    for c,sg in enumerate(subgraphs):\n",
    "        level_nodes = get_level_nodes(sg)\n",
    "        level_inc_sub={}\n",
    "        level_tree_dict={}\n",
    "        for n,i in enumerate(level_nodes):\n",
    "            if(n!=0):\n",
    "                nodes = level_nodes[i]\n",
    "                paths = get_degree_paths(sg,nodes,0.7)\n",
    "                node_ids = id_nodes(paths)\n",
    "                new_graph = create_modified_graphs(sg,node_ids)\n",
    "        # inc_org = list(nx.get_node_attributes(sg,\"incivility\").values())\n",
    "                inc_new = list(nx.get_node_attributes(new_graph,\"incivility\").values())\n",
    "        # inc_org_count = Counter(inc_org)\n",
    "                inc_new_count = Counter(inc_new)\n",
    "        # sub_org = list(nx.get_node_attributes(sg,\"label\").values())\n",
    "                sub_new = list(nx.get_node_attributes(new_graph,\"label\").values())\n",
    "        # sub_org_count = Counter(sub_org)\n",
    "                sub_new_count = Counter(sub_new)\n",
    "        # inc_org_frac = (inc_org_count[1.0]/len(inc_org)) if len(inc_org)!=0 else None\n",
    "                inc_new_frac = (inc_new_count[1.0]/len(inc_new)) if len(inc_new)!=0 else None\n",
    "        # sub_org_frac = ((sub_org_count[\"L3\"] + sub_org_count[\"L4\"]) / len(sub_org)) if len(sub_org)!=0 else None\n",
    "                sub_new_frac = ((sub_new_count[\"L3\"] + sub_new_count[\"L4\"]) / len(sub_new)) if len(sub_new)!=0 else None\n",
    "                level_inc_sub[n] = [inc_new_frac,sub_new_frac]\n",
    "                level_tree_dict[n]=new_graph\n",
    "        inc_sub_dict[c] = level_inc_sub\n",
    "        tree_dict[c] = level_tree_dict\n",
    "    return inc_sub_dict,tree_dict"
   ]
  },
  {
   "cell_type": "code",
   "execution_count": 80,
   "id": "53d60496-7887-4a55-8f93-4b6ed2a8ff84",
   "metadata": {},
   "outputs": [],
   "source": [
    "def binning(subgraphs):\n",
    "    inc_sub_dict,tree_dict = calc_inc_sub_frac(subgraphs)\n",
    "    # percent = np.arange(10,110,10)\n",
    "    percent = np.arange(2,10,2)\n",
    "    binning_inc={}\n",
    "    binning_sub={}\n",
    "    bin_lengths={}\n",
    "    for i in percent:\n",
    "        inc_val=[]\n",
    "        sub_val=[]\n",
    "        diff_lengths=[]\n",
    "        for c,sg in enumerate(subgraphs):\n",
    "            l = int(np.ceil((i/100)*len(inc_sub_dict[c])))\n",
    "            inc_val.append(inc_sub_dict[c][l][0])\n",
    "            sub_val.append(inc_sub_dict[c][l][1])\n",
    "            diff_lengths.append(len(list(sg.nodes))-len(list(tree_dict[c][l].nodes)))\n",
    "        binning_inc[i]=inc_val\n",
    "        binning_sub[i]=sub_val\n",
    "        bin_lengths[i]=diff_lengths\n",
    "    return binning_inc, binning_sub, bin_lengths"
   ]
  },
  {
   "cell_type": "code",
   "execution_count": 81,
   "id": "49c8e5e0-c4a2-4d0f-84dc-5d0b6acab282",
   "metadata": {},
   "outputs": [
    {
     "name": "stdout",
     "output_type": "stream",
     "text": [
      "CPU times: total: 26min 53s\n",
      "Wall time: 27min 2s\n"
     ]
    }
   ],
   "source": [
    "%%time\n",
    "\n",
    "pearson_list=[]\n",
    "mean_list=[]\n",
    "for seed in range(0,100):\n",
    "    np.random.seed(seed)\n",
    "    # print(seed)\n",
    "    pearson=[]\n",
    "    mean_bin=[]\n",
    "    binning_inc, binning_sub, bin_lengths = binning(subgraphs)\n",
    "    for i in binning_inc:\n",
    "        mean_bin.append(np.mean(bin_lengths[i]))\n",
    "        inc=[]\n",
    "        sub=[]\n",
    "        for n,j in enumerate(binning_inc[i]):\n",
    "            if j!=None or binning_sub[i][n]!=None:\n",
    "                inc.append(j)\n",
    "                sub.append(binning_sub[i][n])\n",
    "        pearson.append(stats.pearsonr(inc,sub))\n",
    "    mean_list.append(mean_bin)\n",
    "    pearson_list.append(pearson)"
   ]
  },
  {
   "cell_type": "code",
   "execution_count": 82,
   "id": "6af10322-882a-46cf-9bae-783371d560d6",
   "metadata": {},
   "outputs": [],
   "source": [
    "bin_nodes_del = {}\n",
    "\n",
    "for i in range(0,len(mean_list[0])):\n",
    "    bin_nodes_del[i] = [item[i] for item in mean_list]"
   ]
  },
  {
   "cell_type": "code",
   "execution_count": 83,
   "id": "afbeaca9-8bcd-4e6a-bedd-995856b408aa",
   "metadata": {},
   "outputs": [
    {
     "name": "stdout",
     "output_type": "stream",
     "text": [
      "4.451338797814207 0.13947957375372416\n",
      "4.3845355191256825 0.12152827326995737\n",
      "4.198770491803279 0.0889287601126203\n",
      "4.150491803278689 0.09030844521227242\n"
     ]
    }
   ],
   "source": [
    "for i in bin_nodes_del:\n",
    "    print(np.mean(bin_nodes_del[i]),np.std(bin_nodes_del[i]))"
   ]
  },
  {
   "cell_type": "code",
   "execution_count": 84,
   "id": "b5309155-d26a-45d4-8cf0-a84453980665",
   "metadata": {},
   "outputs": [],
   "source": [
    "bin_pearson = {}\n",
    "\n",
    "for i in range(0,len(pearson_list[0])):\n",
    "    bin_pearson[i] = [item[i] for item in pearson_list]"
   ]
  },
  {
   "cell_type": "code",
   "execution_count": 85,
   "id": "34ee1ea2-0323-4c43-9404-cb1b6533838a",
   "metadata": {},
   "outputs": [],
   "source": [
    "r_mean_list=[]\n",
    "r_std_list=[]\n",
    "p_mean_list=[]\n",
    "p_std_list=[]\n",
    "\n",
    "for i in bin_pearson:\n",
    "    r = [item[0] for item in bin_pearson[i]]\n",
    "    r_mean = np.mean(r)\n",
    "    r_std = np.std(r)\n",
    "    r_mean_list.append(r_mean)\n",
    "    r_std_list.append(r_std)\n",
    "    p = [item[1] for item in bin_pearson[i]]\n",
    "    p_mean = np.mean(p)\n",
    "    p_std = np.std(p)\n",
    "    p_mean_list.append(p_mean)\n",
    "    p_std_list.append(p_std)"
   ]
  },
  {
   "cell_type": "code",
   "execution_count": 86,
   "id": "3d9675e7-25ba-475b-94d6-6fb48214230a",
   "metadata": {},
   "outputs": [
    {
     "name": "stdout",
     "output_type": "stream",
     "text": [
      "Bin=0, r=0.203480446990577, p-value=0.04097488045488529\n",
      "Bin=10, r=0.1850754767229355, p-value=0.061910430761330695\n",
      "Bin=20, r=0.18449091426800307, p-value=0.060099788115852384\n",
      "Bin=30, r=0.177308301500123, p-value=0.06916969126424222\n"
     ]
    }
   ],
   "source": [
    "for i,n in enumerate(p_mean_list):\n",
    "    print(\"Bin=\"+str(i*10)+\", r=\"+str(r_mean_list[i])+\", p-value=\"+str(n))"
   ]
  },
  {
   "cell_type": "code",
   "execution_count": 87,
   "id": "cec3f3c7-8c69-4c38-a5b3-02c91dfeb166",
   "metadata": {},
   "outputs": [
    {
     "name": "stdout",
     "output_type": "stream",
     "text": [
      "Bin=0, r=0.03944705524080122, p-value=0.0622922578477753\n",
      "Bin=10, r=0.03979703122054126, p-value=0.07914777327910437\n",
      "Bin=20, r=0.03972447014123068, p-value=0.07801960583415883\n",
      "Bin=30, r=0.04013359412284154, p-value=0.09006248933934133\n"
     ]
    }
   ],
   "source": [
    "for i,n in enumerate(p_std_list):\n",
    "    print(\"Bin=\"+str(i*10)+\", r=\"+str(r_std_list[i])+\", p-value=\"+str(n))"
   ]
  },
  {
   "cell_type": "code",
   "execution_count": null,
   "id": "a39449bf-a8e0-4389-8074-0dab06c06201",
   "metadata": {},
   "outputs": [],
   "source": []
  }
 ],
 "metadata": {
  "kernelspec": {
   "display_name": "Python 3 (ipykernel)",
   "language": "python",
   "name": "python3"
  },
  "language_info": {
   "codemirror_mode": {
    "name": "ipython",
    "version": 3
   },
   "file_extension": ".py",
   "mimetype": "text/x-python",
   "name": "python",
   "nbconvert_exporter": "python",
   "pygments_lexer": "ipython3",
   "version": "3.9.13"
  }
 },
 "nbformat": 4,
 "nbformat_minor": 5
}
